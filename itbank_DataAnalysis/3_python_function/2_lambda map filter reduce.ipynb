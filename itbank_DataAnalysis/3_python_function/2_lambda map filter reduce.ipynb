{
 "cells": [
  {
   "cell_type": "markdown",
   "metadata": {
    "id": "tvXdn6MsQxYj"
   },
   "source": [
    "# 1\\. 함수는?\n",
    "\n",
    "- 일반적으로 함수도 데이터 타입의 하나다.\n",
    "- 파이썬의 모든 것은 데이터 형태로 사용할 수 있다.\n",
    "- 다음과 같은 기능을 하는 함수를 만들어 본다.\n",
    "\n",
    "- 제곱하는 함수\n",
    "  - 입력 : [  1,  2,  3] → 리턴 : [ 1, 4, 9]\n",
    "\n",
    "- 절대값을 구하는 함수\n",
    "  - 입력 : [ -1,  2, -3] → 리턴 : [ 1, 2, 3]\n",
    "\n",
    "- 둘다 집합 데이터를 입력 받아서 같은 위치의 원소를 연산하여 결과값을 만드는 함수다."
   ]
  },
  {
   "cell_type": "code",
   "execution_count": 1,
   "metadata": {},
   "outputs": [],
   "source": [
    "def get_squre_list(numbers):\n",
    "    result = []\n",
    "    for number in numbers:\n",
    "        result.append(number ** 2)\n",
    "    return result"
   ]
  },
  {
   "cell_type": "code",
   "execution_count": 2,
   "metadata": {},
   "outputs": [
    {
     "data": {
      "text/plain": [
       "[9, 16, 25]"
      ]
     },
     "execution_count": 2,
     "metadata": {},
     "output_type": "execute_result"
    }
   ],
   "source": [
    "get_squre_list([3, 4, -5])"
   ]
  },
  {
   "cell_type": "code",
   "execution_count": 3,
   "metadata": {},
   "outputs": [],
   "source": [
    "def get_absolute_list(numbers):\n",
    "    result = []\n",
    "    for number in numbers:\n",
    "        result.append(number if number > 0 \\\n",
    "                       else -number)\n",
    "    return result "
   ]
  },
  {
   "cell_type": "code",
   "execution_count": 4,
   "metadata": {},
   "outputs": [
    {
     "data": {
      "text/plain": [
       "[3, 4, 5]"
      ]
     },
     "execution_count": 4,
     "metadata": {},
     "output_type": "execute_result"
    }
   ],
   "source": [
    "get_absolute_list([3, 4, -5])"
   ]
  },
  {
   "cell_type": "markdown",
   "metadata": {
    "id": "LmIxf8-vbKyT"
   },
   "source": [
    "- 함수도 데이터 타입이다."
   ]
  },
  {
   "cell_type": "code",
   "execution_count": 5,
   "metadata": {},
   "outputs": [
    {
     "data": {
      "text/plain": [
       "function"
      ]
     },
     "execution_count": 5,
     "metadata": {},
     "output_type": "execute_result"
    }
   ],
   "source": [
    "type(get_squre_list)"
   ]
  },
  {
   "cell_type": "code",
   "execution_count": 6,
   "metadata": {},
   "outputs": [
    {
     "data": {
      "text/plain": [
       "[16, 25, 10000]"
      ]
     },
     "execution_count": 6,
     "metadata": {},
     "output_type": "execute_result"
    }
   ],
   "source": [
    "func = get_squre_list\n",
    "func([-4, 5, 100])"
   ]
  },
  {
   "cell_type": "code",
   "execution_count": 7,
   "metadata": {},
   "outputs": [
    {
     "data": {
      "text/plain": [
       "[4, 5, 100]"
      ]
     },
     "execution_count": 7,
     "metadata": {},
     "output_type": "execute_result"
    }
   ],
   "source": [
    "func = get_absolute_list\n",
    "func([-4, 5, 100])"
   ]
  },
  {
   "cell_type": "markdown",
   "metadata": {
    "id": "yK0525IKbbtC"
   },
   "source": [
    "- 함수를 매개변수 값으로 반환할 수 있다."
   ]
  },
  {
   "cell_type": "code",
   "execution_count": 8,
   "metadata": {},
   "outputs": [],
   "source": [
    "def squre(x):\n",
    "    return x ** 2\n",
    "\n",
    "def absolute(x):\n",
    "    return x if x > 0 else -x"
   ]
  },
  {
   "cell_type": "code",
   "execution_count": 9,
   "metadata": {},
   "outputs": [],
   "source": [
    "def apply_func_to_list(numbers, func):\n",
    "    result = []\n",
    "    for number in numbers:\n",
    "        result.append(func(number))\n",
    "        # 함수와 매개변수 처리\n",
    "    return result "
   ]
  },
  {
   "cell_type": "code",
   "execution_count": 11,
   "metadata": {},
   "outputs": [
    {
     "data": {
      "text/plain": [
       "[16, 25, 49]"
      ]
     },
     "execution_count": 11,
     "metadata": {},
     "output_type": "execute_result"
    }
   ],
   "source": [
    "apply_func_to_list([4,5,-7], squre)"
   ]
  },
  {
   "cell_type": "code",
   "execution_count": 12,
   "metadata": {},
   "outputs": [
    {
     "data": {
      "text/plain": [
       "[4, 5, 7]"
      ]
     },
     "execution_count": 12,
     "metadata": {},
     "output_type": "execute_result"
    }
   ],
   "source": [
    "apply_func_to_list([4,5,-7], absolute)"
   ]
  },
  {
   "cell_type": "markdown",
   "metadata": {
    "id": "WjQfsPkbb6mv"
   },
   "source": [
    "# 2\\. Lambda (람다)\n",
    "- 이름이 없는 익명의 inline 함수 정의한다.\n",
    "```\n",
    "구문\n",
    "lambda [parameters] : expression\n",
    "```"
   ]
  },
  {
   "cell_type": "code",
   "execution_count": 13,
   "metadata": {},
   "outputs": [],
   "source": [
    "def double(x):\n",
    "    return x * 2"
   ]
  },
  {
   "cell_type": "code",
   "execution_count": 14,
   "metadata": {},
   "outputs": [
    {
     "data": {
      "text/plain": [
       "<function __main__.double(x)>"
      ]
     },
     "execution_count": 14,
     "metadata": {},
     "output_type": "execute_result"
    }
   ],
   "source": [
    "double"
   ]
  },
  {
   "cell_type": "code",
   "execution_count": 15,
   "metadata": {},
   "outputs": [
    {
     "data": {
      "text/plain": [
       "<function __main__.<lambda>(x)>"
      ]
     },
     "execution_count": 15,
     "metadata": {},
     "output_type": "execute_result"
    }
   ],
   "source": [
    "lambda x:x * 2"
   ]
  },
  {
   "cell_type": "code",
   "execution_count": null,
   "metadata": {},
   "outputs": [
    {
     "data": {
      "text/plain": [
       "200"
      ]
     },
     "execution_count": 16,
     "metadata": {},
     "output_type": "execute_result"
    }
   ],
   "source": [
    "(lambda x:x * 2)(100)\n",
    "# (lambda 변수:표현식)(변수에 들어갈 값)"
   ]
  },
  {
   "cell_type": "code",
   "execution_count": 17,
   "metadata": {},
   "outputs": [
    {
     "data": {
      "text/plain": [
       "<function __main__.<lambda>(x, y)>"
      ]
     },
     "execution_count": 17,
     "metadata": {},
     "output_type": "execute_result"
    }
   ],
   "source": [
    "(lambda x, y: x * y)"
   ]
  },
  {
   "cell_type": "code",
   "execution_count": 18,
   "metadata": {},
   "outputs": [
    {
     "data": {
      "text/plain": [
       "30"
      ]
     },
     "execution_count": 18,
     "metadata": {},
     "output_type": "execute_result"
    }
   ],
   "source": [
    "(lambda x, y : x * y) (10, 3)"
   ]
  },
  {
   "cell_type": "code",
   "execution_count": 20,
   "metadata": {},
   "outputs": [
    {
     "name": "stdout",
     "output_type": "stream",
     "text": [
      "hello\n"
     ]
    }
   ],
   "source": [
    "(lambda : print('hello'))()"
   ]
  },
  {
   "cell_type": "code",
   "execution_count": null,
   "metadata": {},
   "outputs": [
    {
     "data": {
      "text/plain": [
       "6"
      ]
     },
     "execution_count": 21,
     "metadata": {},
     "output_type": "execute_result"
    }
   ],
   "source": [
    "double = lambda x : x * 2\n",
    "double(3)\n",
    "# (lambda x : x * 2)(3)"
   ]
  },
  {
   "cell_type": "markdown",
   "metadata": {
    "id": "gCBkNYuOc2FW"
   },
   "source": [
    "- 간단한 동작의 함수들은 lambda 로 만들어서 함수 호출 시 필요할 때 전달해 주는 형태로 활용한다."
   ]
  },
  {
   "cell_type": "code",
   "execution_count": 22,
   "metadata": {},
   "outputs": [
    {
     "data": {
      "text/plain": [
       "[-9, -63, 21]"
      ]
     },
     "execution_count": 22,
     "metadata": {},
     "output_type": "execute_result"
    }
   ],
   "source": [
    "apply_func_to_list([-3, -21, 7], lambda x: x * 3)"
   ]
  },
  {
   "cell_type": "code",
   "execution_count": 23,
   "metadata": {},
   "outputs": [
    {
     "data": {
      "text/plain": [
       "[3, 11, 6]"
      ]
     },
     "execution_count": 23,
     "metadata": {},
     "output_type": "execute_result"
    }
   ],
   "source": [
    "apply_func_to_list([3, -11, 6], \\\n",
    "        lambda x : x if x > 0 else -x)"
   ]
  },
  {
   "cell_type": "markdown",
   "metadata": {
    "id": "fkL99DqKdI1F"
   },
   "source": [
    "- lambda 는 여러 줄을 사용할 수 없다."
   ]
  },
  {
   "cell_type": "code",
   "execution_count": null,
   "metadata": {},
   "outputs": [
    {
     "ename": "NameError",
     "evalue": "name 'age' is not defined",
     "output_type": "error",
     "traceback": [
      "\u001b[31m---------------------------------------------------------------------------\u001b[39m",
      "\u001b[31mNameError\u001b[39m                                 Traceback (most recent call last)",
      "\u001b[36mCell\u001b[39m\u001b[36m \u001b[39m\u001b[32mIn[24]\u001b[39m\u001b[32m, line 1\u001b[39m\n\u001b[32m----> \u001b[39m\u001b[32m1\u001b[39m \u001b[38;5;28;01mlambda\u001b[39;00m name, age : \u001b[38;5;28mprint\u001b[39m(name), \u001b[38;5;28mprint\u001b[39m(\u001b[43mage\u001b[49m)\n",
      "\u001b[31mNameError\u001b[39m: name 'age' is not defined"
     ]
    }
   ],
   "source": [
    "# 여러 가지 기능을 할 수 없다.\n",
    "lambda name, age : print(name), print(age)"
   ]
  },
  {
   "cell_type": "code",
   "execution_count": null,
   "metadata": {},
   "outputs": [
    {
     "data": {
      "text/plain": [
       "<function __main__.<lambda>(name, age)>"
      ]
     },
     "execution_count": 25,
     "metadata": {},
     "output_type": "execute_result"
    }
   ],
   "source": [
    "lambda name, age : print(name, age)"
   ]
  },
  {
   "cell_type": "markdown",
   "metadata": {
    "id": "MiYKC90jdS6V"
   },
   "source": [
    "- map(), filter(), reduce() 에서 lambda 활용을 많이 한다.\n",
    "- map : n → n (n개의 입력을 받아 어떤 동작을 적용하여 n 개의 결과값을 생성한다)\n",
    "- filter : n → n' (n개의 입력을 받아 어떤 동작을 적용하여 n 보다 적거나 같은 수의 결과값을 생성한다.)\n",
    "- reduce : n → 1 (n개의 입력을 받아 어떤 동작을 적용하여 1개의 결과값을 생성한다.)"
   ]
  },
  {
   "cell_type": "markdown",
   "metadata": {
    "id": "ghIsQtiLfDzk"
   },
   "source": [
    "# 3\\. Map 함수\n",
    "- map 함수는 n개의 입력을 받으면 n개의 결과값을 반환한다.\n",
    "- 집합데이터에 ~~한 동작/연산을 수행/적용하는 함수를 세트로 주어 일괄로 처리할 수 있다.\n",
    "- 파이썬에는 이와 같은 일을 처리하는 함수가 있는데 바로 map 함수이다.\n",
    "```\n",
    "구문\n",
    "map(함수, iterable 데이터)\n",
    "```\n",
    "- map 함수의 데이터는 iterable 해야 하고 map 함수의 리턴값은 map 객체이고 이 또한 iterable 하다.\n",
    "- iterable 자료형 : list, set, dict, tuple, str 등이 있다.\n"
   ]
  },
  {
   "cell_type": "code",
   "execution_count": 3,
   "metadata": {},
   "outputs": [],
   "source": [
    "def square(x):\n",
    "    return x ** 2"
   ]
  },
  {
   "cell_type": "code",
   "execution_count": 4,
   "metadata": {},
   "outputs": [
    {
     "name": "stdout",
     "output_type": "stream",
     "text": [
      "<map object at 0x000002D9D49BF730>\n"
     ]
    }
   ],
   "source": [
    "m = map(square, [1,2,3])\n",
    "print(m)"
   ]
  },
  {
   "cell_type": "code",
   "execution_count": 5,
   "metadata": {},
   "outputs": [
    {
     "data": {
      "text/plain": [
       "[1, 4, 9]"
      ]
     },
     "execution_count": 5,
     "metadata": {},
     "output_type": "execute_result"
    }
   ],
   "source": [
    "list(m)"
   ]
  },
  {
   "cell_type": "code",
   "execution_count": 6,
   "metadata": {},
   "outputs": [
    {
     "data": {
      "text/plain": [
       "[1, 4, 9]"
      ]
     },
     "execution_count": 6,
     "metadata": {},
     "output_type": "execute_result"
    }
   ],
   "source": [
    "list(map(square, [1,2,3]))"
   ]
  },
  {
   "cell_type": "code",
   "execution_count": 7,
   "metadata": {},
   "outputs": [
    {
     "data": {
      "text/plain": [
       "['h', 'e', 'l', 'l', 'o']"
      ]
     },
     "execution_count": 7,
     "metadata": {},
     "output_type": "execute_result"
    }
   ],
   "source": [
    "# list(데이터) : 데이터를 list 변경\n",
    "list(\"hello\")"
   ]
  },
  {
   "cell_type": "code",
   "execution_count": 8,
   "metadata": {},
   "outputs": [
    {
     "data": {
      "text/plain": [
       "['H', 'E', 'L', 'L', 'O']"
      ]
     },
     "execution_count": 8,
     "metadata": {},
     "output_type": "execute_result"
    }
   ],
   "source": [
    "list(map(str.upper, \"hello\"))"
   ]
  },
  {
   "cell_type": "code",
   "execution_count": 9,
   "metadata": {},
   "outputs": [
    {
     "data": {
      "text/plain": [
       "[1, 4, 9, 16, 25]"
      ]
     },
     "execution_count": 9,
     "metadata": {},
     "output_type": "execute_result"
    }
   ],
   "source": [
    "list(map(lambda x:x**2, [1,2,3,4,5]))"
   ]
  },
  {
   "cell_type": "markdown",
   "metadata": {
    "id": "l05yPoe4g4sK"
   },
   "source": [
    "# 문제\n",
    "- 주어진 리스트의 멤버들을 제곱해서 음수값으로 추력\n",
    "- lambda와 map 을 이용해서 풀어보세요\n",
    "```\n",
    "[ 3, 2, -4] → [-9, -4, -16]\n",
    "```\n"
   ]
  },
  {
   "cell_type": "code",
   "execution_count": 10,
   "metadata": {},
   "outputs": [
    {
     "data": {
      "text/plain": [
       "[-9, -4, -16]"
      ]
     },
     "execution_count": 10,
     "metadata": {},
     "output_type": "execute_result"
    }
   ],
   "source": [
    "list(map(lambda x:-(x**2), [3, 2, -4]))"
   ]
  },
  {
   "cell_type": "code",
   "execution_count": 11,
   "metadata": {},
   "outputs": [
    {
     "data": {
      "text/plain": [
       "[-9, -4, -16]"
      ]
     },
     "execution_count": 11,
     "metadata": {},
     "output_type": "execute_result"
    }
   ],
   "source": [
    "list(map(\n",
    "    lambda x: -x,\n",
    "    map(lambda x: x **2, [3,2,-4])\n",
    "))"
   ]
  },
  {
   "cell_type": "markdown",
   "metadata": {
    "id": "PUkTCdROjZQw"
   },
   "source": [
    "# 문제\n",
    "- csv 파일 형태의 데이터를 아래와 같은 형태로 만들어 보세요.\n",
    "```python\n",
    "data = \"\"\"height,weight,label\n",
    "140,45,normal\n",
    "145,72,fat\n",
    "150,61,fat\n",
    "137,56,fat\n",
    "192,48,thin\n",
    "175,77,fat\"\"\"\n",
    "<결과값>\n",
    "[[140.0, 45.0, 'normal'],\n",
    "[145.0, 72.0, 'fat'],\n",
    "[150.0, 61.0, 'fat'],\n",
    "[137.0, 56.0, 'fat'],\n",
    "[192.0, 48.0, 'thin'],\n",
    "[175.0, 77.0, 'fat']]\n",
    "```"
   ]
  },
  {
   "cell_type": "markdown",
   "metadata": {
    "id": "Ind5KSjOj3DR"
   },
   "source": [
    "- 과정 Hint\n",
    "  - line 별로 나누기\n",
    "  - 나누어진 line 은 ',' 로 나누기\n",
    "  - 각 데이터의 숫자는 float 로, 문자는 그대로 저장"
   ]
  },
  {
   "cell_type": "code",
   "execution_count": 12,
   "metadata": {},
   "outputs": [],
   "source": [
    "data = \"\"\"height,weight,label\n",
    "140,45,normal\n",
    "145,72,fat\n",
    "150,61,fat\n",
    "137,56,fat\n",
    "192,48,thin\n",
    "175,77,fat\"\"\""
   ]
  },
  {
   "cell_type": "code",
   "execution_count": 15,
   "metadata": {},
   "outputs": [
    {
     "data": {
      "text/plain": [
       "'height,weight,label\\n140,45,normal\\n145,72,fat\\n150,61,fat\\n137,56,fat\\n192,48,thin\\n175,77,fat'"
      ]
     },
     "execution_count": 15,
     "metadata": {},
     "output_type": "execute_result"
    }
   ],
   "source": [
    "data"
   ]
  },
  {
   "cell_type": "code",
   "execution_count": 16,
   "metadata": {},
   "outputs": [
    {
     "data": {
      "text/plain": [
       "['height,weight,label',\n",
       " '140,45,normal',\n",
       " '145,72,fat',\n",
       " '150,61,fat',\n",
       " '137,56,fat',\n",
       " '192,48,thin',\n",
       " '175,77,fat']"
      ]
     },
     "execution_count": 16,
     "metadata": {},
     "output_type": "execute_result"
    }
   ],
   "source": [
    "lines = data.split(\"\\n\")\n",
    "lines"
   ]
  },
  {
   "cell_type": "code",
   "execution_count": 20,
   "metadata": {},
   "outputs": [],
   "source": [
    "f_tonum = lambda n : float(n) if n.isdigit() else n"
   ]
  },
  {
   "cell_type": "code",
   "execution_count": 24,
   "metadata": {},
   "outputs": [],
   "source": [
    "f_line = lambda line : list(map(f_tonum, \\\n",
    "                    line.strip().split(\",\")))"
   ]
  },
  {
   "cell_type": "code",
   "execution_count": 25,
   "metadata": {},
   "outputs": [
    {
     "data": {
      "text/plain": [
       "[['height', 'weight', 'label'],\n",
       " [140.0, 45.0, 'normal'],\n",
       " [145.0, 72.0, 'fat'],\n",
       " [150.0, 61.0, 'fat'],\n",
       " [137.0, 56.0, 'fat'],\n",
       " [192.0, 48.0, 'thin'],\n",
       " [175.0, 77.0, 'fat']]"
      ]
     },
     "execution_count": 25,
     "metadata": {},
     "output_type": "execute_result"
    }
   ],
   "source": [
    "list(map(f_line, lines))"
   ]
  },
  {
   "cell_type": "markdown",
   "metadata": {
    "id": "sfemmJrJoIcy"
   },
   "source": [
    "- if와 for문을 사용한다면"
   ]
  },
  {
   "cell_type": "code",
   "execution_count": null,
   "metadata": {},
   "outputs": [
    {
     "data": {
      "text/plain": [
       "[['height', 'weight', 'label'],\n",
       " [140.0, 45.0, 'normal'],\n",
       " [145.0, 72.0, 'fat'],\n",
       " [150.0, 61.0, 'fat'],\n",
       " [137.0, 56.0, 'fat'],\n",
       " [192.0, 48.0, 'thin'],\n",
       " [175.0, 77.0, 'fat']]"
      ]
     },
     "execution_count": 26,
     "metadata": {},
     "output_type": "execute_result"
    }
   ],
   "source": [
    "lines = data.split(\"\\n\")\n",
    "\n",
    "result = []\n",
    "\n",
    "for line in lines:\n",
    "    t_line = line.strip().split(\",\")\n",
    "\n",
    "    line_result = []\n",
    "\n",
    "    for t in t_line:\n",
    "        line_result.append(float(t) \\\n",
    "                         if t.isdigit() else t)\n",
    "    \n",
    "    result.append(line_result)\n",
    "\n",
    "result"
   ]
  },
  {
   "cell_type": "markdown",
   "metadata": {
    "id": "-IdDZ-aeom5F"
   },
   "source": [
    "# 4\\. filter 함수\n",
    "- n 개를 데이터는 filter 에 인자로 사용되는 함수에서 처리되는 과정에서 각각의 요소에 대해 참과 거짓 값을 반환한다.\n",
    "- 참을 반환하면 그 요소는 남게 되고, 거짓을 반환하면 그 요소는 제거된다.\n",
    "- filter 함수 결과는 filter 객체로 반환 되며, 이 객체 또한 iterable 하다.\n",
    "```\n",
    "구문\n",
    "filter(function, iterable)\n",
    "```"
   ]
  },
  {
   "cell_type": "markdown",
   "metadata": {
    "id": "S_0ZeQgap8p7"
   },
   "source": [
    "```\n",
    "입력 : [ 3. 7, 9 ]\n",
    "         ↓ ↓ ↓\n",
    "적용 :  multiple3\n",
    "         ↓ ↓ ↓\n",
    "반환 :   T  F  T\n",
    "         ↓   ↓\n",
    "최종 : [ 3,    9 ]\n",
    "```"
   ]
  },
  {
   "cell_type": "markdown",
   "metadata": {
    "id": "DgrV5yRBrzFY"
   },
   "source": [
    "# 5\\. reduce 함수\n",
    "- 함수를 사용해서 iterable을 집계연산을 통해 하나의 값을 반환한다.\n",
    "- initializer 는 주어지면 첫번째 인자로 추가된다.\n",
    "```\n",
    "구문\n",
    "functools.reduce(function, iterable[, initializer])\n",
    "```"
   ]
  },
  {
   "cell_type": "markdown",
   "metadata": {
    "id": "HAD4FuaKsodf"
   },
   "source": [
    "```\n",
    "[ 1 , 2 , 3 , 4 , 5]\n",
    "add(1,2)\n",
    "    add)3,3)\n",
    "       add)6, 4)\n",
    "          add(10, 5)\n",
    "```        "
   ]
  },
  {
   "cell_type": "markdown",
   "metadata": {
    "id": "A6tBSeCrtTQY"
   },
   "source": [
    "## initializer (초기값)\n",
    "\n"
   ]
  },
  {
   "cell_type": "markdown",
   "metadata": {
    "id": "9vpn-WxvuLQj"
   },
   "source": [
    "# 문제\n",
    "- reduce와 lambda 를 사용하여 최댓값을 찾아보세요.\n",
    "```\n",
    "dataset = [1,4,3,5,2]\n",
    "```"
   ]
  },
  {
   "cell_type": "markdown",
   "metadata": {
    "id": "-D9OD_DQujxs"
   },
   "source": [
    "# 문제\n",
    "- 각각의 아이템 수를 구해보세요\n",
    "```\n",
    "dataset = ['dog', 'dog', 'dog', 'cat', 'cat', 'bird']\n",
    "```"
   ]
  },
  {
   "cell_type": "markdown",
   "metadata": {
    "id": "Bgsq83MCvcTr"
   },
   "source": [
    "- map, filter 함수도 reduce 로 가능하다."
   ]
  }
 ],
 "metadata": {
  "colab": {
   "authorship_tag": "ABX9TyNMQ9OLAjt5/24s2UzQui4X",
   "provenance": []
  },
  "kernelspec": {
   "display_name": "Python 3",
   "name": "python3"
  },
  "language_info": {
   "codemirror_mode": {
    "name": "ipython",
    "version": 3
   },
   "file_extension": ".py",
   "mimetype": "text/x-python",
   "name": "python",
   "nbconvert_exporter": "python",
   "pygments_lexer": "ipython3",
   "version": "3.13.3"
  }
 },
 "nbformat": 4,
 "nbformat_minor": 0
}

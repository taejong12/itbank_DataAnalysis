{
 "cells": [
  {
   "cell_type": "markdown",
   "metadata": {
    "id": "UFojDcccRSzi"
   },
   "source": [
    "# 정규 표현식\n",
    "- 문자열 검색, 치환 등의 동작에 있어서 단순한 문자열 비교를 하는 것이 아니라 특정 패턴과 비교하고자 할 때 정규 표현식을 사용한다.\n",
    "- 주어진 문자열에서 패턴을 찾아내는 것을 패턴 매칭이라고 한다.\n",
    "- 사용자가 입력한 문자열 패턴 유효성 체크 등에 많이 사용된다.\n"
   ]
  },
  {
   "cell_type": "markdown",
   "metadata": {
    "id": "kQcDX4OjorXy"
   },
   "source": [
    "## 장단점\n",
    "- 장점 : 코드량 감소, 가의 대부분의 언어에서 공용으로 사용하여 다른 언어에서도 동일하게 사용가능\n",
    "- 단점 : 처음에는 배우기 어렵고, 코드 가독성이 떨어진다."
   ]
  },
  {
   "cell_type": "markdown",
   "metadata": {
    "id": "6TwSZsuAo6i8"
   },
   "source": [
    "## 정규 표현식 연습 사이트 추천\n",
    "- regexr.com : <https://regexr.com/>   \n",
    "- regexone.com : <https://regexone.com/>   \n",
    "- regexper.com : <https://regexper.com>\n",
    "\n"
   ]
  },
  {
   "cell_type": "markdown",
   "metadata": {
    "id": "thXrJNENpc3m"
   },
   "source": [
    "# 파이썬의 정규표현식 모듈 - re\n",
    "- 정규표현식 패턴 문자열을 re.complie로 만든 후 Pattern 객체를 생성한다.\n",
    "- Pattern 객체의 메소드를 사용하여 패턴 매칭(검색, 치환)등을 실행하여 Match 객채의 결과값을 얻는다."
   ]
  },
  {
   "cell_type": "markdown",
   "metadata": {
    "id": "mSvQgn_6p53J"
   },
   "source": [
    "##  정규표현식 설명\n",
    "|기호|설명|\n",
    "|:---:|---|\n",
    "|^|문자열 시작|\n",
    "|$|문자열 종료}\n",
    "|.|임의의 문자 [단 ‘'는 넣을 수 없습니다.]|\n",
    "|*|앞 문자가 0개 이상의 개수가 존재할 수 있습니다.|\n",
    "|+|앞 문자가 1개 이상의 개수가 존재할 수 있습니다.|\n",
    "|?|앞 문자가 없거나 하나 있을 수 있습니다.|\n",
    "|[]|문자의 집합이나 범위를 표현합니다. -기호를 통해 범위를 나타낼 수 있습니다. ^가 존재하면 not을 나타냅니다.|\n",
    "|{}|횟수 또는 범위를 나타냅니다.|\n",
    "|()|괄호안의 문자를 하나의 문자로 인식합니다. 그룹)\n",
    "|\\||패턴을 OR 연산을 수행할 때 사용합니다.|\n",
    "|\\s|공백 문자|\n",
    "|\\S|공백 문자가 아닌 나머지 문자|\n",
    "|\\w|알파벳이나 숫자|\n",
    "|\\W|알파벳이나 숫자를 제외한 문자|\n",
    "|\\d|[0-9] 숫자|\n",
    "|\\D|숫자를 제외한 모든 문자|"
   ]
  },
  {
   "cell_type": "code",
   "execution_count": null,
   "metadata": {},
   "outputs": [
    {
     "name": "stdout",
     "output_type": "stream",
     "text": [
      "re.compile('My....') <class 're.Pattern'>\n"
     ]
    }
   ],
   "source": [
    "import re\n",
    "\n",
    "regex = \"My....\"\n",
    "pat = re.compile(regex)\n",
    "print(pat, type(pat))"
   ]
  },
  {
   "cell_type": "code",
   "execution_count": 2,
   "metadata": {},
   "outputs": [
    {
     "data": {
      "text/plain": [
       "<re.Match object; span=(1, 7), match='My1234'>"
      ]
     },
     "execution_count": 2,
     "metadata": {},
     "output_type": "execute_result"
    }
   ],
   "source": [
    "strInput = '-My1234='\n",
    "pat.search(strInput)"
   ]
  },
  {
   "cell_type": "code",
   "execution_count": 3,
   "metadata": {},
   "outputs": [
    {
     "data": {
      "text/plain": [
       "['MyAlbu', 'MyGood', 'My Bir']"
      ]
     },
     "execution_count": 3,
     "metadata": {},
     "output_type": "execute_result"
    }
   ],
   "source": [
    "pat.findall('MyAlbum MyGoods My Birthday')"
   ]
  },
  {
   "cell_type": "code",
   "execution_count": 4,
   "metadata": {},
   "outputs": [
    {
     "data": {
      "text/plain": [
       "<callable_iterator at 0x1999f2f2800>"
      ]
     },
     "execution_count": 4,
     "metadata": {},
     "output_type": "execute_result"
    }
   ],
   "source": [
    "pat.finditer('MyAlbum MyGoods My Birthday')"
   ]
  },
  {
   "cell_type": "code",
   "execution_count": 5,
   "metadata": {},
   "outputs": [
    {
     "name": "stdout",
     "output_type": "stream",
     "text": [
      "<re.Match object; span=(0, 6), match='MyAlbu'>\n",
      "<re.Match object; span=(8, 14), match='MyGood'>\n",
      "<re.Match object; span=(16, 22), match='My Bir'>\n"
     ]
    }
   ],
   "source": [
    "for match in pat.finditer('MyAlbum MyGoods My Birthday'):\n",
    "    print(match)"
   ]
  },
  {
   "cell_type": "markdown",
   "metadata": {
    "id": "7mgkK95Xr27t"
   },
   "source": [
    "## Pattern 객체의 메서드\n",
    "|메서드명|설명|\n",
    "|:---:|---|\n",
    "|match()|문자열의 처음부터 정규식과 매치되는지 확인|\n",
    "|search()|문자열 전체를 검색하여 정규식과 매치되는지 확인|\n",
    "|findall()|정규식과 매치되는 모든 문자열을 list를 반환|\n",
    "|finditer()|정규식과 매치되는 모든 Match 결과들을 iterator로 반환|\n",
    "|sub()|정규식과 매칭되는 문자열을 치환|"
   ]
  },
  {
   "cell_type": "markdown",
   "metadata": {
    "id": "nd91_AIWuB6o"
   },
   "source": [
    "- match()"
   ]
  },
  {
   "cell_type": "code",
   "execution_count": 6,
   "metadata": {},
   "outputs": [
    {
     "name": "stdout",
     "output_type": "stream",
     "text": [
      "<re.Match object; span=(0, 6), match='python'>\n"
     ]
    }
   ],
   "source": [
    "pat = re.compile(\"python\")\n",
    "match = pat.match(\"python\")\n",
    "print(match)"
   ]
  },
  {
   "cell_type": "code",
   "execution_count": 7,
   "metadata": {},
   "outputs": [
    {
     "name": "stdout",
     "output_type": "stream",
     "text": [
      "None\n"
     ]
    }
   ],
   "source": [
    "match = pat.match(\"333 python\")\n",
    "print(match)"
   ]
  },
  {
   "cell_type": "code",
   "execution_count": 8,
   "metadata": {},
   "outputs": [
    {
     "name": "stdout",
     "output_type": "stream",
     "text": [
      "<re.Match object; span=(0, 6), match='python'>\n"
     ]
    }
   ],
   "source": [
    "match = pat.match(\"python 333\")\n",
    "print(match)"
   ]
  },
  {
   "cell_type": "markdown",
   "metadata": {
    "id": "V4pnoYx_uEdQ"
   },
   "source": [
    "- search()"
   ]
  },
  {
   "cell_type": "code",
   "execution_count": 10,
   "metadata": {},
   "outputs": [
    {
     "name": "stdout",
     "output_type": "stream",
     "text": [
      "<re.Match object; span=(0, 6), match='python'>\n"
     ]
    }
   ],
   "source": [
    "match = pat.search(\"python\")\n",
    "print(match)"
   ]
  },
  {
   "cell_type": "code",
   "execution_count": 11,
   "metadata": {},
   "outputs": [
    {
     "name": "stdout",
     "output_type": "stream",
     "text": [
      "<re.Match object; span=(4, 10), match='python'>\n"
     ]
    }
   ],
   "source": [
    "match = pat.search(\"333 python\")\n",
    "print(match)"
   ]
  },
  {
   "cell_type": "code",
   "execution_count": 12,
   "metadata": {},
   "outputs": [
    {
     "name": "stdout",
     "output_type": "stream",
     "text": [
      "<re.Match object; span=(4, 10), match='python'>\n"
     ]
    }
   ],
   "source": [
    "match = pat.search(\"111 python 222 python\")\n",
    "print(match)"
   ]
  },
  {
   "cell_type": "markdown",
   "metadata": {
    "id": "YZp5eh6Pt9PZ"
   },
   "source": [
    "- findall()"
   ]
  },
  {
   "cell_type": "code",
   "execution_count": 13,
   "metadata": {},
   "outputs": [
    {
     "name": "stdout",
     "output_type": "stream",
     "text": [
      "['python', 'python']\n"
     ]
    }
   ],
   "source": [
    "match = pat.findall(\"111 python 222 python\")\n",
    "print(match)"
   ]
  },
  {
   "cell_type": "code",
   "execution_count": 14,
   "metadata": {},
   "outputs": [
    {
     "data": {
      "text/plain": [
       "<re.Match object; span=(0, 4), match='life'>"
      ]
     },
     "execution_count": 14,
     "metadata": {},
     "output_type": "execute_result"
    }
   ],
   "source": [
    "pat = re.compile('[a-z]+')\n",
    "pat.search(\"life is too short\")"
   ]
  },
  {
   "cell_type": "code",
   "execution_count": 15,
   "metadata": {},
   "outputs": [
    {
     "data": {
      "text/plain": [
       "['life', 'is', 'too', 'short']"
      ]
     },
     "execution_count": 15,
     "metadata": {},
     "output_type": "execute_result"
    }
   ],
   "source": [
    "pat.findall(\"life is too short\")"
   ]
  },
  {
   "cell_type": "markdown",
   "metadata": {
    "id": "EpTHL96yuxib"
   },
   "source": [
    "- finditer()"
   ]
  },
  {
   "cell_type": "code",
   "execution_count": 16,
   "metadata": {},
   "outputs": [],
   "source": [
    "result = pat.finditer(\"life is too short\")"
   ]
  },
  {
   "cell_type": "code",
   "execution_count": 17,
   "metadata": {},
   "outputs": [
    {
     "name": "stdout",
     "output_type": "stream",
     "text": [
      "<re.Match object; span=(0, 4), match='life'>\n",
      "<re.Match object; span=(5, 7), match='is'>\n",
      "<re.Match object; span=(8, 11), match='too'>\n",
      "<re.Match object; span=(12, 17), match='short'>\n"
     ]
    }
   ],
   "source": [
    "for m in result:\n",
    "    print(m)"
   ]
  },
  {
   "cell_type": "markdown",
   "metadata": {
    "id": "f7n3laxnvOV1"
   },
   "source": [
    "## Match 객체 메서드\n",
    "\n",
    "|메서드|설명|\n",
    "|:---:|---|\n",
    "|group()|매치된 문자열을 반환한다.|\n",
    "|start()|매치된 문자열의 시작 위치를 반환한다.|\n",
    "|end()|매치된 문자열의 끝 위치를 반환한다.|\n",
    "|span()|매치된 문자열의 (시작, 끝)에 해당하는 튜플을 반환한다.|"
   ]
  },
  {
   "cell_type": "code",
   "execution_count": 18,
   "metadata": {},
   "outputs": [
    {
     "data": {
      "text/plain": [
       "<re.Match object; span=(0, 6), match='python'>"
      ]
     },
     "execution_count": 18,
     "metadata": {},
     "output_type": "execute_result"
    }
   ],
   "source": [
    "match = pat.match(\"python\")\n",
    "match"
   ]
  },
  {
   "cell_type": "code",
   "execution_count": 19,
   "metadata": {},
   "outputs": [
    {
     "name": "stdout",
     "output_type": "stream",
     "text": [
      "python\n",
      "0\n",
      "6\n",
      "(0, 6)\n"
     ]
    }
   ],
   "source": [
    "print(match.group())\n",
    "print(match.start())\n",
    "print(match.end())\n",
    "print(match.span())"
   ]
  },
  {
   "cell_type": "code",
   "execution_count": 20,
   "metadata": {},
   "outputs": [
    {
     "name": "stdout",
     "output_type": "stream",
     "text": [
      "python\n",
      "3\n",
      "9\n",
      "(3, 9)\n"
     ]
    }
   ],
   "source": [
    "mat = pat.search(\"33 python\")\n",
    "print(mat.group())\n",
    "print(mat.start())\n",
    "print(mat.end())\n",
    "print(mat.span())"
   ]
  },
  {
   "cell_type": "markdown",
   "metadata": {
    "id": "lFT9gi-1wLgb"
   },
   "source": [
    "## 패턴 안의 그룹"
   ]
  },
  {
   "cell_type": "code",
   "execution_count": 21,
   "metadata": {},
   "outputs": [],
   "source": [
    "pat = re.compile(r'^([\\d]{1,2}):([\\d]{1,2}):([\\d]{1,2})$')"
   ]
  },
  {
   "cell_type": "code",
   "execution_count": 22,
   "metadata": {},
   "outputs": [
    {
     "data": {
      "text/plain": [
       "<re.Match object; span=(0, 8), match='14:05:23'>"
      ]
     },
     "execution_count": 22,
     "metadata": {},
     "output_type": "execute_result"
    }
   ],
   "source": [
    "mat = pat.match(\"14:05:23\")\n",
    "mat"
   ]
  },
  {
   "cell_type": "code",
   "execution_count": 23,
   "metadata": {},
   "outputs": [
    {
     "name": "stdout",
     "output_type": "stream",
     "text": [
      "14:05:23\n",
      "0\n",
      "8\n",
      "(0, 8)\n"
     ]
    }
   ],
   "source": [
    "print(mat.group())\n",
    "print(mat.start())\n",
    "print(mat.end())\n",
    "print(mat.span())"
   ]
  },
  {
   "cell_type": "code",
   "execution_count": 24,
   "metadata": {},
   "outputs": [
    {
     "name": "stdout",
     "output_type": "stream",
     "text": [
      "14:05:23\n",
      "0\n",
      "8\n",
      "(0, 8)\n"
     ]
    }
   ],
   "source": [
    "print(mat.group(0))\n",
    "print(mat.start(0))\n",
    "print(mat.end(0))\n",
    "print(mat.span(0))"
   ]
  },
  {
   "cell_type": "code",
   "execution_count": 25,
   "metadata": {},
   "outputs": [
    {
     "name": "stdout",
     "output_type": "stream",
     "text": [
      "14\n",
      "0\n",
      "2\n",
      "(0, 2)\n"
     ]
    }
   ],
   "source": [
    "print(mat.group(1))\n",
    "print(mat.start(1))\n",
    "print(mat.end(1))\n",
    "print(mat.span(1))"
   ]
  },
  {
   "cell_type": "code",
   "execution_count": 26,
   "metadata": {},
   "outputs": [
    {
     "name": "stdout",
     "output_type": "stream",
     "text": [
      "05\n",
      "3\n",
      "5\n",
      "(3, 5)\n"
     ]
    }
   ],
   "source": [
    "print(mat.group(2))\n",
    "print(mat.start(2))\n",
    "print(mat.end(2))\n",
    "print(mat.span(2))"
   ]
  },
  {
   "cell_type": "code",
   "execution_count": 27,
   "metadata": {},
   "outputs": [
    {
     "name": "stdout",
     "output_type": "stream",
     "text": [
      "23\n",
      "6\n",
      "8\n",
      "(6, 8)\n"
     ]
    }
   ],
   "source": [
    "print(mat.group(3))\n",
    "print(mat.start(3))\n",
    "print(mat.end(3))\n",
    "print(mat.span(3))"
   ]
  },
  {
   "cell_type": "markdown",
   "metadata": {
    "id": "mrml-76Xy95Y"
   },
   "source": [
    "## re 메서드"
   ]
  },
  {
   "cell_type": "code",
   "execution_count": 28,
   "metadata": {},
   "outputs": [
    {
     "data": {
      "text/plain": [
       "<re.Match object; span=(0, 6), match='python'>"
      ]
     },
     "execution_count": 28,
     "metadata": {},
     "output_type": "execute_result"
    }
   ],
   "source": [
    "pat = re.compile(\"[a-z]+\")\n",
    "mat = pat.match('python')\n",
    "mat"
   ]
  },
  {
   "cell_type": "code",
   "execution_count": 29,
   "metadata": {},
   "outputs": [
    {
     "data": {
      "text/plain": [
       "<re.Match object; span=(0, 6), match='python'>"
      ]
     },
     "execution_count": 29,
     "metadata": {},
     "output_type": "execute_result"
    }
   ],
   "source": [
    "mat = re.match('[a-z]+', 'python')\n",
    "mat"
   ]
  },
  {
   "cell_type": "code",
   "execution_count": 30,
   "metadata": {},
   "outputs": [],
   "source": [
    "mat = re.match('[a-z]+', 'AAA')\n",
    "mat"
   ]
  },
  {
   "cell_type": "code",
   "execution_count": 31,
   "metadata": {},
   "outputs": [
    {
     "data": {
      "text/plain": [
       "<re.Match object; span=(2, 8), match='python'>"
      ]
     },
     "execution_count": 31,
     "metadata": {},
     "output_type": "execute_result"
    }
   ],
   "source": [
    "mat = re.search('[a-z]+', '3 python')\n",
    "mat"
   ]
  },
  {
   "cell_type": "code",
   "execution_count": 32,
   "metadata": {},
   "outputs": [
    {
     "data": {
      "text/plain": [
       "['life', 'is', 'to', 'short']"
      ]
     },
     "execution_count": 32,
     "metadata": {},
     "output_type": "execute_result"
    }
   ],
   "source": [
    "mat = re.findall('[a-z]+', 'life is to short')\n",
    "mat"
   ]
  },
  {
   "cell_type": "code",
   "execution_count": 34,
   "metadata": {},
   "outputs": [
    {
     "name": "stdout",
     "output_type": "stream",
     "text": [
      "<re.Match object; span=(0, 4), match='life'>\n",
      "<re.Match object; span=(5, 7), match='is'>\n",
      "<re.Match object; span=(8, 10), match='to'>\n",
      "<re.Match object; span=(11, 16), match='short'>\n"
     ]
    }
   ],
   "source": [
    "mat = re.finditer('[a-z]+', 'life is to short')\n",
    "\n",
    "for i in mat:\n",
    "    print(i)"
   ]
  },
  {
   "cell_type": "markdown",
   "metadata": {
    "id": "6UBSJNfDzqrB"
   },
   "source": [
    "## raw string\n",
    "- 정규표현식 구분에서 \\ 로 시작하는 구문들이 많다. 가급적 raw-string 을 사용하면 이스케이프 처리 안하는 문자열로 변환된다."
   ]
  },
  {
   "cell_type": "code",
   "execution_count": 35,
   "metadata": {},
   "outputs": [
    {
     "name": "stdout",
     "output_type": "stream",
     "text": [
      "\n",
      "\n"
     ]
    }
   ],
   "source": [
    "print(\"\\n\")"
   ]
  },
  {
   "cell_type": "code",
   "execution_count": 36,
   "metadata": {},
   "outputs": [
    {
     "name": "stdout",
     "output_type": "stream",
     "text": [
      "\\n\n"
     ]
    }
   ],
   "source": [
    "print(\"\\\\n\")"
   ]
  },
  {
   "cell_type": "code",
   "execution_count": 37,
   "metadata": {},
   "outputs": [
    {
     "name": "stdout",
     "output_type": "stream",
     "text": [
      "\\n\n"
     ]
    }
   ],
   "source": [
    "print(r\"\\n\")"
   ]
  },
  {
   "cell_type": "code",
   "execution_count": 38,
   "metadata": {},
   "outputs": [
    {
     "ename": "SyntaxError",
     "evalue": "(unicode error) 'unicodeescape' codec can't decode bytes in position 10-11: truncated \\uXXXX escape (3272061681.py, line 1)",
     "output_type": "error",
     "traceback": [
      "  \u001b[36mCell\u001b[39m\u001b[36m \u001b[39m\u001b[32mIn[38]\u001b[39m\u001b[32m, line 1\u001b[39m\n\u001b[31m    \u001b[39m\u001b[31mprint(\"c:\\windows\\user\\user01\")\u001b[39m\n          ^\n\u001b[31mSyntaxError\u001b[39m\u001b[31m:\u001b[39m (unicode error) 'unicodeescape' codec can't decode bytes in position 10-11: truncated \\uXXXX escape\n"
     ]
    }
   ],
   "source": [
    "print(\"c:\\windows\\user\\user01\")"
   ]
  },
  {
   "cell_type": "code",
   "execution_count": 39,
   "metadata": {},
   "outputs": [
    {
     "name": "stdout",
     "output_type": "stream",
     "text": [
      "c:\\windows\\user\\user01\n"
     ]
    }
   ],
   "source": [
    "print(\"c:\\\\windows\\\\user\\\\user01\")"
   ]
  },
  {
   "cell_type": "code",
   "execution_count": 40,
   "metadata": {},
   "outputs": [
    {
     "name": "stdout",
     "output_type": "stream",
     "text": [
      "c:\\windows\\user\\user01\n"
     ]
    }
   ],
   "source": [
    "print(r\"c:\\windows\\user\\user01\")"
   ]
  },
  {
   "cell_type": "code",
   "execution_count": 41,
   "metadata": {},
   "outputs": [
    {
     "name": "stderr",
     "output_type": "stream",
     "text": [
      "<>:1: SyntaxWarning: invalid escape sequence '\\d'\n",
      "<>:1: SyntaxWarning: invalid escape sequence '\\d'\n",
      "C:\\Users\\kys05\\AppData\\Local\\Temp\\ipykernel_4076\\3352721285.py:1: SyntaxWarning: invalid escape sequence '\\d'\n",
      "  pat = re.compile('(\\d+)/(\\d+)/(\\d+)')\n"
     ]
    }
   ],
   "source": [
    "pat = re.compile('(\\d+)/(\\d+)/(\\d+)')"
   ]
  },
  {
   "cell_type": "code",
   "execution_count": 42,
   "metadata": {},
   "outputs": [],
   "source": [
    "pat = re.compile('(\\\\d+)/(\\\\d+)/(\\\\d+)')"
   ]
  },
  {
   "cell_type": "code",
   "execution_count": 43,
   "metadata": {},
   "outputs": [],
   "source": [
    "pat = re.compile(r'(\\d+)/(\\d+)/(\\d+)')"
   ]
  },
  {
   "cell_type": "markdown",
   "metadata": {
    "id": "F0fqL8DJ0gNt"
   },
   "source": [
    "## re.sub()\n",
    "- 정규표현식을 사용하여 치환하는 메서드\n",
    "```\n",
    "구문\n",
    "re.sub(패턴, 치환문자, 문자열)\n",
    "````"
   ]
  },
  {
   "cell_type": "code",
   "execution_count": 44,
   "metadata": {},
   "outputs": [
    {
     "data": {
      "text/plain": [
       "'1234*123456'"
      ]
     },
     "execution_count": 44,
     "metadata": {},
     "output_type": "execute_result"
    }
   ],
   "source": [
    "a = '1234-123456'\n",
    "re.sub(\"-\", \"*\", a)"
   ]
  },
  {
   "cell_type": "code",
   "execution_count": 45,
   "metadata": {},
   "outputs": [
    {
     "data": {
      "text/plain": [
       "'****-******'"
      ]
     },
     "execution_count": 45,
     "metadata": {},
     "output_type": "execute_result"
    }
   ],
   "source": [
    "re.sub(r\"\\d\", \"*\", a)"
   ]
  },
  {
   "cell_type": "code",
   "execution_count": 46,
   "metadata": {},
   "outputs": [
    {
     "data": {
      "text/plain": [
       "'1234****123456'"
      ]
     },
     "execution_count": 46,
     "metadata": {},
     "output_type": "execute_result"
    }
   ],
   "source": [
    "re.sub(r\"\\D\", \"****\", a)"
   ]
  },
  {
   "cell_type": "markdown",
   "metadata": {
    "id": "p4F96B5i1Oqz"
   },
   "source": [
    "## re.split()\n",
    "- 정규표현식을 사용하여 문자열을 분리하는 메서드\n",
    "```\n",
    "구문\n",
    "re.split(패턴, 문자열)\n",
    "```"
   ]
  },
  {
   "cell_type": "code",
   "execution_count": 47,
   "metadata": {},
   "outputs": [
    {
     "name": "stdout",
     "output_type": "stream",
     "text": [
      "동해물과 백두산이마르고 닳도록하느님이 보우하사우리나라 만세\n"
     ]
    }
   ],
   "source": [
    "data = '동해물과 백두산이' \\\n",
    "'마르고 닳도록' \\\n",
    "'하느님이 보우하사' \\\n",
    "'우리나라 만세'\n",
    "print(data)"
   ]
  },
  {
   "cell_type": "code",
   "execution_count": 48,
   "metadata": {},
   "outputs": [
    {
     "name": "stdout",
     "output_type": "stream",
     "text": [
      "동해물과 백두산이\n",
      "마르고 닳도록\n",
      "하느님이 보우하사\n",
      "우리나라 만세\n"
     ]
    }
   ],
   "source": [
    "data = '''동해물과 백두산이\n",
    "마르고 닳도록\n",
    "하느님이 보우하사\n",
    "우리나라 만세'''\n",
    "print(data)"
   ]
  },
  {
   "cell_type": "code",
   "execution_count": 50,
   "metadata": {},
   "outputs": [
    {
     "data": {
      "text/plain": [
       "['동해물과', '백두산이', '마르고', '닳도록', '하느님이', '보우하사', '우리나라', '만세']"
      ]
     },
     "execution_count": 50,
     "metadata": {},
     "output_type": "execute_result"
    }
   ],
   "source": [
    "re.split(r\"\\s+\", data.strip())"
   ]
  },
  {
   "cell_type": "markdown",
   "metadata": {
    "id": "G0SXQZzE11iC"
   },
   "source": [
    "# 정규표현식 활용"
   ]
  },
  {
   "cell_type": "code",
   "execution_count": 51,
   "metadata": {},
   "outputs": [],
   "source": [
    "def regExpTest(regex, input_list):\n",
    "    for s in input_list:\n",
    "        print(\"[정규표현식 매칭 테스트] ======\")\n",
    "        print(f\"정규표현식 : {regex}\")\n",
    "        print(f\"입력문자열 : {s}\")\n",
    "\n",
    "        match_count = 0\n",
    "\n",
    "        for match in re.finditer(regex,s):\n",
    "            match_count += 1\n",
    "            print(f\"    매치 {match_count}:{match.group()} {match.span()}\")\n",
    "\n",
    "            group_size = len(match.groups())\n",
    "            for i in range(1, group_size+1):\n",
    "                print(f\"    group{i}:{match.group(i)}{match.span(i)}\")\n",
    "            \n",
    "        match_count == 0 and print(\"    X 매치 없음 X\")\n",
    "        print()"
   ]
  },
  {
   "cell_type": "code",
   "execution_count": 53,
   "metadata": {},
   "outputs": [
    {
     "name": "stdout",
     "output_type": "stream",
     "text": [
      "^ : 바로 문자뒤의 문자열로 시작됨\n",
      "[정규표현식 매칭 테스트] ======\n",
      "정규표현식 : ^The\n",
      "입력문자열 : The Things\n",
      "    매치 1:The (0, 3)\n",
      "\n",
      "[정규표현식 매칭 테스트] ======\n",
      "정규표현식 : ^The\n",
      "입력문자열 : On The Things\n",
      "    X 매치 없음 X\n",
      "\n",
      "[정규표현식 매칭 테스트] ======\n",
      "정규표현식 : ^The\n",
      "입력문자열 :  The The The\n",
      "    X 매치 없음 X\n",
      "\n",
      "[정규표현식 매칭 테스트] ======\n",
      "정규표현식 : ^The\n",
      "입력문자열 : The The The\n",
      "    매치 1:The (0, 3)\n",
      "\n"
     ]
    }
   ],
   "source": [
    "title = \"^ : 바로 문자뒤의 문자열로 시작됨\"\n",
    "regex = r\"^The\"\n",
    "input_list = [\n",
    "    \"The Things\",\n",
    "    \"On The Things\",\n",
    "    \" The The The\",\n",
    "    \"The The The\"\n",
    "]\n",
    "print(title)\n",
    "regExpTest(regex, input_list)"
   ]
  },
  {
   "cell_type": "code",
   "execution_count": 55,
   "metadata": {},
   "outputs": [
    {
     "name": "stdout",
     "output_type": "stream",
     "text": [
      "$ : 문자열의 마지막이 이 문자열로 마무리 됨\n",
      "[정규표현식 매칭 테스트] ======\n",
      "정규표현식 : Man$\n",
      "입력문자열 : SuperMan\n",
      "    매치 1:Man (5, 8)\n",
      "\n",
      "[정규표현식 매칭 테스트] ======\n",
      "정규표현식 : Man$\n",
      "입력문자열 : AquaMan\n",
      "    매치 1:Man (4, 7)\n",
      "\n",
      "[정규표현식 매칭 테스트] ======\n",
      "정규표현식 : Man$\n",
      "입력문자열 : WonderWoman\n",
      "    X 매치 없음 X\n",
      "\n",
      "[정규표현식 매칭 테스트] ======\n",
      "정규표현식 : Man$\n",
      "입력문자열 : WonderWoMan\n",
      "    매치 1:Man (8, 11)\n",
      "\n",
      "[정규표현식 매칭 테스트] ======\n",
      "정규표현식 : Man$\n",
      "입력문자열 : ManOfMan\n",
      "    매치 1:Man (5, 8)\n",
      "\n"
     ]
    }
   ],
   "source": [
    "title = \"$ : 문자열의 마지막이 이 문자열로 마무리 됨\"\n",
    "regex = r\"Man$\"\n",
    "input_list = [\n",
    "    'SuperMan',\n",
    "    'AquaMan',\n",
    "    'WonderWoman',\n",
    "    'WonderWoMan',\n",
    "    'ManOfMan'\n",
    "]\n",
    "print(title)\n",
    "regExpTest(regex, input_list)"
   ]
  },
  {
   "cell_type": "code",
   "execution_count": 56,
   "metadata": {},
   "outputs": [
    {
     "name": "stdout",
     "output_type": "stream",
     "text": [
      "정확하게 일치\n",
      "[정규표현식 매칭 테스트] ======\n",
      "정규표현식 : ^SuperMan$\n",
      "입력문자열 : SuperMan\n",
      "    매치 1:SuperMan (0, 8)\n",
      "\n",
      "[정규표현식 매칭 테스트] ======\n",
      "정규표현식 : ^SuperMan$\n",
      "입력문자열 :  SuperMan\n",
      "    X 매치 없음 X\n",
      "\n",
      "[정규표현식 매칭 테스트] ======\n",
      "정규표현식 : ^SuperMan$\n",
      "입력문자열 : Super Man\n",
      "    X 매치 없음 X\n",
      "\n"
     ]
    }
   ],
   "source": [
    "title = \"정확하게 일치\"\n",
    "regex = r'^SuperMan$'\n",
    "\n",
    "input_list = [\n",
    "    'SuperMan',\n",
    "    ' SuperMan',\n",
    "    'Super Man'\n",
    "]\n",
    "\n",
    "print(title)\n",
    "regExpTest(regex, input_list)"
   ]
  },
  {
   "cell_type": "markdown",
   "metadata": {
    "id": "TnJlMqGc8T8J"
   },
   "source": [
    "## 문제\n",
    "```\n",
    "string = '정가 14,500원'\n",
    "```\n",
    "- 정규 표현식을 사용하여 int 값 14500을 추출하기"
   ]
  },
  {
   "cell_type": "code",
   "execution_count": 1,
   "metadata": {},
   "outputs": [
    {
     "data": {
      "text/plain": [
       "14500"
      ]
     },
     "execution_count": 1,
     "metadata": {},
     "output_type": "execute_result"
    }
   ],
   "source": [
    "import re\n",
    "\n",
    "string = '정가 14,500원'\n",
    "int(re.sub(r'\\D', '', string))"
   ]
  },
  {
   "cell_type": "code",
   "execution_count": 2,
   "metadata": {},
   "outputs": [
    {
     "data": {
      "text/plain": [
       "'정가 ,원'"
      ]
     },
     "execution_count": 2,
     "metadata": {},
     "output_type": "execute_result"
    }
   ],
   "source": [
    "re.sub(r'[0-9]', '', string)"
   ]
  },
  {
   "cell_type": "code",
   "execution_count": 5,
   "metadata": {},
   "outputs": [
    {
     "data": {
      "text/plain": [
       "14500"
      ]
     },
     "execution_count": 5,
     "metadata": {},
     "output_type": "execute_result"
    }
   ],
   "source": [
    "int(re.sub(r'[^0-9]', '', string))"
   ]
  },
  {
   "cell_type": "code",
   "execution_count": 7,
   "metadata": {},
   "outputs": [
    {
     "data": {
      "text/plain": [
       "'14500'"
      ]
     },
     "execution_count": 7,
     "metadata": {},
     "output_type": "execute_result"
    }
   ],
   "source": [
    "''.join(re.findall(r'\\d', string))"
   ]
  }
 ],
 "metadata": {
  "colab": {
   "authorship_tag": "ABX9TyOsl/H2dFtdOc/jh8nGXpIj",
   "provenance": []
  },
  "kernelspec": {
   "display_name": "Python 3",
   "name": "python3"
  },
  "language_info": {
   "codemirror_mode": {
    "name": "ipython",
    "version": 3
   },
   "file_extension": ".py",
   "mimetype": "text/x-python",
   "name": "python",
   "nbconvert_exporter": "python",
   "pygments_lexer": "ipython3",
   "version": "3.13.3"
  }
 },
 "nbformat": 4,
 "nbformat_minor": 0
}

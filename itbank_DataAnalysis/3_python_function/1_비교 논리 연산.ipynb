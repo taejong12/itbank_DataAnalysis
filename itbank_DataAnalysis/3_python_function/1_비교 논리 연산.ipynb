{
 "cells": [
  {
   "cell_type": "markdown",
   "metadata": {
    "id": "gk8ic2n6QhEJ"
   },
   "source": [
    "# 1. 조건식의 '참'과 '거짓' 판정 기준\n",
    "\n",
    "- 조건문, 순환문 등에 사용되는 '조건식'은 참, 거짓이 판정되어야 한다.\n",
    "- 파이썬에서는 bool 타입 외에도 조건식에서 참, 거짓이 판정된다.\n",
    "\n",
    "||참|거짓|\n",
    "|---|---|---|\n",
    "| bool 타입 | True | False |\n",
    "| int float 타입 | 0 아닌 숫자 | 0 |\n",
    "| str 타입 | 모든 문자열 | \"\" 빈 문자열 |\n",
    "| list 타입 | 값이 존재하는 list | [] 빈 list |\n",
    "| tuple 타입 | 값이 존재하는 tuple | () 빈 tuple |\n",
    "| dict 타입 | 값이 존재하는 dict | {} 빈 dict |\n",
    "| None 타입 | True 없음 | 무조건 False |\n",
    "\n"
   ]
  },
  {
   "cell_type": "code",
   "execution_count": null,
   "metadata": {},
   "outputs": [],
   "source": [
    "def true_false(result):\n",
    "    if result:\n",
    "        print(f\"{result} 는 참입니다.\" )\n",
    "    else:\n",
    "        print(f\"{result} 는 거짓입니다.\")"
   ]
  },
  {
   "cell_type": "code",
   "execution_count": 20,
   "metadata": {},
   "outputs": [
    {
     "name": "stdout",
     "output_type": "stream",
     "text": [
      "True 는 참입니다.\n",
      "0.001 는 참입니다.\n",
      "0 는 거짓입니다.\n",
      "0.0 는 거짓입니다.\n",
      "abc 는 참입니다.\n",
      " 는 거짓입니다.\n",
      "  는 참입니다.\n",
      "False 는 거짓입니다.\n",
      "True 는 참입니다.\n",
      "[1, 2, 3] 는 참입니다.\n",
      "[] 는 거짓입니다.\n",
      "(1, 2) 는 참입니다.\n",
      "0 는 거짓입니다.\n",
      "(0,) 는 참입니다.\n",
      "() 는 거짓입니다.\n",
      "{} 는 거짓입니다.\n",
      "{'name': 'hong'} 는 참입니다.\n",
      "None 는 거짓입니다.\n"
     ]
    }
   ],
   "source": [
    "result = [True, 0.001, 0, 0.0, 'abc', '', ' ', not ' ', bool(' '), [1,2,3], [], (1,2), (0), (0,), (), {}, {'name':'hong'}, None]\n",
    "\n",
    "for i in result:\n",
    "    true_false(i)"
   ]
  },
  {
   "cell_type": "markdown",
   "metadata": {
    "id": "sW-0zVtXRPYY"
   },
   "source": [
    "# 2. SCE (Short-circuit evaluation)\n",
    "\n",
    "## 1) 논리 연산자 and, or 표현식과의 관계\n",
    "- 참, 거짓 판정에 이어 논리연산자의 결과는 expression 값이 된다.\n",
    "- 이를 short-circuit evaluation 혹은 lazy evalutation 이라고 한다.\n",
    "\n",
    "## 2) or\n",
    "- 둘다 참일 경우 '왼쪽' 수행 결과 값을 리턴\n",
    "- 왼쪽이 참이고 오른쪽이 거짓이면 '왼쪽' 수행 결과 값을 리턴\n",
    "- 왼쪽이 거짓이고 오른쪽이 참이면 '오른쪽' 수행 결과 값을 리턴\n",
    "\n",
    "## 3) and\n",
    "- 둘다 참일 경우 '오른쪽' 수행 결과 값을 리턴\n",
    "- 왼쪽이 참이고 오른쪽이 거짓이면 '오른쪽' 수행 결과 값을 리턴\n",
    "- 왼쪽이 거짓이고 오른쪽이 참이면 '왼쪽' 수행 결과 값을 리턴"
   ]
  },
  {
   "cell_type": "code",
   "execution_count": 21,
   "metadata": {},
   "outputs": [
    {
     "name": "stdout",
     "output_type": "stream",
     "text": [
      "True\n"
     ]
    }
   ],
   "source": [
    "result = True or False\n",
    "print(result)"
   ]
  },
  {
   "cell_type": "code",
   "execution_count": null,
   "metadata": {},
   "outputs": [
    {
     "name": "stdout",
     "output_type": "stream",
     "text": [
      "True\n"
     ]
    }
   ],
   "source": [
    "result = False or True\n",
    "print(result)"
   ]
  },
  {
   "cell_type": "code",
   "execution_count": 23,
   "metadata": {},
   "outputs": [
    {
     "name": "stdout",
     "output_type": "stream",
     "text": [
      "False\n"
     ]
    }
   ],
   "source": [
    "result = True and False\n",
    "print(result)"
   ]
  },
  {
   "cell_type": "code",
   "execution_count": 24,
   "metadata": {},
   "outputs": [
    {
     "name": "stdout",
     "output_type": "stream",
     "text": [
      "False\n"
     ]
    }
   ],
   "source": [
    "result = False and True\n",
    "print(result)"
   ]
  },
  {
   "cell_type": "code",
   "execution_count": 25,
   "metadata": {},
   "outputs": [
    {
     "name": "stdout",
     "output_type": "stream",
     "text": [
      "100\n"
     ]
    }
   ],
   "source": [
    "result = 100 or 10\n",
    "print(result)"
   ]
  },
  {
   "cell_type": "code",
   "execution_count": 26,
   "metadata": {},
   "outputs": [
    {
     "name": "stdout",
     "output_type": "stream",
     "text": [
      "10\n"
     ]
    }
   ],
   "source": [
    "result = 10 or 100\n",
    "print(result)"
   ]
  },
  {
   "cell_type": "code",
   "execution_count": 27,
   "metadata": {},
   "outputs": [
    {
     "name": "stdout",
     "output_type": "stream",
     "text": [
      "10\n"
     ]
    }
   ],
   "source": [
    "result = 100 and 10\n",
    "print(result)"
   ]
  },
  {
   "cell_type": "code",
   "execution_count": 28,
   "metadata": {},
   "outputs": [
    {
     "name": "stdout",
     "output_type": "stream",
     "text": [
      "0\n"
     ]
    }
   ],
   "source": [
    "result = 0 and 100\n",
    "print(result)"
   ]
  },
  {
   "cell_type": "code",
   "execution_count": 29,
   "metadata": {},
   "outputs": [
    {
     "name": "stdout",
     "output_type": "stream",
     "text": [
      "10 은 5의 배수 입니다.\n"
     ]
    }
   ],
   "source": [
    "n = 10\n",
    "\n",
    "if n % 5 == 0: # n을 5로 나눴을 때 0 이면 출력해라\n",
    "    print(f\"{n} 은 5의 배수 입니다.\")"
   ]
  },
  {
   "cell_type": "code",
   "execution_count": 30,
   "metadata": {},
   "outputs": [
    {
     "name": "stdout",
     "output_type": "stream",
     "text": [
      "10 은 5의 배수 입니다.\n"
     ]
    }
   ],
   "source": [
    "n = 10\n",
    "\n",
    "(n % 5 == 0) and print(f\"{n} 은 5의 배수 입니다.\")"
   ]
  },
  {
   "cell_type": "code",
   "execution_count": 31,
   "metadata": {},
   "outputs": [
    {
     "name": "stdout",
     "output_type": "stream",
     "text": [
      "9은 5의 배수가 아닙니다.\n"
     ]
    }
   ],
   "source": [
    "n = 9 \n",
    "\n",
    "if n % 5 == 0:\n",
    "    print(f\"{n}은 5의 배수 입니다.\")\n",
    "else :\n",
    "    print(f\"{n}은 5의 배수가 아닙니다.\")"
   ]
  },
  {
   "cell_type": "code",
   "execution_count": 1,
   "metadata": {},
   "outputs": [
    {
     "data": {
      "text/plain": [
       "True"
      ]
     },
     "execution_count": 1,
     "metadata": {},
     "output_type": "execute_result"
    }
   ],
   "source": [
    "n = 10\n",
    "\n",
    "(n % 5 == 0) or print(f\"{n}은 5의 배수가 아닙니다.\")"
   ]
  },
  {
   "cell_type": "code",
   "execution_count": 2,
   "metadata": {},
   "outputs": [
    {
     "name": "stdout",
     "output_type": "stream",
     "text": [
      "출력문\n",
      "None\n"
     ]
    }
   ],
   "source": [
    "print(print(\"출력문\"))"
   ]
  },
  {
   "cell_type": "code",
   "execution_count": 3,
   "metadata": {},
   "outputs": [
    {
     "name": "stdout",
     "output_type": "stream",
     "text": [
      "aaa\n"
     ]
    }
   ],
   "source": [
    "print(\"aaa\") and print(\"bbb\")"
   ]
  },
  {
   "cell_type": "code",
   "execution_count": 4,
   "metadata": {},
   "outputs": [
    {
     "name": "stdout",
     "output_type": "stream",
     "text": [
      "aaa\n",
      "bbb\n"
     ]
    }
   ],
   "source": [
    "print(\"aaa\") or print(\"bbb\")"
   ]
  },
  {
   "cell_type": "code",
   "execution_count": 5,
   "metadata": {},
   "outputs": [
    {
     "name": "stdout",
     "output_type": "stream",
     "text": [
      "aaa\n",
      "bbb\n",
      "None\n"
     ]
    }
   ],
   "source": [
    "print(print(\"aaa\") or print(\"bbb\"))"
   ]
  },
  {
   "cell_type": "code",
   "execution_count": 6,
   "metadata": {},
   "outputs": [
    {
     "name": "stdout",
     "output_type": "stream",
     "text": [
      "aaa\n",
      "거짓\n"
     ]
    }
   ],
   "source": [
    "if print(\"aaa\"):\n",
    "    print(\"참\")\n",
    "else:\n",
    "    print(\"거짓\")"
   ]
  },
  {
   "cell_type": "code",
   "execution_count": 7,
   "metadata": {},
   "outputs": [
    {
     "data": {
      "text/plain": [
       "'댕댕이'"
      ]
     },
     "execution_count": 7,
     "metadata": {},
     "output_type": "execute_result"
    }
   ],
   "source": [
    "def getName(animal):\n",
    "    return animal['name']\n",
    "\n",
    "dog = {'name' : '댕댕이'}\n",
    "getName(dog)"
   ]
  },
  {
   "cell_type": "code",
   "execution_count": 8,
   "metadata": {},
   "outputs": [
    {
     "ename": "TypeError",
     "evalue": "'NoneType' object is not subscriptable",
     "output_type": "error",
     "traceback": [
      "\u001b[31m---------------------------------------------------------------------------\u001b[39m",
      "\u001b[31mTypeError\u001b[39m                                 Traceback (most recent call last)",
      "\u001b[36mCell\u001b[39m\u001b[36m \u001b[39m\u001b[32mIn[8]\u001b[39m\u001b[32m, line 2\u001b[39m\n\u001b[32m      1\u001b[39m dog = \u001b[38;5;28;01mNone\u001b[39;00m\n\u001b[32m----> \u001b[39m\u001b[32m2\u001b[39m \u001b[43mgetName\u001b[49m\u001b[43m(\u001b[49m\u001b[43mdog\u001b[49m\u001b[43m)\u001b[49m\n",
      "\u001b[36mCell\u001b[39m\u001b[36m \u001b[39m\u001b[32mIn[7]\u001b[39m\u001b[32m, line 2\u001b[39m, in \u001b[36mgetName\u001b[39m\u001b[34m(animal)\u001b[39m\n\u001b[32m      1\u001b[39m \u001b[38;5;28;01mdef\u001b[39;00m\u001b[38;5;250m \u001b[39m\u001b[34mgetName\u001b[39m(animal):\n\u001b[32m----> \u001b[39m\u001b[32m2\u001b[39m     \u001b[38;5;28;01mreturn\u001b[39;00m \u001b[43manimal\u001b[49m\u001b[43m[\u001b[49m\u001b[33;43m'\u001b[39;49m\u001b[33;43mname\u001b[39;49m\u001b[33;43m'\u001b[39;49m\u001b[43m]\u001b[49m\n",
      "\u001b[31mTypeError\u001b[39m: 'NoneType' object is not subscriptable"
     ]
    }
   ],
   "source": [
    "dog = None\n",
    "getName(dog)"
   ]
  },
  {
   "cell_type": "code",
   "execution_count": 9,
   "metadata": {},
   "outputs": [],
   "source": [
    "def getName(animal):\n",
    "    return animal and animal['name']"
   ]
  },
  {
   "cell_type": "code",
   "execution_count": 10,
   "metadata": {},
   "outputs": [],
   "source": [
    "# animal and animal['name']\n",
    "# None(False, return) and None(False)\n",
    "dog = None\n",
    "getName(dog)"
   ]
  },
  {
   "cell_type": "code",
   "execution_count": 11,
   "metadata": {},
   "outputs": [
    {
     "data": {
      "text/plain": [
       "'댕댕이'"
      ]
     },
     "execution_count": 11,
     "metadata": {},
     "output_type": "execute_result"
    }
   ],
   "source": [
    "# animal and animal['name']\n",
    "# {'name':'댕댕이'}(True) and animal['name'](return)\n",
    "dog = {'name':'댕댕이'}\n",
    "getName(dog)"
   ]
  },
  {
   "cell_type": "code",
   "execution_count": 12,
   "metadata": {},
   "outputs": [
    {
     "data": {
      "text/plain": [
       "'댕댕이'"
      ]
     },
     "execution_count": 12,
     "metadata": {},
     "output_type": "execute_result"
    }
   ],
   "source": [
    "def getName(animal):\n",
    "    name = animal.get('name', '이름이 없는 동물입니다.')\n",
    "    return name\n",
    "\n",
    "\n",
    "dog = {'color':'brown', 'name':'댕댕이'}\n",
    "getName(dog)"
   ]
  },
  {
   "cell_type": "markdown",
   "metadata": {
    "id": "MD-LRofxWcEM"
   },
   "source": [
    "# 3. 객체 메서드의 리턴값\n",
    "- 객체의 메서드가 리턴값이 있는 경우, 원본은 변하지 않는다.\n",
    "- 하지만 객체의 메서드가 리턴값이 없는 경우, 원본은 변하게 된다."
   ]
  },
  {
   "cell_type": "code",
   "execution_count": 13,
   "metadata": {},
   "outputs": [],
   "source": [
    "result = []\n",
    "answer = result.append(100) # 리턴값 없음음\n",
    "answer"
   ]
  },
  {
   "cell_type": "code",
   "execution_count": 14,
   "metadata": {},
   "outputs": [
    {
     "name": "stdout",
     "output_type": "stream",
     "text": [
      "None\n"
     ]
    }
   ],
   "source": [
    "result = []\n",
    "print(result.append(100))"
   ]
  },
  {
   "cell_type": "code",
   "execution_count": 15,
   "metadata": {},
   "outputs": [
    {
     "name": "stdout",
     "output_type": "stream",
     "text": [
      "hkllo\n"
     ]
    }
   ],
   "source": [
    "name = 'hello'\n",
    "print(name.replace('e', 'k')) # 리턴값 존재"
   ]
  },
  {
   "cell_type": "code",
   "execution_count": 16,
   "metadata": {},
   "outputs": [
    {
     "data": {
      "text/plain": [
       "'hello'"
      ]
     },
     "execution_count": 16,
     "metadata": {},
     "output_type": "execute_result"
    }
   ],
   "source": [
    "name"
   ]
  },
  {
   "cell_type": "code",
   "execution_count": 17,
   "metadata": {},
   "outputs": [
    {
     "name": "stdout",
     "output_type": "stream",
     "text": [
      "[1]\n",
      "None\n",
      "[1, 3]\n",
      "None\n",
      "[1, 3, 5]\n",
      "None\n",
      "[1, 3, 5, 7]\n",
      "None\n",
      "[1, 3, 5, 7, 9]\n",
      "None\n"
     ]
    }
   ],
   "source": [
    "result = []\n",
    "\n",
    "def add_odd(number):\n",
    "    if number % 2 != 0:\n",
    "        result.append(number)\n",
    "        return result\n",
    "\n",
    "for i in range(1, 11):\n",
    "    print(add_odd(i))"
   ]
  },
  {
   "cell_type": "markdown",
   "metadata": {
    "id": "wUMHq-6oXlpi"
   },
   "source": [
    "- list 나 dict 등의 객체에 값을 추가/변경 하고 바로 해당 객체를 리턴할 때도 SCE를 활용할 수 있다."
   ]
  },
  {
   "cell_type": "code",
   "execution_count": 18,
   "metadata": {},
   "outputs": [
    {
     "name": "stdout",
     "output_type": "stream",
     "text": [
      "[1]\n",
      "[1]\n",
      "[1, 3]\n",
      "[1, 3]\n",
      "[1, 3, 5]\n",
      "[1, 3, 5]\n",
      "[1, 3, 5, 7]\n",
      "[1, 3, 5, 7]\n",
      "[1, 3, 5, 7, 9]\n",
      "[1, 3, 5, 7, 9]\n"
     ]
    }
   ],
   "source": [
    "result = []\n",
    "\n",
    "def add_odd(number):\n",
    "    return result if number % 2 == 0 \\\n",
    "        else (result.append(number) or result)\n",
    "\n",
    "for i in range(1, 11):\n",
    "    print(add_odd(i))"
   ]
  },
  {
   "cell_type": "code",
   "execution_count": 19,
   "metadata": {},
   "outputs": [
    {
     "name": "stdout",
     "output_type": "stream",
     "text": [
      "[1]\n",
      "[1]\n",
      "[1, 3]\n",
      "[1, 3]\n",
      "[1, 3, 5]\n",
      "[1, 3, 5]\n",
      "[1, 3, 5, 7]\n",
      "[1, 3, 5, 7]\n",
      "[1, 3, 5, 7, 9]\n",
      "[1, 3, 5, 7, 9]\n"
     ]
    }
   ],
   "source": [
    "result = []\n",
    "\n",
    "def add_odd(number):\n",
    "    if number % 2 != 0:\n",
    "        result.append(number)\n",
    "    return result \n",
    "\n",
    "for i in range(1, 11):\n",
    "    print(add_odd(i))"
   ]
  }
 ],
 "metadata": {
  "colab": {
   "authorship_tag": "ABX9TyMw794zkD7B1Z5knhW2ghTv",
   "provenance": []
  },
  "kernelspec": {
   "display_name": "Python 3",
   "name": "python3"
  },
  "language_info": {
   "codemirror_mode": {
    "name": "ipython",
    "version": 3
   },
   "file_extension": ".py",
   "mimetype": "text/x-python",
   "name": "python",
   "nbconvert_exporter": "python",
   "pygments_lexer": "ipython3",
   "version": "3.13.3"
  }
 },
 "nbformat": 4,
 "nbformat_minor": 0
}

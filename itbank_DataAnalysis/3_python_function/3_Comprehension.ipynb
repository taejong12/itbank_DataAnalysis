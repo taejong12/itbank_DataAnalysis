{
 "cells": [
  {
   "cell_type": "markdown",
   "metadata": {
    "id": "Ajk7hJeFQ5Vb"
   },
   "source": [
    "# 1\\. Comprehension 종류\n",
    "- list Comprehension\n",
    "- dict Comprehension\n",
    "- set Comprehension\n",
    "- 각 list, dict, set for문 사용이 가능하다."
   ]
  },
  {
   "cell_type": "markdown",
   "metadata": {
    "id": "TJ1LCjeX16ac"
   },
   "source": [
    "## List Comprehension\n",
    "```\n",
    "구문\n",
    "[ 표현식 for 항목 in 반복객체 (if 조건) ]\n",
    "```"
   ]
  },
  {
   "cell_type": "code",
   "execution_count": 1,
   "metadata": {},
   "outputs": [
    {
     "data": {
      "text/plain": [
       "[0, 1, 2, 3, 4]"
      ]
     },
     "execution_count": 1,
     "metadata": {},
     "output_type": "execute_result"
    }
   ],
   "source": [
    "ls = []\n",
    "for i in range(5):\n",
    "    ls.append(i)\n",
    "ls"
   ]
  },
  {
   "cell_type": "code",
   "execution_count": 2,
   "metadata": {},
   "outputs": [
    {
     "data": {
      "text/plain": [
       "[0, 1, 2, 3, 4]"
      ]
     },
     "execution_count": 2,
     "metadata": {},
     "output_type": "execute_result"
    }
   ],
   "source": [
    "[i for i in range(5)]"
   ]
  },
  {
   "cell_type": "code",
   "execution_count": 3,
   "metadata": {},
   "outputs": [
    {
     "data": {
      "text/plain": [
       "[3, 6, 9, 12]"
      ]
     },
     "execution_count": 3,
     "metadata": {},
     "output_type": "execute_result"
    }
   ],
   "source": [
    "dataset = [1,2,3,4]\n",
    "[num * 3 for num in dataset]"
   ]
  },
  {
   "cell_type": "code",
   "execution_count": 4,
   "metadata": {},
   "outputs": [
    {
     "data": {
      "text/plain": [
       "[6, 12]"
      ]
     },
     "execution_count": 4,
     "metadata": {},
     "output_type": "execute_result"
    }
   ],
   "source": [
    "[num * 3 for num in dataset if num % 2 == 0]"
   ]
  },
  {
   "cell_type": "code",
   "execution_count": null,
   "metadata": {},
   "outputs": [
    {
     "data": {
      "text/plain": [
       "[1, 6, 3, 12]"
      ]
     },
     "execution_count": 5,
     "metadata": {},
     "output_type": "execute_result"
    }
   ],
   "source": [
    "[num * 3 if num % 2 == 0 \\\n",
    "    else num for num in dataset]"
   ]
  },
  {
   "cell_type": "markdown",
   "metadata": {
    "id": "gbv9di0C2ePU"
   },
   "source": [
    "- for 문 2개 이상 사용도 가능하다."
   ]
  },
  {
   "cell_type": "code",
   "execution_count": null,
   "metadata": {},
   "outputs": [
    {
     "data": {
      "text/plain": [
       "['2 - 1',\n",
       " '2 - 3',\n",
       " '2 - 5',\n",
       " '2 - 7',\n",
       " '2 - 9',\n",
       " '4 - 1',\n",
       " '4 - 3',\n",
       " '4 - 5',\n",
       " '4 - 7',\n",
       " '4 - 9',\n",
       " '6 - 1',\n",
       " '6 - 3',\n",
       " '6 - 5',\n",
       " '6 - 7',\n",
       " '6 - 9',\n",
       " '8 - 1',\n",
       " '8 - 3',\n",
       " '8 - 5',\n",
       " '8 - 7',\n",
       " '8 - 9']"
      ]
     },
     "execution_count": 6,
     "metadata": {},
     "output_type": "execute_result"
    }
   ],
   "source": [
    "[\n",
    "    f'{i} - {j}'\n",
    "    for i in range(2, 10, 2)\n",
    "    for j in range(1, 10, 2)\n",
    "]\n",
    "# for i in range(2, 10, 2):\n",
    "#    for j in range(1, 10, 2):\n",
    "#        print(f'{i} - {j}')"
   ]
  },
  {
   "cell_type": "markdown",
   "metadata": {
    "id": "RXbgsirD2vfL"
   },
   "source": [
    "# 문제\n",
    "2 ~ 9단까지 list 에 저장해서 출력 해보세요.\n",
    "```\n",
    "['2 x 1 = 2',\n",
    " '2 x 2 = 4',\n",
    " ...\n",
    " '9 x 7 = 63',\n",
    " '9 x 8 = 72',\n",
    " '9 x 9 = 81']\n",
    " ```"
   ]
  },
  {
   "cell_type": "code",
   "execution_count": 7,
   "metadata": {},
   "outputs": [
    {
     "data": {
      "text/plain": [
       "['2 * 1 = 2',\n",
       " '2 * 2 = 4',\n",
       " '2 * 3 = 6',\n",
       " '2 * 4 = 8',\n",
       " '2 * 5 = 10',\n",
       " '2 * 6 = 12',\n",
       " '2 * 7 = 14',\n",
       " '2 * 8 = 16',\n",
       " '2 * 9 = 18',\n",
       " '3 * 1 = 3',\n",
       " '3 * 2 = 6',\n",
       " '3 * 3 = 9',\n",
       " '3 * 4 = 12',\n",
       " '3 * 5 = 15',\n",
       " '3 * 6 = 18',\n",
       " '3 * 7 = 21',\n",
       " '3 * 8 = 24',\n",
       " '3 * 9 = 27',\n",
       " '4 * 1 = 4',\n",
       " '4 * 2 = 8',\n",
       " '4 * 3 = 12',\n",
       " '4 * 4 = 16',\n",
       " '4 * 5 = 20',\n",
       " '4 * 6 = 24',\n",
       " '4 * 7 = 28',\n",
       " '4 * 8 = 32',\n",
       " '4 * 9 = 36',\n",
       " '5 * 1 = 5',\n",
       " '5 * 2 = 10',\n",
       " '5 * 3 = 15',\n",
       " '5 * 4 = 20',\n",
       " '5 * 5 = 25',\n",
       " '5 * 6 = 30',\n",
       " '5 * 7 = 35',\n",
       " '5 * 8 = 40',\n",
       " '5 * 9 = 45',\n",
       " '6 * 1 = 6',\n",
       " '6 * 2 = 12',\n",
       " '6 * 3 = 18',\n",
       " '6 * 4 = 24',\n",
       " '6 * 5 = 30',\n",
       " '6 * 6 = 36',\n",
       " '6 * 7 = 42',\n",
       " '6 * 8 = 48',\n",
       " '6 * 9 = 54',\n",
       " '7 * 1 = 7',\n",
       " '7 * 2 = 14',\n",
       " '7 * 3 = 21',\n",
       " '7 * 4 = 28',\n",
       " '7 * 5 = 35',\n",
       " '7 * 6 = 42',\n",
       " '7 * 7 = 49',\n",
       " '7 * 8 = 56',\n",
       " '7 * 9 = 63',\n",
       " '8 * 1 = 8',\n",
       " '8 * 2 = 16',\n",
       " '8 * 3 = 24',\n",
       " '8 * 4 = 32',\n",
       " '8 * 5 = 40',\n",
       " '8 * 6 = 48',\n",
       " '8 * 7 = 56',\n",
       " '8 * 8 = 64',\n",
       " '8 * 9 = 72',\n",
       " '9 * 1 = 9',\n",
       " '9 * 2 = 18',\n",
       " '9 * 3 = 27',\n",
       " '9 * 4 = 36',\n",
       " '9 * 5 = 45',\n",
       " '9 * 6 = 54',\n",
       " '9 * 7 = 63',\n",
       " '9 * 8 = 72',\n",
       " '9 * 9 = 81']"
      ]
     },
     "execution_count": 7,
     "metadata": {},
     "output_type": "execute_result"
    }
   ],
   "source": [
    "[\n",
    "    f'{i} * {j} = {i * j}'\n",
    "    for i in range(2,10)\n",
    "    for j in range(1,10)\n",
    "]"
   ]
  },
  {
   "cell_type": "code",
   "execution_count": 1,
   "metadata": {},
   "outputs": [
    {
     "data": {
      "text/plain": [
       "[0, 0, 0, 0, 0, 0, 0, 0, 0, 0, 0, 0, 0, 0, 0, 0, 0, 0, 0, 0, 0, 0, 0, 0]"
      ]
     },
     "execution_count": 1,
     "metadata": {},
     "output_type": "execute_result"
    }
   ],
   "source": [
    "[0 for i in range(24)]"
   ]
  },
  {
   "cell_type": "code",
   "execution_count": 2,
   "metadata": {},
   "outputs": [
    {
     "data": {
      "text/plain": [
       "[16, 25]"
      ]
     },
     "execution_count": 2,
     "metadata": {},
     "output_type": "execute_result"
    }
   ],
   "source": [
    "dataset = [1, -2, -3, 4, 5]\n",
    "\n",
    "[\n",
    "    x ** 2\n",
    "    for x in dataset\n",
    "    if x ** 2 > 10\n",
    "]"
   ]
  },
  {
   "cell_type": "code",
   "execution_count": 3,
   "metadata": {},
   "outputs": [
    {
     "data": {
      "text/plain": [
       "[16, 25]"
      ]
     },
     "execution_count": 3,
     "metadata": {},
     "output_type": "execute_result"
    }
   ],
   "source": [
    "[\n",
    "    y \n",
    "    for y in [x ** 2 for x in dataset] if y > 10\n",
    "]"
   ]
  },
  {
   "cell_type": "markdown",
   "metadata": {
    "id": "j_uTK2uJ3mkc"
   },
   "source": [
    "## Set Comprehension\n",
    "- list Comprehension 과 거의 동일한 구문을 사용한다.\n",
    "```\n",
    "구문\n",
    "[ 표현식 for 항목 in 반복객체 (if 조건) ]\n",
    "```"
   ]
  },
  {
   "cell_type": "code",
   "execution_count": 5,
   "metadata": {},
   "outputs": [
    {
     "data": {
      "text/plain": [
       "[1, 1, 1]"
      ]
     },
     "execution_count": 5,
     "metadata": {},
     "output_type": "execute_result"
    }
   ],
   "source": [
    "ls = [1, 1, 1]\n",
    "ls"
   ]
  },
  {
   "cell_type": "code",
   "execution_count": 6,
   "metadata": {},
   "outputs": [
    {
     "data": {
      "text/plain": [
       "{1}"
      ]
     },
     "execution_count": 6,
     "metadata": {},
     "output_type": "execute_result"
    }
   ],
   "source": [
    "st = {1, 1, 1}\n",
    "st"
   ]
  },
  {
   "cell_type": "code",
   "execution_count": null,
   "metadata": {},
   "outputs": [
    {
     "data": {
      "text/plain": [
       "[2, 2, 2]"
      ]
     },
     "execution_count": 7,
     "metadata": {},
     "output_type": "execute_result"
    }
   ],
   "source": [
    "result = \\\n",
    "    [num % 3 for num in range(10) if num % 3 == 2]\n",
    "result"
   ]
  },
  {
   "cell_type": "code",
   "execution_count": 8,
   "metadata": {},
   "outputs": [
    {
     "data": {
      "text/plain": [
       "{2}"
      ]
     },
     "execution_count": 8,
     "metadata": {},
     "output_type": "execute_result"
    }
   ],
   "source": [
    "result = \\\n",
    "    {num % 3 for num in range(10) if num % 3 == 2}\n",
    "result"
   ]
  },
  {
   "cell_type": "markdown",
   "metadata": {
    "id": "BXL2g0gW4CUA"
   },
   "source": [
    "## Dict Comprehension\n",
    "```\n",
    "구문\n",
    "[ 키:값 for 항목 in 반복객체 (if 조건) ]\n",
    "```"
   ]
  },
  {
   "cell_type": "code",
   "execution_count": 10,
   "metadata": {},
   "outputs": [
    {
     "data": {
      "text/plain": [
       "{0: 0, 1: 1, 2: 4, 3: 9, 4: 16}"
      ]
     },
     "execution_count": 10,
     "metadata": {},
     "output_type": "execute_result"
    }
   ],
   "source": [
    "{\n",
    "    n: n ** 2 for n in range(5)\n",
    "}"
   ]
  },
  {
   "cell_type": "code",
   "execution_count": 11,
   "metadata": {},
   "outputs": [
    {
     "data": {
      "text/plain": [
       "{1: [0], 2: [0, 1], 3: [0, 1, 2], 4: [0, 1, 2, 3], 5: [0, 1, 2, 3, 4]}"
      ]
     },
     "execution_count": 11,
     "metadata": {},
     "output_type": "execute_result"
    }
   ],
   "source": [
    "{\n",
    "    x : list(range(x))\n",
    "    for x in range(1, 6)\n",
    "}"
   ]
  },
  {
   "cell_type": "code",
   "execution_count": 12,
   "metadata": {},
   "outputs": [
    {
     "data": {
      "text/plain": [
       "{1: [0], 2: [0, 1]}"
      ]
     },
     "execution_count": 12,
     "metadata": {},
     "output_type": "execute_result"
    }
   ],
   "source": [
    "{\n",
    "    x : list(range(x))\n",
    "    for x in range(1, 6)\n",
    "    if x < 3\n",
    "}"
   ]
  }
 ],
 "metadata": {
  "colab": {
   "authorship_tag": "ABX9TyOar7d1yJ6pFVWDIyOtDXt/",
   "provenance": []
  },
  "kernelspec": {
   "display_name": "Python 3",
   "name": "python3"
  },
  "language_info": {
   "codemirror_mode": {
    "name": "ipython",
    "version": 3
   },
   "file_extension": ".py",
   "mimetype": "text/x-python",
   "name": "python",
   "nbconvert_exporter": "python",
   "pygments_lexer": "ipython3",
   "version": "3.13.3"
  }
 },
 "nbformat": 4,
 "nbformat_minor": 0
}

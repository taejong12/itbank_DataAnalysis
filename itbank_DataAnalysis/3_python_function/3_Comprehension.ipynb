{
 "cells": [
  {
   "cell_type": "markdown",
   "metadata": {
    "id": "Ajk7hJeFQ5Vb"
   },
   "source": [
    "# 1\\. Comprehension 종류\n",
    "- list Comprehension\n",
    "- dict Comprehension\n",
    "- set Comprehension\n",
    "- 각 list, dict, set for문 사용이 가능하다."
   ]
  },
  {
   "cell_type": "markdown",
   "metadata": {
    "id": "TJ1LCjeX16ac"
   },
   "source": [
    "## List Comprehension\n",
    "```\n",
    "구문\n",
    "[ 표현식 for 항목 in 반복객체 (if 조건) ]\n",
    "```"
   ]
  },
  {
   "cell_type": "code",
   "execution_count": 1,
   "metadata": {},
   "outputs": [
    {
     "data": {
      "text/plain": [
       "[0, 1, 2, 3, 4]"
      ]
     },
     "execution_count": 1,
     "metadata": {},
     "output_type": "execute_result"
    }
   ],
   "source": [
    "ls = []\n",
    "for i in range(5):\n",
    "    ls.append(i)\n",
    "ls"
   ]
  },
  {
   "cell_type": "code",
   "execution_count": 2,
   "metadata": {},
   "outputs": [
    {
     "data": {
      "text/plain": [
       "[0, 1, 2, 3, 4]"
      ]
     },
     "execution_count": 2,
     "metadata": {},
     "output_type": "execute_result"
    }
   ],
   "source": [
    "[i for i in range(5)]"
   ]
  },
  {
   "cell_type": "code",
   "execution_count": 3,
   "metadata": {},
   "outputs": [
    {
     "data": {
      "text/plain": [
       "[3, 6, 9, 12]"
      ]
     },
     "execution_count": 3,
     "metadata": {},
     "output_type": "execute_result"
    }
   ],
   "source": [
    "dataset = [1,2,3,4]\n",
    "[num * 3 for num in dataset]"
   ]
  },
  {
   "cell_type": "code",
   "execution_count": 4,
   "metadata": {},
   "outputs": [
    {
     "data": {
      "text/plain": [
       "[6, 12]"
      ]
     },
     "execution_count": 4,
     "metadata": {},
     "output_type": "execute_result"
    }
   ],
   "source": [
    "[num * 3 for num in dataset if num % 2 == 0]"
   ]
  },
  {
   "cell_type": "code",
   "execution_count": null,
   "metadata": {},
   "outputs": [
    {
     "data": {
      "text/plain": [
       "[1, 6, 3, 12]"
      ]
     },
     "execution_count": 5,
     "metadata": {},
     "output_type": "execute_result"
    }
   ],
   "source": [
    "[num * 3 if num % 2 == 0 \\\n",
    "    else num for num in dataset]"
   ]
  },
  {
   "cell_type": "markdown",
   "metadata": {
    "id": "gbv9di0C2ePU"
   },
   "source": [
    "- for 문 2개 이상 사용도 가능하다."
   ]
  },
  {
   "cell_type": "code",
   "execution_count": null,
   "metadata": {},
   "outputs": [
    {
     "data": {
      "text/plain": [
       "['2 - 1',\n",
       " '2 - 3',\n",
       " '2 - 5',\n",
       " '2 - 7',\n",
       " '2 - 9',\n",
       " '4 - 1',\n",
       " '4 - 3',\n",
       " '4 - 5',\n",
       " '4 - 7',\n",
       " '4 - 9',\n",
       " '6 - 1',\n",
       " '6 - 3',\n",
       " '6 - 5',\n",
       " '6 - 7',\n",
       " '6 - 9',\n",
       " '8 - 1',\n",
       " '8 - 3',\n",
       " '8 - 5',\n",
       " '8 - 7',\n",
       " '8 - 9']"
      ]
     },
     "execution_count": 6,
     "metadata": {},
     "output_type": "execute_result"
    }
   ],
   "source": [
    "[\n",
    "    f'{i} - {j}'\n",
    "    for i in range(2, 10, 2)\n",
    "    for j in range(1, 10, 2)\n",
    "]\n",
    "# for i in range(2, 10, 2):\n",
    "#    for j in range(1, 10, 2):\n",
    "#        print(f'{i} - {j}')"
   ]
  },
  {
   "cell_type": "markdown",
   "metadata": {
    "id": "RXbgsirD2vfL"
   },
   "source": [
    "# 문제\n",
    "2 ~ 9단까지 list 에 저장해서 출력 해보세요.\n",
    "```\n",
    "['2 x 1 = 2',\n",
    " '2 x 2 = 4',\n",
    " ...\n",
    " '9 x 7 = 63',\n",
    " '9 x 8 = 72',\n",
    " '9 x 9 = 81']\n",
    " ```"
   ]
  },
  {
   "cell_type": "markdown",
   "metadata": {
    "id": "j_uTK2uJ3mkc"
   },
   "source": [
    "## Set Comprehension\n",
    "- list Comprehension 과 거의 동일한 구문을 사용한다.\n",
    "```\n",
    "구문\n",
    "[ 표현식 for 항목 in 반복객체 (if 조건) ]\n",
    "```"
   ]
  },
  {
   "cell_type": "markdown",
   "metadata": {
    "id": "BXL2g0gW4CUA"
   },
   "source": [
    "## Dict Comprehension\n",
    "```\n",
    "구문\n",
    "[ 키:값 for 항목 in 반복객체 (if 조건) ]\n",
    "```"
   ]
  }
 ],
 "metadata": {
  "colab": {
   "authorship_tag": "ABX9TyOar7d1yJ6pFVWDIyOtDXt/",
   "provenance": []
  },
  "kernelspec": {
   "display_name": "Python 3",
   "name": "python3"
  },
  "language_info": {
   "codemirror_mode": {
    "name": "ipython",
    "version": 3
   },
   "file_extension": ".py",
   "mimetype": "text/x-python",
   "name": "python",
   "nbconvert_exporter": "python",
   "pygments_lexer": "ipython3",
   "version": "3.13.3"
  }
 },
 "nbformat": 4,
 "nbformat_minor": 0
}

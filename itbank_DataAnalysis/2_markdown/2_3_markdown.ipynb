{
 "cells": [
  {
   "cell_type": "markdown",
   "metadata": {
    "id": "vHiJGPSr9qNH"
   },
   "source": [
    "# Headers\n",
    "\n",
    "- '#' 의 수에 따라 1 ~ 6 까지 크기가 달라진다\n",
    "```\n",
    "# 1\n",
    "## 2\n",
    "### 3\n",
    "#### 4\n",
    "##### 5\n",
    "###### 6\n",
    "####### 7\n"
   ]
  },
  {
   "cell_type": "markdown",
   "metadata": {
    "id": "jehSUjB09qNH"
   },
   "source": [
    "# 1\n",
    "## 2\n",
    "### 3\n",
    "#### 4\n",
    "##### 5\n",
    "###### 6\n",
    "#######7"
   ]
  },
  {
   "cell_type": "markdown",
   "metadata": {
    "id": "GKXHbhr89qNI"
   },
   "source": [
    "# Block Quote\n",
    "- 다른 문서의 글이나 말을 가져올 때 인용부호를 사용한다.\n",
    "- 이메일에서 사용하는 > 블록 인용 문자를 사용한다.\n",
    "\n",
    "```\n",
    "> 이메일 블록 인용 문자\n",
    ">    > 계층을 만들 수도 있다.\n",
    ">    >    > 다양한 계층 형태가 가능하다.\n",
    "```"
   ]
  },
  {
   "cell_type": "markdown",
   "metadata": {
    "id": "fszDyJzE9qNI"
   },
   "source": [
    "> 이메일 블록\n",
    ">   > 계층을 만들 수도 있다.\n",
    ">   >   > 다양한 계층 형태가 가능하다."
   ]
  },
  {
   "cell_type": "markdown",
   "metadata": {
    "id": "1UCZR2a69qNI"
   },
   "source": [
    "#  순서있는 목록\n",
    "\n",
    "- 숫자와 점을 사용한다. 숫자는 순서와 상관 없이 내림차순으로 정리된다.\n",
    "\n",
    "```\n",
    "1. 1번\n",
    "2. 2번\n",
    "3. 3번\n",
    "\n",
    "1. 1번\n",
    "3. 3번\n",
    "2. 2번\n",
    "```"
   ]
  },
  {
   "cell_type": "markdown",
   "metadata": {
    "id": "L2IfdX5F9qNI"
   },
   "source": [
    "1. 1번\n",
    "2. 2번\n",
    "3. 3번"
   ]
  },
  {
   "cell_type": "markdown",
   "metadata": {
    "id": "xCbJbaQw9qNI"
   },
   "source": [
    "1. 1번\n",
    "3. 3번\n",
    "2. 2번"
   ]
  },
  {
   "cell_type": "markdown",
   "metadata": {
    "id": "PZIzBD7L9qNI"
   },
   "source": [
    "# 순서없는 목록\n",
    "\n",
    "- 순서 없는 목록은 '*', '+', '-' 중 하나를 선택해서 사용한다.\n",
    "- 혼용해도 상관 없다.\n",
    "\n",
    "```\n",
    "* 순서 없는 목록\n",
    "    * 들여쓰기로 계층 만들기\n",
    "        * 3단계까지 계층 만들기 가능\n",
    "            * 4단계부터는 3단계의 기호를 그대로 표시\n",
    "```"
   ]
  },
  {
   "cell_type": "markdown",
   "metadata": {
    "id": "t2nHmkuQ9qNI"
   },
   "source": [
    "* 순서없는 목록\n",
    "    * 들여쓰기로 계층\n",
    "        * 3단계까지 가능\n",
    "            * 4단계부터는 3단계의 기호로 표시"
   ]
  },
  {
   "cell_type": "markdown",
   "metadata": {
    "id": "lL8bSy2K9qNI"
   },
   "source": [
    "# 한줄 내림\n",
    "- 한줄을 내리기 위해서는 두줄 이상 내려야 한다.\n",
    "\n",
    "```\n",
    "안녕하세요.\n",
    "\n",
    "반갑습니다.\n",
    "```"
   ]
  },
  {
   "cell_type": "markdown",
   "metadata": {
    "id": "sft4J9YG9qNI"
   },
   "source": [
    "안녕하세요.\n",
    "\n",
    "반갑습니다."
   ]
  },
  {
   "cell_type": "markdown",
   "metadata": {
    "id": "LzB9nmqT9qNI"
   },
   "source": [
    "- 또는 줄바꿈가 필요한 곳에서 세칸이상 공백을 넣고 한줄만 내리면 한줄 내림이 된다.\n",
    "\n",
    "```\n",
    "안녕하세요.   \n",
    "반갑습니다.\n",
    "```"
   ]
  },
  {
   "cell_type": "markdown",
   "metadata": {
    "id": "z3TiptOp9qNJ"
   },
   "source": [
    "안녕하세요.                       \n",
    "반갑습니다."
   ]
  },
  {
   "cell_type": "markdown",
   "metadata": {
    "id": "4WDgPR7L9qNJ"
   },
   "source": [
    "# Code block\n",
    "- ```<pre><code> 코드 입력 </pre></code>``` 를 사용한다.\n",
    "\n",
    "```\n",
    "<pre><code>\n",
    "def start():\n",
    "  print(\"시작합니다.\")\n",
    "\n",
    "start()\n",
    "</code></pre>\n",
    "```"
   ]
  },
  {
   "cell_type": "markdown",
   "metadata": {
    "id": "YeBSOubm9qNJ"
   },
   "source": [
    "<pre><code>\n",
    "def start():\n",
    "    print(\"시작합니다.\")\n",
    "\n",
    "start()\n",
    "</code></pre>"
   ]
  },
  {
   "cell_type": "markdown",
   "metadata": {
    "id": "_3Fhfw-k9qNJ"
   },
   "source": [
    "- 또는 ``` 를 이용하여 코드를 작성할 수 있다.\n",
    "\n",
    "<pre><code>\n",
    "```html\n",
    "<a href='https://www.google.com'>구글</a>\n",
    "```\n",
    "```css\n",
    ".list > li {\n",
    "  position:absolute;\n",
    "  top:40px;\n",
    "}\n",
    "```\n",
    "```javascript\n",
    "function test() {\n",
    "  let ls = [1,2,3];\n",
    "  return ls;\n",
    "}\n",
    "```\n",
    "```bash\n",
    "$ vim /etc/hosts\n",
    "```\n",
    "```python\n",
    "dict = {'동물':['호랑이','사자','기린']}\n",
    "print(dict)\n",
    "```\n",
    "</code></pre>"
   ]
  },
  {
   "cell_type": "markdown",
   "metadata": {
    "id": "t4JS-N-09qNJ"
   },
   "source": [
    "```html\n",
    "<a href='https://www.google.com'>구글</a>\n",
    "```\n",
    "\n",
    "```css\n",
    ".list > li {\n",
    "    position:absolute;\n",
    "    top:40px;\n",
    "}\n",
    "```\n",
    "\n",
    "```javascript\n",
    "function test() {\n",
    "    let ls = [1,2,3];\n",
    "    return ls;\n",
    "}\n",
    "```\n",
    "\n",
    "```bash\n",
    "$ vim /etc/hosts\n",
    "```\n",
    "\n",
    "```python\n",
    "dict = {'동물' : ['호랑이', '사자', '기린']};\n",
    "print(dict);\n",
    "```"
   ]
  },
  {
   "cell_type": "markdown",
   "metadata": {
    "id": "DdvOg-6r9qNJ"
   },
   "source": [
    "# 수평선\n",
    "- ```'* * *', '***', '*****', '- - -', '---', '----------------'``` 을 사용한다.\n",
    "- 기호의 갯수는 상관 없다.\n",
    "\n",
    "```\n",
    "* * *   \n",
    "***   \n",
    "*****   \n",
    "- - -    \n",
    "---   \n",
    "-------------------   \n",
    "```"
   ]
  },
  {
   "cell_type": "markdown",
   "metadata": {
    "id": "MMaSmXsr9qNJ"
   },
   "source": [
    "* * *\n",
    "\n",
    "***\n",
    "\n",
    "*****\n",
    "\n",
    "****\n",
    "\n",
    "- - -\n",
    "\n",
    "---\n",
    "\n",
    "--------------------------------\n"
   ]
  },
  {
   "cell_type": "markdown",
   "metadata": {
    "id": "RtJnQ2p39qNJ"
   },
   "source": [
    "# Link\n",
    "- [link 이름](link Url) 을 사용한다.\n",
    "\n",
    "```\n",
    "[Google](http://www.google.com)\n",
    "[Naver](http://www.naver.com)\n",
    "```"
   ]
  },
  {
   "cell_type": "markdown",
   "metadata": {
    "id": "5a_C3LCI9qNJ"
   },
   "source": [
    "[Google](https://www.google.com)   \n",
    "[Naver](https://www.naver.com)"
   ]
  },
  {
   "cell_type": "markdown",
   "metadata": {
    "id": "7jwFI7tf9qNJ"
   },
   "source": [
    "- url 을 직접 연결하여 link를 만들 수도 있다.\n",
    "\n",
    "```\n",
    "Goggle: <https://www.google.com>\n",
    "```"
   ]
  },
  {
   "cell_type": "markdown",
   "metadata": {
    "id": "UtP_n9Yv9qNJ"
   },
   "source": [
    "Google : <https://www.google.com>"
   ]
  },
  {
   "cell_type": "markdown",
   "metadata": {
    "id": "ojLfWAY39qNJ"
   },
   "source": [
    "# 강조\n",
    "- '*', '_' 의 숫자에 따라 강조가 달라진다.\n",
    "\n",
    "```\n",
    "*single asterisk*\n",
    "_single underbar_\n",
    "**double asterisks**\n",
    "__double underbar__\n",
    "~~canceline~~\n",
    "```"
   ]
  },
  {
   "cell_type": "markdown",
   "metadata": {
    "id": "aYr4ZweP9qNJ"
   },
   "source": [
    "*single asterisk*   \n",
    "_single underbar_   \n",
    "**double asterisks**   \n",
    "__double underbars__   \n",
    "~~cancelline~~   "
   ]
  },
  {
   "cell_type": "markdown",
   "metadata": {
    "id": "-_6hpdfG9qNK"
   },
   "source": [
    "- 윗 첨자는 `<sup>`, 아랫  첨자는 `<sub>`를 사용한다.\n",
    "\n",
    "```\n",
    "윗 첨자 : 0(*n*<sup>2</sup>)\n",
    "아랫 첨자 : 0(*n*<sub>2</sub>)\n",
    "```"
   ]
  },
  {
   "cell_type": "markdown",
   "metadata": {
    "id": "vfYN8uB09qNK"
   },
   "source": [
    "윗 첨자 : 0(*n*<sup>2</sup>)   \n",
    "아랫 첨자 : 0(*n*<sub>2</sub>)"
   ]
  },
  {
   "cell_type": "markdown",
   "metadata": {
    "id": "rKhooU9Y9qNK"
   },
   "source": [
    "- 밑줄은 `<u></u>`를 사용한다.\n",
    "\n",
    "```\n",
    "밑줄은 <u>```<u></u>```</u>를 사용한다.\n",
    "```"
   ]
  },
  {
   "cell_type": "markdown",
   "metadata": {
    "id": "C5uht6Y49qNK"
   },
   "source": [
    "밑줄은 <u>`<u></u>`</u>를 사용한다."
   ]
  },
  {
   "cell_type": "markdown",
   "metadata": {
    "id": "B81l70UM9qNK"
   },
   "source": [
    "# 이미지\n",
    "- ![대체 문자열](이미지 경로 \"링크 설명문(title)\") 을 사용한다.\n",
    "\n",
    "```\n",
    "![\"w3 그림\"](https://www.w3schools.com/html/pic_trulli.jpg \"w3school 그림\")\n",
    "\n",
    "![Kayak][girl]\n",
    "[girl]: https://www.w3schools.com/html/img_girl.jpg \"Girl in the Jacket.\"\n",
    "\n",
    "\\# 이미지에 링크\n",
    "[![Vue](https://heropy.blog/images/vue.png)](https://kr.vuejs.org)\n",
    "```"
   ]
  },
  {
   "cell_type": "markdown",
   "metadata": {
    "id": "GQsEE6t69qNK"
   },
   "source": [
    "![\"w3 그림\"](https://www.w3schools.com/html/pic_trulli.jpg \"w3school 그림\")"
   ]
  },
  {
   "cell_type": "markdown",
   "metadata": {
    "id": "k-jNK8MN9qNK"
   },
   "source": [
    "![Kayak][girl]\n",
    "\n",
    "[girl]: https://www.w3schools.com/html/img_girl.jpg \"Girl in the Jacket.\""
   ]
  },
  {
   "cell_type": "markdown",
   "metadata": {
    "id": "cGyCQMEG9qNK"
   },
   "source": [
    "\\# 이미지에 링크\n",
    "[![Vue](https://heropy.blog/images/vue.png)](https://kr.vuejs.org)"
   ]
  },
  {
   "cell_type": "markdown",
   "metadata": {
    "id": "pztJZhJB9qNK"
   },
   "source": [
    "# 클릭보드로 붙여넣기\n",
    "![image.png](data:image/png;base64,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)"
   ]
  },
  {
   "cell_type": "markdown",
   "metadata": {
    "id": "Q68I-5a-9qNK"
   },
   "source": [
    "# 표(table)\n",
    "- 헤더는 '---' 을 이용한다.\n",
    "\n",
    "```\n",
    "|name|age|\n",
    "|---|---|\n",
    "|hong|22|\n",
    "|lee|24|\n",
    "```"
   ]
  },
  {
   "cell_type": "markdown",
   "metadata": {
    "id": "IwuPQRs59qNK"
   },
   "source": [
    "|name|age|\n",
    "| --- | --- |\n",
    "|hong|22|\n",
    "|lee|24|"
   ]
  },
  {
   "cell_type": "markdown",
   "metadata": {
    "id": "lAQcBbXg9qNK"
   },
   "source": [
    "- 정렬은 :--- 오른쪽 정렬 ---: 왼쪽 정렬 :---: 중앙 정렬이다.\n",
    "\n",
    "```\n",
    "|left_sort|center_sort|right_sort|\n",
    "|:---|:---:|---:|\n",
    "||center||\n",
    "|left|||\n",
    "|||right|\n",
    "````"
   ]
  },
  {
   "cell_type": "markdown",
   "metadata": {
    "id": "gpVoD_199qNL"
   },
   "source": [
    "|left_sort|center_sorrt|right_sort|\n",
    "|:---|:---:|---:|\n",
    "||center||\n",
    "|left|||\n",
    "|||right|"
   ]
  },
  {
   "cell_type": "markdown",
   "metadata": {
    "id": "Phyv5QN99qNN"
   },
   "source": [
    "# 외부 명령어\n",
    "- '!' 에 리눅스 명령어를 사용하면 Jupyter notebook 에서 볼 수 있다."
   ]
  },
  {
   "cell_type": "code",
   "execution_count": 1,
   "metadata": {
    "colab": {
     "base_uri": "https://localhost:8080/"
    },
    "executionInfo": {
     "elapsed": 5,
     "status": "ok",
     "timestamp": 1715814850957,
     "user": {
      "displayName": "금영석",
      "userId": "17912695323032883966"
     },
     "user_tz": -540
    },
    "id": "PWT62HEO9qNN",
    "outputId": "c32f5c16-52de-46ae-a49c-a1e2fab93dda"
   },
   "outputs": [
    {
     "name": "stdout",
     "output_type": "stream",
     "text": [
      "sample_data\n"
     ]
    }
   ],
   "source": [
    "!ls"
   ]
  }
 ],
 "metadata": {
  "colab": {
   "provenance": []
  },
  "kernelspec": {
   "display_name": "Python 3",
   "language": "python",
   "name": "python3"
  },
  "language_info": {
   "codemirror_mode": {
    "name": "ipython",
    "version": 3
   },
   "file_extension": ".py",
   "mimetype": "text/x-python",
   "name": "python",
   "nbconvert_exporter": "python",
   "pygments_lexer": "ipython3",
   "version": "3.13.3"
  }
 },
 "nbformat": 4,
 "nbformat_minor": 0
}

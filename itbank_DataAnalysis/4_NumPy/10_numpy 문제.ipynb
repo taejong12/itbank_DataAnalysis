{
 "cells": [
  {
   "cell_type": "markdown",
   "metadata": {
    "id": "view-in-github"
   },
   "source": [
    "<a href=\"https://colab.research.google.com/github/kys0554/bigdata/blob/main/numpy.ipynb\" target=\"_parent\"><img src=\"https://colab.research.google.com/assets/colab-badge.svg\" alt=\"Open In Colab\"/></a>"
   ]
  },
  {
   "cell_type": "markdown",
   "metadata": {
    "id": "BM6F_FQDcK1u"
   },
   "source": [
    "## 실습문제"
   ]
  },
  {
   "cell_type": "markdown",
   "metadata": {
    "id": "KITHRzDne6mP"
   },
   "source": [
    "### 문제 1 \n",
    "2*2 integers 다차원 배열을 초기화 하지 않은 상태로 생성하세요 \n",
    "\n"
   ]
  },
  {
   "cell_type": "code",
   "execution_count": 1,
   "metadata": {},
   "outputs": [
    {
     "data": {
      "text/plain": [
       "array([[ 9047471135182230488, -8637042260017906295],\n",
       "       [ 5232167437088840708,  1429933614373866455]])"
      ]
     },
     "execution_count": 1,
     "metadata": {},
     "output_type": "execute_result"
    }
   ],
   "source": [
    "import numpy as np \n",
    "\n",
    "np.empty((2,2), dtype=int)"
   ]
  },
  {
   "cell_type": "markdown",
   "metadata": {
    "id": "LotHbNjifGI1"
   },
   "source": [
    "### 문제 2\n",
    "x=np.array( [ [1,2,3],[4,5,6] ], dtype=np.int32) 일때 x와 동일한 shape를 가지는 다차원 배열을 초기화 하지 않은 상태로 생성하세요"
   ]
  },
  {
   "cell_type": "code",
   "execution_count": null,
   "metadata": {},
   "outputs": [
    {
     "data": {
      "text/plain": [
       "array([[0, 0, 0],\n",
       "       [0, 0, 0]], dtype=int32)"
      ]
     },
     "execution_count": 3,
     "metadata": {},
     "output_type": "execute_result"
    }
   ],
   "source": [
    "x = np.array([[1,2,3],[4,5,6]], dtype=\"int32\")\n",
    "\n",
    "np.empty_like(x)"
   ]
  },
  {
   "cell_type": "code",
   "execution_count": 4,
   "metadata": {},
   "outputs": [
    {
     "data": {
      "text/plain": [
       "array([[1, 1, 1],\n",
       "       [1, 1, 1]], dtype=int32)"
      ]
     },
     "execution_count": 4,
     "metadata": {},
     "output_type": "execute_result"
    }
   ],
   "source": [
    "np.ones_like(x)"
   ]
  },
  {
   "cell_type": "code",
   "execution_count": 5,
   "metadata": {},
   "outputs": [
    {
     "data": {
      "text/plain": [
       "array([[0, 0, 0],\n",
       "       [0, 0, 0]], dtype=int32)"
      ]
     },
     "execution_count": 5,
     "metadata": {},
     "output_type": "execute_result"
    }
   ],
   "source": [
    "np.zeros_like(x)"
   ]
  },
  {
   "cell_type": "markdown",
   "metadata": {
    "id": "A5qIloqqfI2l"
   },
   "source": [
    "### 문제 3\n",
    "크기가 3인 단위 행렬을 생성하세요"
   ]
  },
  {
   "cell_type": "code",
   "execution_count": 6,
   "metadata": {},
   "outputs": [
    {
     "data": {
      "text/plain": [
       "array([[1., 0., 0.],\n",
       "       [0., 1., 0.],\n",
       "       [0., 0., 1.]])"
      ]
     },
     "execution_count": 6,
     "metadata": {},
     "output_type": "execute_result"
    }
   ],
   "source": [
    "np.identity(3)"
   ]
  },
  {
   "cell_type": "code",
   "execution_count": 7,
   "metadata": {},
   "outputs": [
    {
     "data": {
      "text/plain": [
       "array([[1., 0., 0.],\n",
       "       [0., 1., 0.],\n",
       "       [0., 0., 1.]])"
      ]
     },
     "execution_count": 7,
     "metadata": {},
     "output_type": "execute_result"
    }
   ],
   "source": [
    "np.eye(3)"
   ]
  },
  {
   "cell_type": "markdown",
   "metadata": {
    "id": "IgTuJSInfO01"
   },
   "source": [
    "### 문제 4\n",
    "모든 원소가 1로 채워진 3*2 실수형 다차원 배열을 생성하세요"
   ]
  },
  {
   "cell_type": "code",
   "execution_count": 8,
   "metadata": {},
   "outputs": [
    {
     "data": {
      "text/plain": [
       "array([[1., 1.],\n",
       "       [1., 1.],\n",
       "       [1., 1.]], dtype=float32)"
      ]
     },
     "execution_count": 8,
     "metadata": {},
     "output_type": "execute_result"
    }
   ],
   "source": [
    "np.ones((3,2), dtype=\"float32\")"
   ]
  },
  {
   "cell_type": "code",
   "execution_count": 9,
   "metadata": {},
   "outputs": [
    {
     "data": {
      "text/plain": [
       "array([[1., 1.],\n",
       "       [1., 1.],\n",
       "       [1., 1.]])"
      ]
     },
     "execution_count": 9,
     "metadata": {},
     "output_type": "execute_result"
    }
   ],
   "source": [
    "np.ones((3,2))"
   ]
  },
  {
   "cell_type": "markdown",
   "metadata": {
    "id": "ZDDoVkEvfRS8"
   },
   "source": [
    "### 문제 5\n",
    "x=np.arange(4, dtype=np.int64) 일때 x 와 동일한 shape를 가지고 모든 원소가 1인 다차원 배열을 생성하세요 \n"
   ]
  },
  {
   "cell_type": "code",
   "execution_count": 10,
   "metadata": {},
   "outputs": [
    {
     "data": {
      "text/plain": [
       "array([1, 1, 1, 1])"
      ]
     },
     "execution_count": 10,
     "metadata": {},
     "output_type": "execute_result"
    }
   ],
   "source": [
    "x = np.arange(4, dtype=np.int64)\n",
    "\n",
    "np.ones_like(x)"
   ]
  },
  {
   "cell_type": "markdown",
   "metadata": {
    "id": "5MoJheZpfTtL"
   },
   "source": [
    "### 문제 6\n",
    "모든 원소가 0으로 채워진 3*2 실수형 다차원 배열을 생성하세요\n"
   ]
  },
  {
   "cell_type": "code",
   "execution_count": 11,
   "metadata": {},
   "outputs": [
    {
     "data": {
      "text/plain": [
       "array([[0., 0.],\n",
       "       [0., 0.],\n",
       "       [0., 0.]])"
      ]
     },
     "execution_count": 11,
     "metadata": {},
     "output_type": "execute_result"
    }
   ],
   "source": [
    "np.zeros((3,2))"
   ]
  },
  {
   "cell_type": "markdown",
   "metadata": {
    "id": "JCgJUtGUfXl0"
   },
   "source": [
    "### 문제 7\n",
    "x = np.arange(4, dtype=np.int64) 일때 x와 동일한 shape 의 영행렬을 생성하세요\n"
   ]
  },
  {
   "cell_type": "code",
   "execution_count": 12,
   "metadata": {},
   "outputs": [
    {
     "data": {
      "text/plain": [
       "array([0, 0, 0, 0])"
      ]
     },
     "execution_count": 12,
     "metadata": {},
     "output_type": "execute_result"
    }
   ],
   "source": [
    "x = np.arange(4, dtype=\"int64\")\n",
    "\n",
    "np.zeros_like(x)"
   ]
  },
  {
   "cell_type": "markdown",
   "metadata": {
    "id": "7wjrRSdMfZy6"
   },
   "source": [
    "### 문제 8\n",
    "모든 원소가 6으로 채워진 2*5 uint(부호가 없는 정수) 다차원 배열을 생성하세요"
   ]
  },
  {
   "cell_type": "code",
   "execution_count": 13,
   "metadata": {},
   "outputs": [
    {
     "data": {
      "text/plain": [
       "array([[6, 6, 6, 6, 6],\n",
       "       [6, 6, 6, 6, 6]], dtype=uint64)"
      ]
     },
     "execution_count": 13,
     "metadata": {},
     "output_type": "execute_result"
    }
   ],
   "source": [
    "np.full((2,5), 6, dtype=\"uint\")"
   ]
  },
  {
   "cell_type": "code",
   "execution_count": 19,
   "metadata": {},
   "outputs": [
    {
     "data": {
      "text/plain": [
       "array([[6, 6, 6, 6, 6],\n",
       "       [6, 6, 6, 6, 6]], dtype=uint64)"
      ]
     },
     "execution_count": 19,
     "metadata": {},
     "output_type": "execute_result"
    }
   ],
   "source": [
    "np.ones((2,5), dtype=np.uint) * 6"
   ]
  },
  {
   "cell_type": "markdown",
   "metadata": {
    "id": "AGKlMrpsfcMb"
   },
   "source": [
    "### 문제 9\n",
    "x=np.arange(4, dtype=np.int64) 일때 x와 동일한 shape이고 모든 원소가 6인 다차원 배열을 생성하세요\n"
   ]
  },
  {
   "cell_type": "code",
   "execution_count": 20,
   "metadata": {},
   "outputs": [
    {
     "data": {
      "text/plain": [
       "array([0, 1, 2, 3])"
      ]
     },
     "execution_count": 20,
     "metadata": {},
     "output_type": "execute_result"
    }
   ],
   "source": [
    "x = np.arange(4, dtype=\"int64\")\n",
    "x"
   ]
  },
  {
   "cell_type": "code",
   "execution_count": null,
   "metadata": {},
   "outputs": [
    {
     "data": {
      "text/plain": [
       "array([6, 6, 6, 6])"
      ]
     },
     "execution_count": 22,
     "metadata": {},
     "output_type": "execute_result"
    }
   ],
   "source": [
    "np.full((4,), 6, dtype=np.int64)"
   ]
  },
  {
   "cell_type": "code",
   "execution_count": 23,
   "metadata": {},
   "outputs": [
    {
     "data": {
      "text/plain": [
       "array([6, 6, 6, 6])"
      ]
     },
     "execution_count": 23,
     "metadata": {},
     "output_type": "execute_result"
    }
   ],
   "source": [
    "np.full_like(x, 6, dtype=\"int64\")"
   ]
  },
  {
   "cell_type": "code",
   "execution_count": 24,
   "metadata": {},
   "outputs": [
    {
     "data": {
      "text/plain": [
       "array([6, 6, 6, 6])"
      ]
     },
     "execution_count": 24,
     "metadata": {},
     "output_type": "execute_result"
    }
   ],
   "source": [
    "6 * np.ones_like(x, dtype=\"int64\")"
   ]
  },
  {
   "cell_type": "markdown",
   "metadata": {
    "id": "gy7ceZVvfeyq"
   },
   "source": [
    "### 문제 10\n",
    "[1,2,3] 배열을 생성하세요\n"
   ]
  },
  {
   "cell_type": "code",
   "execution_count": 26,
   "metadata": {},
   "outputs": [
    {
     "data": {
      "text/plain": [
       "array([1, 2, 3])"
      ]
     },
     "execution_count": 26,
     "metadata": {},
     "output_type": "execute_result"
    }
   ],
   "source": [
    "x = np.array([1,2,3])\n",
    "x"
   ]
  },
  {
   "cell_type": "code",
   "execution_count": 27,
   "metadata": {},
   "outputs": [
    {
     "data": {
      "text/plain": [
       "[1, 2, 3]"
      ]
     },
     "execution_count": 27,
     "metadata": {},
     "output_type": "execute_result"
    }
   ],
   "source": [
    "x_list = x.tolist()\n",
    "x_list"
   ]
  },
  {
   "cell_type": "markdown",
   "metadata": {
    "id": "juXwNdnjfiBq"
   },
   "source": [
    "### 문제 11\n",
    "x=[1, 2] 일때 (python list 상태) x를 배열로 변환하세요\n",
    "\n"
   ]
  },
  {
   "cell_type": "code",
   "execution_count": 28,
   "metadata": {},
   "outputs": [
    {
     "data": {
      "text/plain": [
       "array([1, 2])"
      ]
     },
     "execution_count": 28,
     "metadata": {},
     "output_type": "execute_result"
    }
   ],
   "source": [
    "x = [1,2]\n",
    "\n",
    "np.array(x)"
   ]
  },
  {
   "cell_type": "markdown",
   "metadata": {
    "id": "rOwBZbjNflpI"
   },
   "source": [
    "### 문제 12\n",
    "x=[1,2] 일 때 (python list 상태) 일때 x를 float 형 배열로 변환하세요 \n"
   ]
  },
  {
   "cell_type": "code",
   "execution_count": 29,
   "metadata": {},
   "outputs": [
    {
     "data": {
      "text/plain": [
       "array([1., 2.])"
      ]
     },
     "execution_count": 29,
     "metadata": {},
     "output_type": "execute_result"
    }
   ],
   "source": [
    "x = [1, 2]\n",
    "\n",
    "np.array(x, dtype=\"float\")"
   ]
  },
  {
   "cell_type": "markdown",
   "metadata": {
    "id": "46qen4SZfoFi"
   },
   "source": [
    "### 문제 13\n",
    "2,4,6,8,10 …. 100 을 원소를 가지는 배열을 생성하세요\n",
    "\n",
    "\n"
   ]
  },
  {
   "cell_type": "code",
   "execution_count": 30,
   "metadata": {},
   "outputs": [
    {
     "data": {
      "text/plain": [
       "array([  2,   4,   6,   8,  10,  12,  14,  16,  18,  20,  22,  24,  26,\n",
       "        28,  30,  32,  34,  36,  38,  40,  42,  44,  46,  48,  50,  52,\n",
       "        54,  56,  58,  60,  62,  64,  66,  68,  70,  72,  74,  76,  78,\n",
       "        80,  82,  84,  86,  88,  90,  92,  94,  96,  98, 100])"
      ]
     },
     "execution_count": 30,
     "metadata": {},
     "output_type": "execute_result"
    }
   ],
   "source": [
    "np.arange(start=2, stop=101, step=2)"
   ]
  },
  {
   "cell_type": "code",
   "execution_count": 31,
   "metadata": {},
   "outputs": [
    {
     "data": {
      "text/plain": [
       "array([  2,   4,   6,   8,  10,  12,  14,  16,  18,  20,  22,  24,  26,\n",
       "        28,  30,  32,  34,  36,  38,  40,  42,  44,  46,  48,  50,  52,\n",
       "        54,  56,  58,  60,  62,  64,  66,  68,  70,  72,  74,  76,  78,\n",
       "        80,  82,  84,  86,  88,  90,  92,  94,  96,  98, 100])"
      ]
     },
     "execution_count": 31,
     "metadata": {},
     "output_type": "execute_result"
    }
   ],
   "source": [
    "np.arange(2, 101, 2)"
   ]
  },
  {
   "cell_type": "code",
   "execution_count": 32,
   "metadata": {},
   "outputs": [
    {
     "data": {
      "text/plain": [
       "array([  2,   4,   6,   8,  10,  12,  14,  16,  18,  20,  22,  24,  26,\n",
       "        28,  30,  32,  34,  36,  38,  40,  42,  44,  46,  48,  50,  52,\n",
       "        54,  56,  58,  60,  62,  64,  66,  68,  70,  72,  74,  76,  78,\n",
       "        80,  82,  84,  86,  88,  90,  92,  94,  96,  98, 100])"
      ]
     },
     "execution_count": 32,
     "metadata": {},
     "output_type": "execute_result"
    }
   ],
   "source": [
    "np.linspace(2, 100, 50, dtype=int)"
   ]
  },
  {
   "cell_type": "markdown",
   "metadata": {
    "id": "QwkAqsHWfqCg"
   },
   "source": [
    "### 문제 14\n",
    "3.0에서 10.0 까지 50개의 원소가 균일하게 분포된 1차원 배열을 생성하세요"
   ]
  },
  {
   "cell_type": "code",
   "execution_count": 33,
   "metadata": {},
   "outputs": [
    {
     "data": {
      "text/plain": [
       "array([ 3.        ,  3.14285714,  3.28571429,  3.42857143,  3.57142857,\n",
       "        3.71428571,  3.85714286,  4.        ,  4.14285714,  4.28571429,\n",
       "        4.42857143,  4.57142857,  4.71428571,  4.85714286,  5.        ,\n",
       "        5.14285714,  5.28571429,  5.42857143,  5.57142857,  5.71428571,\n",
       "        5.85714286,  6.        ,  6.14285714,  6.28571429,  6.42857143,\n",
       "        6.57142857,  6.71428571,  6.85714286,  7.        ,  7.14285714,\n",
       "        7.28571429,  7.42857143,  7.57142857,  7.71428571,  7.85714286,\n",
       "        8.        ,  8.14285714,  8.28571429,  8.42857143,  8.57142857,\n",
       "        8.71428571,  8.85714286,  9.        ,  9.14285714,  9.28571429,\n",
       "        9.42857143,  9.57142857,  9.71428571,  9.85714286, 10.        ])"
      ]
     },
     "execution_count": 33,
     "metadata": {},
     "output_type": "execute_result"
    }
   ],
   "source": [
    "np.linspace(3.0, 10.0, 50)"
   ]
  },
  {
   "cell_type": "code",
   "execution_count": 34,
   "metadata": {},
   "outputs": [
    {
     "data": {
      "text/plain": [
       "array([ 3.        ,  3.14285714,  3.28571429,  3.42857143,  3.57142857,\n",
       "        3.71428571,  3.85714286,  4.        ,  4.14285714,  4.28571429,\n",
       "        4.42857143,  4.57142857,  4.71428571,  4.85714286,  5.        ,\n",
       "        5.14285714,  5.28571429,  5.42857143,  5.57142857,  5.71428571,\n",
       "        5.85714286,  6.        ,  6.14285714,  6.28571429,  6.42857143,\n",
       "        6.57142857,  6.71428571,  6.85714286,  7.        ,  7.14285714,\n",
       "        7.28571429,  7.42857143,  7.57142857,  7.71428571,  7.85714286,\n",
       "        8.        ,  8.14285714,  8.28571429,  8.42857143,  8.57142857,\n",
       "        8.71428571,  8.85714286,  9.        ,  9.14285714,  9.28571429,\n",
       "        9.42857143,  9.57142857,  9.71428571,  9.85714286, 10.        ])"
      ]
     },
     "execution_count": 34,
     "metadata": {},
     "output_type": "execute_result"
    }
   ],
   "source": [
    "np.linspace(3, 10, 50)"
   ]
  },
  {
   "cell_type": "markdown",
   "metadata": {
    "id": "LEwUg_EIsKh-"
   },
   "source": [
    "## 실습문제 2"
   ]
  },
  {
   "cell_type": "markdown",
   "metadata": {
    "id": "EXyuTA5oLiA4"
   },
   "source": [
    "### 문제1 \n",
    "X가 10 x 10 x 3 의 다차원 배열일때 x의 두번째 차원이 150인 2차원 배열이 되도록 reshape 하세요.\n",
    "\n"
   ]
  },
  {
   "cell_type": "code",
   "execution_count": 36,
   "metadata": {},
   "outputs": [
    {
     "data": {
      "text/plain": [
       "((10, 10, 3), 3)"
      ]
     },
     "execution_count": 36,
     "metadata": {},
     "output_type": "execute_result"
    }
   ],
   "source": [
    "x = np.ones([10,10,3])\n",
    "x.shape, x.ndim"
   ]
  },
  {
   "cell_type": "code",
   "execution_count": 39,
   "metadata": {},
   "outputs": [],
   "source": [
    "y = x.reshape(2, 150)"
   ]
  },
  {
   "cell_type": "code",
   "execution_count": 40,
   "metadata": {},
   "outputs": [
    {
     "data": {
      "text/plain": [
       "((2, 150), 2)"
      ]
     },
     "execution_count": 40,
     "metadata": {},
     "output_type": "execute_result"
    }
   ],
   "source": [
    "y = x.reshape(-1, 150)\n",
    "y.shape, y.ndim"
   ]
  },
  {
   "cell_type": "markdown",
   "metadata": {
    "id": "VrHHeNqxMLrQ"
   },
   "source": [
    "### 문제 2 \n",
    "x가 [ [1,2,3], [4,5,6] ] 일때 [1,4,2,5,3,6] 으로 변환하세요\n"
   ]
  },
  {
   "cell_type": "code",
   "execution_count": 41,
   "metadata": {},
   "outputs": [
    {
     "data": {
      "text/plain": [
       "(2, (2, 3))"
      ]
     },
     "execution_count": 41,
     "metadata": {},
     "output_type": "execute_result"
    }
   ],
   "source": [
    "x = np.array([[1,2,3],[4,5,6]])\n",
    "x.ndim, x.shape"
   ]
  },
  {
   "cell_type": "code",
   "execution_count": 42,
   "metadata": {},
   "outputs": [
    {
     "data": {
      "text/plain": [
       "array([1, 2, 3, 4, 5, 6])"
      ]
     },
     "execution_count": 42,
     "metadata": {},
     "output_type": "execute_result"
    }
   ],
   "source": [
    "x.ravel()"
   ]
  },
  {
   "cell_type": "code",
   "execution_count": 43,
   "metadata": {},
   "outputs": [
    {
     "data": {
      "text/plain": [
       "array([1, 2, 3, 4, 5, 6])"
      ]
     },
     "execution_count": 43,
     "metadata": {},
     "output_type": "execute_result"
    }
   ],
   "source": [
    "np.ravel(x)"
   ]
  },
  {
   "cell_type": "code",
   "execution_count": 44,
   "metadata": {},
   "outputs": [
    {
     "data": {
      "text/plain": [
       "array([1, 2, 3, 4, 5, 6])"
      ]
     },
     "execution_count": 44,
     "metadata": {},
     "output_type": "execute_result"
    }
   ],
   "source": [
    "x.flatten()"
   ]
  },
  {
   "cell_type": "code",
   "execution_count": 47,
   "metadata": {},
   "outputs": [
    {
     "data": {
      "text/plain": [
       "array([1, 4, 2, 5, 3, 6])"
      ]
     },
     "execution_count": 47,
     "metadata": {},
     "output_type": "execute_result"
    }
   ],
   "source": [
    "np.ravel(x.T)"
   ]
  },
  {
   "cell_type": "code",
   "execution_count": 48,
   "metadata": {},
   "outputs": [
    {
     "data": {
      "text/plain": [
       "array([1, 4, 2, 5, 3, 6])"
      ]
     },
     "execution_count": 48,
     "metadata": {},
     "output_type": "execute_result"
    }
   ],
   "source": [
    "x.T.ravel()"
   ]
  },
  {
   "cell_type": "code",
   "execution_count": 49,
   "metadata": {},
   "outputs": [
    {
     "data": {
      "text/plain": [
       "array([1, 4, 2, 5, 3, 6])"
      ]
     },
     "execution_count": 49,
     "metadata": {},
     "output_type": "execute_result"
    }
   ],
   "source": [
    "x.T.flatten()"
   ]
  },
  {
   "cell_type": "markdown",
   "metadata": {
    "id": "_IwvsWdKMUCm"
   },
   "source": [
    "### 문제 3 \n",
    "X가  [ [1,2,3], [4,5,6] ] 일때 flatten한 후 5번째 원소를 가져오세요\n"
   ]
  },
  {
   "cell_type": "code",
   "execution_count": 50,
   "metadata": {},
   "outputs": [
    {
     "data": {
      "text/plain": [
       "((2, 3), 2)"
      ]
     },
     "execution_count": 50,
     "metadata": {},
     "output_type": "execute_result"
    }
   ],
   "source": [
    "x = np.array([[1,2,3],[4,5,6]])\n",
    "x.shape, x.ndim"
   ]
  },
  {
   "cell_type": "code",
   "execution_count": 51,
   "metadata": {},
   "outputs": [
    {
     "data": {
      "text/plain": [
       "np.int64(5)"
      ]
     },
     "execution_count": 51,
     "metadata": {},
     "output_type": "execute_result"
    }
   ],
   "source": [
    "x.flatten()[4]"
   ]
  },
  {
   "cell_type": "code",
   "execution_count": 52,
   "metadata": {},
   "outputs": [
    {
     "data": {
      "text/plain": [
       "np.int64(5)"
      ]
     },
     "execution_count": 52,
     "metadata": {},
     "output_type": "execute_result"
    }
   ],
   "source": [
    "x.ravel()[4]"
   ]
  },
  {
   "cell_type": "markdown",
   "metadata": {
    "id": "u6ALpSLZMYpm"
   },
   "source": [
    "### 문제 4 \n",
    "X = [ [1,2,3], [4,5,6]] , y = [ [7,8,9],[10,11,12] ] x와 y를 연결해서 [ [1,2,3,7,8,9], [4,5,6,10,11,12] ] 를 만드세요\n",
    "\n"
   ]
  },
  {
   "cell_type": "code",
   "execution_count": 53,
   "metadata": {},
   "outputs": [],
   "source": [
    "x = np.array([[1,2,3],[4,5,6]])\n",
    "y = np.array([[7,8,9],[10,11,12]])"
   ]
  },
  {
   "cell_type": "code",
   "execution_count": 54,
   "metadata": {},
   "outputs": [
    {
     "data": {
      "text/plain": [
       "array([[ 8, 10, 12],\n",
       "       [14, 16, 18]])"
      ]
     },
     "execution_count": 54,
     "metadata": {},
     "output_type": "execute_result"
    }
   ],
   "source": [
    "x + y"
   ]
  },
  {
   "cell_type": "code",
   "execution_count": 56,
   "metadata": {},
   "outputs": [
    {
     "data": {
      "text/plain": [
       "array([[ 1,  2,  3],\n",
       "       [ 4,  5,  6],\n",
       "       [ 7,  8,  9],\n",
       "       [10, 11, 12]])"
      ]
     },
     "execution_count": 56,
     "metadata": {},
     "output_type": "execute_result"
    }
   ],
   "source": [
    "np.concatenate((x,y), axis=0)"
   ]
  },
  {
   "cell_type": "code",
   "execution_count": 57,
   "metadata": {},
   "outputs": [
    {
     "data": {
      "text/plain": [
       "array([[ 1,  2,  3,  7,  8,  9],\n",
       "       [ 4,  5,  6, 10, 11, 12]])"
      ]
     },
     "execution_count": 57,
     "metadata": {},
     "output_type": "execute_result"
    }
   ],
   "source": [
    "np.concatenate((x,y), axis=1)"
   ]
  },
  {
   "cell_type": "markdown",
   "metadata": {
    "id": "mJMWZy_bMc8O"
   },
   "source": [
    "### 문제 5\n",
    "X = [ [1,2,3], [4,5,6]] , y = [ [7,8,9],[10,11,12] ] x와 y를 연결해서 [ [1,2,3], [4,5,6], [7,8,9], [10,11,12] ] 를 만드세요"
   ]
  },
  {
   "cell_type": "code",
   "execution_count": 59,
   "metadata": {},
   "outputs": [
    {
     "data": {
      "text/plain": [
       "array([[ 1,  2,  3],\n",
       "       [ 4,  5,  6],\n",
       "       [ 7,  8,  9],\n",
       "       [10, 11, 12]])"
      ]
     },
     "execution_count": 59,
     "metadata": {},
     "output_type": "execute_result"
    }
   ],
   "source": [
    "np.concatenate((x,y))"
   ]
  },
  {
   "cell_type": "markdown",
   "metadata": {
    "id": "LHfY-CeJMh0V"
   },
   "source": [
    "### 문제 6\n",
    "x 가 [0,1,2] 일때, [0,0,1,1,2,2] 를 생성하세요 \n"
   ]
  },
  {
   "cell_type": "code",
   "execution_count": 60,
   "metadata": {},
   "outputs": [
    {
     "data": {
      "text/plain": [
       "array([0, 1, 2])"
      ]
     },
     "execution_count": 60,
     "metadata": {},
     "output_type": "execute_result"
    }
   ],
   "source": [
    "x = np.array([0,1,2])\n",
    "x"
   ]
  },
  {
   "cell_type": "code",
   "execution_count": 62,
   "metadata": {},
   "outputs": [
    {
     "data": {
      "text/plain": [
       "array([0, 0, 1, 1, 2, 2])"
      ]
     },
     "execution_count": 62,
     "metadata": {},
     "output_type": "execute_result"
    }
   ],
   "source": [
    "np.repeat(x, 2)"
   ]
  },
  {
   "cell_type": "code",
   "execution_count": 63,
   "metadata": {},
   "outputs": [
    {
     "data": {
      "text/plain": [
       "array([1, 1, 1, 2, 2, 2, 3, 3, 3, 4, 4, 4])"
      ]
     },
     "execution_count": 63,
     "metadata": {},
     "output_type": "execute_result"
    }
   ],
   "source": [
    "y = np.array([[1,2],[3,4]])\n",
    "np.repeat(y, 3)"
   ]
  },
  {
   "cell_type": "markdown",
   "metadata": {
    "id": "ynZLvfHvMkmF"
   },
   "source": [
    "### 문제 7 \n",
    "x가 [0,0,0,1,2,3,0,2,1,0] 일때  앞 뒤의 0을 제거 하세요"
   ]
  },
  {
   "cell_type": "code",
   "execution_count": 64,
   "metadata": {},
   "outputs": [
    {
     "data": {
      "text/plain": [
       "array([0, 0, 0, 1, 2, 3, 0, 2, 1, 0])"
      ]
     },
     "execution_count": 64,
     "metadata": {},
     "output_type": "execute_result"
    }
   ],
   "source": [
    "x = np.array([0,0,0,1,2,3,0,2,1,0])\n",
    "x"
   ]
  },
  {
   "cell_type": "code",
   "execution_count": 65,
   "metadata": {},
   "outputs": [
    {
     "data": {
      "text/plain": [
       "array([1, 2, 3, 0, 2, 1])"
      ]
     },
     "execution_count": 65,
     "metadata": {},
     "output_type": "execute_result"
    }
   ],
   "source": [
    "np.trim_zeros(x)"
   ]
  },
  {
   "cell_type": "code",
   "execution_count": 66,
   "metadata": {},
   "outputs": [
    {
     "data": {
      "text/plain": [
       "array([1, 2, 3, 0, 2, 1])"
      ]
     },
     "execution_count": 66,
     "metadata": {},
     "output_type": "execute_result"
    }
   ],
   "source": [
    "x[3:9]"
   ]
  },
  {
   "cell_type": "code",
   "execution_count": 67,
   "metadata": {},
   "outputs": [
    {
     "data": {
      "text/plain": [
       "array([1, 2, 3, 0, 2, 1])"
      ]
     },
     "execution_count": 67,
     "metadata": {},
     "output_type": "execute_result"
    }
   ],
   "source": [
    "x[3:-1]"
   ]
  }
 ],
 "metadata": {
  "colab": {
   "provenance": []
  },
  "kernelspec": {
   "display_name": "Python 3",
   "name": "python3"
  },
  "language_info": {
   "codemirror_mode": {
    "name": "ipython",
    "version": 3
   },
   "file_extension": ".py",
   "mimetype": "text/x-python",
   "name": "python",
   "nbconvert_exporter": "python",
   "pygments_lexer": "ipython3",
   "version": "3.13.3"
  }
 },
 "nbformat": 4,
 "nbformat_minor": 0
}

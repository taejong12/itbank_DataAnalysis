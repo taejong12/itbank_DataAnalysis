{
 "cells": [
  {
   "cell_type": "markdown",
   "metadata": {
    "id": "L-l-i5q0Ucf-"
   },
   "source": [
    "#  1\\.NumPy의 기본 연산"
   ]
  },
  {
   "cell_type": "markdown",
   "metadata": {
    "id": "szmND_4vUjQ8"
   },
   "source": [
    "## NumPy documentation\n",
    " - [NumPy 공식 문서 링크](https://www.numpy.org/devdocs/reference/)\n",
    " - NumPy에서 제공되는 함수등에 대한 문서\n",
    " - 검색(search) 기능 적극 활용한다."
   ]
  },
  {
   "cell_type": "code",
   "execution_count": 1,
   "metadata": {},
   "outputs": [
    {
     "data": {
      "text/plain": [
       "(array([[ 0,  1,  2,  3,  4],\n",
       "        [ 5,  6,  7,  8,  9],\n",
       "        [10, 11, 12, 13, 14]]),\n",
       " array([[  0,  10,  20,  30,  40],\n",
       "        [ 50,  60,  70,  80,  90],\n",
       "        [100, 110, 120, 130, 140]]),\n",
       " array([[0.41604723, 0.41355701, 0.31509247, 0.66383034, 0.2456898 ],\n",
       "        [0.62792918, 0.56296726, 0.94746277, 0.11119573, 0.16236234],\n",
       "        [0.86441757, 0.14835185, 0.37696408, 0.25950463, 0.95257377]]),\n",
       " array([[ 0,  1,  2],\n",
       "        [ 3,  4,  5],\n",
       "        [ 6,  7,  8],\n",
       "        [ 9, 10, 11],\n",
       "        [12, 13, 14]]))"
      ]
     },
     "execution_count": 1,
     "metadata": {},
     "output_type": "execute_result"
    }
   ],
   "source": [
    "import numpy as np \n",
    "\n",
    "x = np.arange(15).reshape(3,5)\n",
    "y = np.arange(0, 150, 10).reshape(3,5)\n",
    "y2 = np.random.rand(15).reshape(3,5)\n",
    "y3 = np.arange(15).reshape(5,3)\n",
    "\n",
    "x, y, y2, y3"
   ]
  },
  {
   "cell_type": "markdown",
   "metadata": {
    "id": "gkCXIaqB8_6u"
   },
   "source": [
    "## array 간 연산자"
   ]
  },
  {
   "cell_type": "code",
   "execution_count": 2,
   "metadata": {},
   "outputs": [],
   "source": [
    "a = [10,20,30,40]\n",
    "b = 2\n",
    "c = [100,200,300,400]"
   ]
  },
  {
   "cell_type": "markdown",
   "metadata": {
    "id": "NQ3a4R319UO5"
   },
   "source": [
    "- list + list : list 가 합쳐진다.\n",
    "- list * 정수 : list 가 정수만큼 반복한다.\n",
    "- list + 정수 : 에러\n",
    "- list * list : 에러"
   ]
  },
  {
   "cell_type": "code",
   "execution_count": 3,
   "metadata": {},
   "outputs": [
    {
     "data": {
      "text/plain": [
       "[10, 20, 30, 40, 100, 200, 300, 400]"
      ]
     },
     "execution_count": 3,
     "metadata": {},
     "output_type": "execute_result"
    }
   ],
   "source": [
    "a + c "
   ]
  },
  {
   "cell_type": "code",
   "execution_count": 4,
   "metadata": {},
   "outputs": [
    {
     "data": {
      "text/plain": [
       "[10, 20, 30, 40, 10, 20, 30, 40]"
      ]
     },
     "execution_count": 4,
     "metadata": {},
     "output_type": "execute_result"
    }
   ],
   "source": [
    "a * b"
   ]
  },
  {
   "cell_type": "code",
   "execution_count": 5,
   "metadata": {},
   "outputs": [
    {
     "ename": "TypeError",
     "evalue": "can only concatenate list (not \"int\") to list",
     "output_type": "error",
     "traceback": [
      "\u001b[31m---------------------------------------------------------------------------\u001b[39m",
      "\u001b[31mTypeError\u001b[39m                                 Traceback (most recent call last)",
      "\u001b[36mCell\u001b[39m\u001b[36m \u001b[39m\u001b[32mIn[5]\u001b[39m\u001b[32m, line 1\u001b[39m\n\u001b[32m----> \u001b[39m\u001b[32m1\u001b[39m \u001b[43ma\u001b[49m\u001b[43m \u001b[49m\u001b[43m+\u001b[49m\u001b[43m \u001b[49m\u001b[43mb\u001b[49m\n",
      "\u001b[31mTypeError\u001b[39m: can only concatenate list (not \"int\") to list"
     ]
    }
   ],
   "source": [
    "a + b"
   ]
  },
  {
   "cell_type": "code",
   "execution_count": 6,
   "metadata": {},
   "outputs": [
    {
     "ename": "TypeError",
     "evalue": "can't multiply sequence by non-int of type 'list'",
     "output_type": "error",
     "traceback": [
      "\u001b[31m---------------------------------------------------------------------------\u001b[39m",
      "\u001b[31mTypeError\u001b[39m                                 Traceback (most recent call last)",
      "\u001b[36mCell\u001b[39m\u001b[36m \u001b[39m\u001b[32mIn[6]\u001b[39m\u001b[32m, line 1\u001b[39m\n\u001b[32m----> \u001b[39m\u001b[32m1\u001b[39m \u001b[43ma\u001b[49m\u001b[43m \u001b[49m\u001b[43m*\u001b[49m\u001b[43m \u001b[49m\u001b[43mc\u001b[49m\n",
      "\u001b[31mTypeError\u001b[39m: can't multiply sequence by non-int of type 'list'"
     ]
    }
   ],
   "source": [
    "a * c"
   ]
  },
  {
   "cell_type": "markdown",
   "metadata": {
    "id": "VxWrWHV_9fb_"
   },
   "source": [
    "- array 연산은 원소끼리의 연산이 가능하다"
   ]
  },
  {
   "cell_type": "code",
   "execution_count": 8,
   "metadata": {},
   "outputs": [
    {
     "data": {
      "text/plain": [
       "((3, 5), (3, 5))"
      ]
     },
     "execution_count": 8,
     "metadata": {},
     "output_type": "execute_result"
    }
   ],
   "source": [
    "x.shape, y.shape"
   ]
  },
  {
   "cell_type": "code",
   "execution_count": 7,
   "metadata": {},
   "outputs": [
    {
     "data": {
      "text/plain": [
       "array([[  0,  11,  22,  33,  44],\n",
       "       [ 55,  66,  77,  88,  99],\n",
       "       [110, 121, 132, 143, 154]])"
      ]
     },
     "execution_count": 7,
     "metadata": {},
     "output_type": "execute_result"
    }
   ],
   "source": [
    "x + y"
   ]
  },
  {
   "cell_type": "code",
   "execution_count": 9,
   "metadata": {},
   "outputs": [
    {
     "data": {
      "text/plain": [
       "array([[   0,   -9,  -18,  -27,  -36],\n",
       "       [ -45,  -54,  -63,  -72,  -81],\n",
       "       [ -90,  -99, -108, -117, -126]])"
      ]
     },
     "execution_count": 9,
     "metadata": {},
     "output_type": "execute_result"
    }
   ],
   "source": [
    "x - y"
   ]
  },
  {
   "cell_type": "code",
   "execution_count": 10,
   "metadata": {},
   "outputs": [
    {
     "data": {
      "text/plain": [
       "array([[   0,   10,   40,   90,  160],\n",
       "       [ 250,  360,  490,  640,  810],\n",
       "       [1000, 1210, 1440, 1690, 1960]])"
      ]
     },
     "execution_count": 10,
     "metadata": {},
     "output_type": "execute_result"
    }
   ],
   "source": [
    "x * y"
   ]
  },
  {
   "cell_type": "code",
   "execution_count": 11,
   "metadata": {},
   "outputs": [
    {
     "name": "stderr",
     "output_type": "stream",
     "text": [
      "C:\\Users\\kys05\\AppData\\Local\\Temp\\ipykernel_10356\\3016948717.py:1: RuntimeWarning: invalid value encountered in divide\n",
      "  x / y\n"
     ]
    },
    {
     "data": {
      "text/plain": [
       "array([[nan, 0.1, 0.1, 0.1, 0.1],\n",
       "       [0.1, 0.1, 0.1, 0.1, 0.1],\n",
       "       [0.1, 0.1, 0.1, 0.1, 0.1]])"
      ]
     },
     "execution_count": 11,
     "metadata": {},
     "output_type": "execute_result"
    }
   ],
   "source": [
    "x / y"
   ]
  },
  {
   "cell_type": "markdown",
   "metadata": {
    "id": "Jyq6MJWj95ef"
   },
   "source": [
    "- nan 은 np.nan 으로 값이 아닌 것을 의미한다."
   ]
  },
  {
   "cell_type": "markdown",
   "metadata": {
    "id": "A4DgObmX-A_b"
   },
   "source": [
    "## 단일값과의 연산"
   ]
  },
  {
   "cell_type": "code",
   "execution_count": 12,
   "metadata": {},
   "outputs": [
    {
     "data": {
      "text/plain": [
       "array([[ 0,  1,  2,  3,  4],\n",
       "       [ 5,  6,  7,  8,  9],\n",
       "       [10, 11, 12, 13, 14]])"
      ]
     },
     "execution_count": 12,
     "metadata": {},
     "output_type": "execute_result"
    }
   ],
   "source": [
    "x "
   ]
  },
  {
   "cell_type": "code",
   "execution_count": 13,
   "metadata": {},
   "outputs": [
    {
     "data": {
      "text/plain": [
       "array([[10, 11, 12, 13, 14],\n",
       "       [15, 16, 17, 18, 19],\n",
       "       [20, 21, 22, 23, 24]])"
      ]
     },
     "execution_count": 13,
     "metadata": {},
     "output_type": "execute_result"
    }
   ],
   "source": [
    "x + 10"
   ]
  },
  {
   "cell_type": "code",
   "execution_count": 14,
   "metadata": {},
   "outputs": [
    {
     "data": {
      "text/plain": [
       "array([[-10,  -9,  -8,  -7,  -6],\n",
       "       [ -5,  -4,  -3,  -2,  -1],\n",
       "       [  0,   1,   2,   3,   4]])"
      ]
     },
     "execution_count": 14,
     "metadata": {},
     "output_type": "execute_result"
    }
   ],
   "source": [
    "x - 10"
   ]
  },
  {
   "cell_type": "code",
   "execution_count": 15,
   "metadata": {},
   "outputs": [
    {
     "data": {
      "text/plain": [
       "array([[  0,  10,  20,  30,  40],\n",
       "       [ 50,  60,  70,  80,  90],\n",
       "       [100, 110, 120, 130, 140]])"
      ]
     },
     "execution_count": 15,
     "metadata": {},
     "output_type": "execute_result"
    }
   ],
   "source": [
    "x * 10"
   ]
  },
  {
   "cell_type": "code",
   "execution_count": 16,
   "metadata": {},
   "outputs": [
    {
     "data": {
      "text/plain": [
       "array([[0. , 0.1, 0.2, 0.3, 0.4],\n",
       "       [0.5, 0.6, 0.7, 0.8, 0.9],\n",
       "       [1. , 1.1, 1.2, 1.3, 1.4]])"
      ]
     },
     "execution_count": 16,
     "metadata": {},
     "output_type": "execute_result"
    }
   ],
   "source": [
    "x / 10"
   ]
  },
  {
   "cell_type": "code",
   "execution_count": 17,
   "metadata": {},
   "outputs": [
    {
     "data": {
      "text/plain": [
       "array([[10, 11, 12, 13, 14],\n",
       "       [15, 16, 17, 18, 19],\n",
       "       [20, 21, 22, 23, 24]])"
      ]
     },
     "execution_count": 17,
     "metadata": {},
     "output_type": "execute_result"
    }
   ],
   "source": [
    "10 + x"
   ]
  },
  {
   "cell_type": "markdown",
   "metadata": {
    "id": "mvmskd6e-SRN"
   },
   "source": [
    "- 단일값만 있는 array 는 shape과 관계없이 scalar 연산이 가능하다."
   ]
  },
  {
   "cell_type": "code",
   "execution_count": 18,
   "metadata": {},
   "outputs": [
    {
     "data": {
      "text/plain": [
       "array([[10, 11, 12, 13, 14],\n",
       "       [15, 16, 17, 18, 19],\n",
       "       [20, 21, 22, 23, 24]])"
      ]
     },
     "execution_count": 18,
     "metadata": {},
     "output_type": "execute_result"
    }
   ],
   "source": [
    "x + np.array(10)"
   ]
  },
  {
   "cell_type": "code",
   "execution_count": 19,
   "metadata": {},
   "outputs": [
    {
     "data": {
      "text/plain": [
       "()"
      ]
     },
     "execution_count": 19,
     "metadata": {},
     "output_type": "execute_result"
    }
   ],
   "source": [
    "np.array(10).shape"
   ]
  },
  {
   "cell_type": "code",
   "execution_count": 20,
   "metadata": {},
   "outputs": [
    {
     "data": {
      "text/plain": [
       "array([[10, 11, 12, 13, 14],\n",
       "       [15, 16, 17, 18, 19],\n",
       "       [20, 21, 22, 23, 24]])"
      ]
     },
     "execution_count": 20,
     "metadata": {},
     "output_type": "execute_result"
    }
   ],
   "source": [
    "x + np.array([10])"
   ]
  },
  {
   "cell_type": "code",
   "execution_count": 21,
   "metadata": {},
   "outputs": [
    {
     "data": {
      "text/plain": [
       "array([[10, 11, 12, 13, 14],\n",
       "       [15, 16, 17, 18, 19],\n",
       "       [20, 21, 22, 23, 24]])"
      ]
     },
     "execution_count": 21,
     "metadata": {},
     "output_type": "execute_result"
    }
   ],
   "source": [
    "x + np.array([[10]])"
   ]
  },
  {
   "cell_type": "code",
   "execution_count": 22,
   "metadata": {},
   "outputs": [
    {
     "data": {
      "text/plain": [
       "array([[10, 11, 12, 13, 14],\n",
       "       [15, 16, 17, 18, 19],\n",
       "       [20, 21, 22, 23, 24]])"
      ]
     },
     "execution_count": 22,
     "metadata": {},
     "output_type": "execute_result"
    }
   ],
   "source": [
    "x + (10, )"
   ]
  },
  {
   "cell_type": "code",
   "execution_count": 23,
   "metadata": {},
   "outputs": [
    {
     "ename": "ValueError",
     "evalue": "operands could not be broadcast together with shapes (3,5) (2,) ",
     "output_type": "error",
     "traceback": [
      "\u001b[31m---------------------------------------------------------------------------\u001b[39m",
      "\u001b[31mValueError\u001b[39m                                Traceback (most recent call last)",
      "\u001b[36mCell\u001b[39m\u001b[36m \u001b[39m\u001b[32mIn[23]\u001b[39m\u001b[32m, line 1\u001b[39m\n\u001b[32m----> \u001b[39m\u001b[32m1\u001b[39m \u001b[43mx\u001b[49m\u001b[43m \u001b[49m\u001b[43m+\u001b[49m\u001b[43m \u001b[49m\u001b[43m[\u001b[49m\u001b[32;43m10\u001b[39;49m\u001b[43m,\u001b[49m\u001b[43m \u001b[49m\u001b[32;43m20\u001b[39;49m\u001b[43m]\u001b[49m\n",
      "\u001b[31mValueError\u001b[39m: operands could not be broadcast together with shapes (3,5) (2,) "
     ]
    }
   ],
   "source": [
    "x + [10, 20]"
   ]
  },
  {
   "cell_type": "markdown",
   "metadata": {
    "id": "W-xcq6tX-xgX"
   },
   "source": [
    "- list 또는 tuple 과도 연산이 가능하다."
   ]
  },
  {
   "cell_type": "markdown",
   "metadata": {
    "id": "VNdfFg_w-17O"
   },
   "source": [
    "## 기본 함수\n",
    "\n",
    "- add(), subtract(), multiply(), divide() : array 간 행렬의 4칙연산\n",
    "- array 요소간 연산이 이루어진다.(element wise operation)\n",
    "- 기본적으로는 shape이 같은 array 끼리 가능하다."
   ]
  },
  {
   "cell_type": "code",
   "execution_count": 24,
   "metadata": {},
   "outputs": [
    {
     "data": {
      "text/plain": [
       "array([[  0,  11,  22,  33,  44],\n",
       "       [ 55,  66,  77,  88,  99],\n",
       "       [110, 121, 132, 143, 154]])"
      ]
     },
     "execution_count": 24,
     "metadata": {},
     "output_type": "execute_result"
    }
   ],
   "source": [
    "np.add(x, y)"
   ]
  },
  {
   "cell_type": "code",
   "execution_count": 25,
   "metadata": {},
   "outputs": [
    {
     "data": {
      "text/plain": [
       "array([[   0,   -9,  -18,  -27,  -36],\n",
       "       [ -45,  -54,  -63,  -72,  -81],\n",
       "       [ -90,  -99, -108, -117, -126]])"
      ]
     },
     "execution_count": 25,
     "metadata": {},
     "output_type": "execute_result"
    }
   ],
   "source": [
    "np.subtract(x, y)"
   ]
  },
  {
   "cell_type": "code",
   "execution_count": 26,
   "metadata": {},
   "outputs": [
    {
     "data": {
      "text/plain": [
       "(array([[  0,  11,  22,  33,  44],\n",
       "        [ 55,  66,  77,  88,  99],\n",
       "        [110, 121, 132, 143, 154]]),\n",
       " array([[   0,   -9,  -18,  -27,  -36],\n",
       "        [ -45,  -54,  -63,  -72,  -81],\n",
       "        [ -90,  -99, -108, -117, -126]]))"
      ]
     },
     "execution_count": 26,
     "metadata": {},
     "output_type": "execute_result"
    }
   ],
   "source": [
    "x + y, x - y"
   ]
  },
  {
   "cell_type": "markdown",
   "metadata": {
    "id": "0re2SG8T_NDw"
   },
   "source": [
    "- shape이 다른 것 끼리 연산하면 에러가 발생한다."
   ]
  },
  {
   "cell_type": "code",
   "execution_count": 27,
   "metadata": {},
   "outputs": [
    {
     "data": {
      "text/plain": [
       "(5, 3)"
      ]
     },
     "execution_count": 27,
     "metadata": {},
     "output_type": "execute_result"
    }
   ],
   "source": [
    "y3.shape"
   ]
  },
  {
   "cell_type": "code",
   "execution_count": 28,
   "metadata": {},
   "outputs": [
    {
     "ename": "ValueError",
     "evalue": "operands could not be broadcast together with shapes (3,5) (5,3) ",
     "output_type": "error",
     "traceback": [
      "\u001b[31m---------------------------------------------------------------------------\u001b[39m",
      "\u001b[31mValueError\u001b[39m                                Traceback (most recent call last)",
      "\u001b[36mCell\u001b[39m\u001b[36m \u001b[39m\u001b[32mIn[28]\u001b[39m\u001b[32m, line 1\u001b[39m\n\u001b[32m----> \u001b[39m\u001b[32m1\u001b[39m \u001b[43mx\u001b[49m\u001b[43m \u001b[49m\u001b[43m+\u001b[49m\u001b[43m \u001b[49m\u001b[43my3\u001b[49m\n",
      "\u001b[31mValueError\u001b[39m: operands could not be broadcast together with shapes (3,5) (5,3) "
     ]
    }
   ],
   "source": [
    "x + y3"
   ]
  },
  {
   "cell_type": "code",
   "execution_count": 29,
   "metadata": {},
   "outputs": [
    {
     "data": {
      "text/plain": [
       "array([[ 0,  4,  8, 12, 16],\n",
       "       [ 6, 10, 14, 18, 22],\n",
       "       [12, 16, 20, 24, 28]])"
      ]
     },
     "execution_count": 29,
     "metadata": {},
     "output_type": "execute_result"
    }
   ],
   "source": [
    "x + y3.T"
   ]
  },
  {
   "cell_type": "markdown",
   "metadata": {
    "id": "skCYBnhy_5Rr"
   },
   "source": [
    "- 나중에 배우는 broadcasting 을 사용하면 shape이 달라도 연산이 가능하다."
   ]
  },
  {
   "cell_type": "markdown",
   "metadata": {
    "id": "1ydSDKqlAHdv"
   },
   "source": [
    "## 통계 함수\n",
    "- 평균, 분산, 중앙값, 최대값, 최소값 등 통계와 관련된 함수가 내장되어 있다."
   ]
  },
  {
   "cell_type": "code",
   "execution_count": 30,
   "metadata": {},
   "outputs": [
    {
     "data": {
      "text/plain": [
       "array([[0.41604723, 0.41355701, 0.31509247, 0.66383034, 0.2456898 ],\n",
       "       [0.62792918, 0.56296726, 0.94746277, 0.11119573, 0.16236234],\n",
       "       [0.86441757, 0.14835185, 0.37696408, 0.25950463, 0.95257377]])"
      ]
     },
     "execution_count": 30,
     "metadata": {},
     "output_type": "execute_result"
    }
   ],
   "source": [
    "y2"
   ]
  },
  {
   "cell_type": "markdown",
   "metadata": {
    "id": "7YGRXcF4Abk1"
   },
   "source": [
    "- 평균"
   ]
  },
  {
   "cell_type": "code",
   "execution_count": 31,
   "metadata": {},
   "outputs": [
    {
     "data": {
      "text/plain": [
       "np.float64(0.4711964011442795)"
      ]
     },
     "execution_count": 31,
     "metadata": {},
     "output_type": "execute_result"
    }
   ],
   "source": [
    "np.mean(y2)"
   ]
  },
  {
   "cell_type": "code",
   "execution_count": 32,
   "metadata": {},
   "outputs": [
    {
     "data": {
      "text/plain": [
       "np.float64(0.4711964011442795)"
      ]
     },
     "execution_count": 32,
     "metadata": {},
     "output_type": "execute_result"
    }
   ],
   "source": [
    "y2.mean()"
   ]
  },
  {
   "cell_type": "markdown",
   "metadata": {
    "id": "TlAuci-9Aa4y"
   },
   "source": [
    "- 최대값, 최소값"
   ]
  },
  {
   "cell_type": "code",
   "execution_count": 33,
   "metadata": {},
   "outputs": [
    {
     "data": {
      "text/plain": [
       "(np.float64(0.9525737711070685), np.float64(0.11119572521185261))"
      ]
     },
     "execution_count": 33,
     "metadata": {},
     "output_type": "execute_result"
    }
   ],
   "source": [
    "np.max(y2), np.min(y2)"
   ]
  },
  {
   "cell_type": "code",
   "execution_count": 35,
   "metadata": {},
   "outputs": [
    {
     "data": {
      "text/plain": [
       "(np.float64(0.9525737711070685), np.float64(0.11119572521185261))"
      ]
     },
     "execution_count": 35,
     "metadata": {},
     "output_type": "execute_result"
    }
   ],
   "source": [
    "y2.max(), y2.min()"
   ]
  },
  {
   "cell_type": "markdown",
   "metadata": {
    "id": "km_0RsCsAkQC"
   },
   "source": [
    "- 최대값, 최소값의 index 값\n",
    "- 기본적으로는 flatten 한 상태의 index 값을 리턴한다."
   ]
  },
  {
   "cell_type": "code",
   "execution_count": 38,
   "metadata": {},
   "outputs": [
    {
     "data": {
      "text/plain": [
       "array([[0.41604723, 0.41355701, 0.31509247, 0.66383034, 0.2456898 ],\n",
       "       [0.62792918, 0.56296726, 0.94746277, 0.11119573, 0.16236234],\n",
       "       [0.86441757, 0.14835185, 0.37696408, 0.25950463, 0.95257377]])"
      ]
     },
     "execution_count": 38,
     "metadata": {},
     "output_type": "execute_result"
    }
   ],
   "source": [
    "y2"
   ]
  },
  {
   "cell_type": "code",
   "execution_count": 39,
   "metadata": {},
   "outputs": [
    {
     "data": {
      "text/plain": [
       "np.int64(14)"
      ]
     },
     "execution_count": 39,
     "metadata": {},
     "output_type": "execute_result"
    }
   ],
   "source": [
    "np.argmax(y2)"
   ]
  },
  {
   "cell_type": "code",
   "execution_count": 40,
   "metadata": {},
   "outputs": [
    {
     "data": {
      "text/plain": [
       "np.int64(14)"
      ]
     },
     "execution_count": 40,
     "metadata": {},
     "output_type": "execute_result"
    }
   ],
   "source": [
    "y2.argmax()"
   ]
  },
  {
   "cell_type": "code",
   "execution_count": 41,
   "metadata": {},
   "outputs": [
    {
     "data": {
      "text/plain": [
       "np.int64(8)"
      ]
     },
     "execution_count": 41,
     "metadata": {},
     "output_type": "execute_result"
    }
   ],
   "source": [
    "y2.argmin()"
   ]
  },
  {
   "cell_type": "markdown",
   "metadata": {
    "id": "T0kCBTdOA9aN"
   },
   "source": [
    "- 분산값 : 편차 제곱의 평균"
   ]
  },
  {
   "cell_type": "code",
   "execution_count": 42,
   "metadata": {},
   "outputs": [
    {
     "data": {
      "text/plain": [
       "array([[  0,  10,  20,  30,  40],\n",
       "       [ 50,  60,  70,  80,  90],\n",
       "       [100, 110, 120, 130, 140]])"
      ]
     },
     "execution_count": 42,
     "metadata": {},
     "output_type": "execute_result"
    }
   ],
   "source": [
    "y"
   ]
  },
  {
   "cell_type": "code",
   "execution_count": 43,
   "metadata": {},
   "outputs": [
    {
     "data": {
      "text/plain": [
       "np.float64(1866.6666666666667)"
      ]
     },
     "execution_count": 43,
     "metadata": {},
     "output_type": "execute_result"
    }
   ],
   "source": [
    "np.var(y)"
   ]
  },
  {
   "cell_type": "code",
   "execution_count": 44,
   "metadata": {},
   "outputs": [
    {
     "data": {
      "text/plain": [
       "np.float64(1866.6666666666667)"
      ]
     },
     "execution_count": 44,
     "metadata": {},
     "output_type": "execute_result"
    }
   ],
   "source": [
    "y.var()"
   ]
  },
  {
   "cell_type": "markdown",
   "metadata": {
    "id": "7zn2_wbwBDd8"
   },
   "source": [
    "- 표준편차 : 분산의 제곱근"
   ]
  },
  {
   "cell_type": "code",
   "execution_count": 45,
   "metadata": {},
   "outputs": [
    {
     "data": {
      "text/plain": [
       "np.float64(43.20493798938573)"
      ]
     },
     "execution_count": 45,
     "metadata": {},
     "output_type": "execute_result"
    }
   ],
   "source": [
    "y.std()"
   ]
  },
  {
   "cell_type": "code",
   "execution_count": 46,
   "metadata": {},
   "outputs": [
    {
     "data": {
      "text/plain": [
       "np.float64(43.20493798938573)"
      ]
     },
     "execution_count": 46,
     "metadata": {},
     "output_type": "execute_result"
    }
   ],
   "source": [
    "np.std(y)"
   ]
  },
  {
   "cell_type": "markdown",
   "metadata": {
    "id": "egGojpwcBQHc"
   },
   "source": [
    "- 중앙값 : min과 max 사이의 값"
   ]
  },
  {
   "cell_type": "code",
   "execution_count": 47,
   "metadata": {},
   "outputs": [
    {
     "data": {
      "text/plain": [
       "np.float64(70.0)"
      ]
     },
     "execution_count": 47,
     "metadata": {},
     "output_type": "execute_result"
    }
   ],
   "source": [
    "np.median(y)"
   ]
  },
  {
   "cell_type": "code",
   "execution_count": null,
   "metadata": {},
   "outputs": [
    {
     "ename": "AttributeError",
     "evalue": "'numpy.ndarray' object has no attribute 'median'",
     "output_type": "error",
     "traceback": [
      "\u001b[31m---------------------------------------------------------------------------\u001b[39m",
      "\u001b[31mAttributeError\u001b[39m                            Traceback (most recent call last)",
      "\u001b[36mCell\u001b[39m\u001b[36m \u001b[39m\u001b[32mIn[48]\u001b[39m\u001b[32m, line 1\u001b[39m\n\u001b[32m----> \u001b[39m\u001b[32m1\u001b[39m \u001b[43my\u001b[49m\u001b[43m.\u001b[49m\u001b[43mmedian\u001b[49m()\n",
      "\u001b[31mAttributeError\u001b[39m: 'numpy.ndarray' object has no attribute 'median'"
     ]
    }
   ],
   "source": [
    "# y.median()  없음"
   ]
  },
  {
   "cell_type": "code",
   "execution_count": 49,
   "metadata": {},
   "outputs": [
    {
     "data": {
      "text/plain": [
       "np.float64(70.0)"
      ]
     },
     "execution_count": 49,
     "metadata": {},
     "output_type": "execute_result"
    }
   ],
   "source": [
    "y.mean()"
   ]
  },
  {
   "cell_type": "code",
   "execution_count": 50,
   "metadata": {},
   "outputs": [
    {
     "data": {
      "text/plain": [
       "(np.float64(0.4711964011442795), np.float64(0.41355700964574105))"
      ]
     },
     "execution_count": 50,
     "metadata": {},
     "output_type": "execute_result"
    }
   ],
   "source": [
    "# mean 평균, median 중앙값\n",
    "# 평균 : 모든 값을 더한 후 값의 수 나눈 값\n",
    "# 중앙값 : 최소값 과 최대값의 가운데 값\n",
    "y2.mean(), np.median(y2)"
   ]
  },
  {
   "cell_type": "markdown",
   "metadata": {
    "id": "zNnwhIAuBYE2"
   },
   "source": [
    "# 2\\. 집계함수\n",
    "- 합계, 누적합계 등을 계산할 수 있다."
   ]
  },
  {
   "cell_type": "code",
   "execution_count": 51,
   "metadata": {},
   "outputs": [
    {
     "data": {
      "text/plain": [
       "array([[0.41604723, 0.41355701, 0.31509247, 0.66383034, 0.2456898 ],\n",
       "       [0.62792918, 0.56296726, 0.94746277, 0.11119573, 0.16236234],\n",
       "       [0.86441757, 0.14835185, 0.37696408, 0.25950463, 0.95257377]])"
      ]
     },
     "execution_count": 51,
     "metadata": {},
     "output_type": "execute_result"
    }
   ],
   "source": [
    "y2"
   ]
  },
  {
   "cell_type": "code",
   "execution_count": 52,
   "metadata": {},
   "outputs": [
    {
     "data": {
      "text/plain": [
       "(np.float64(7.067946017164193), np.float64(0.4711964011442795))"
      ]
     },
     "execution_count": 52,
     "metadata": {},
     "output_type": "execute_result"
    }
   ],
   "source": [
    "np.sum(y2), np.average(y2)"
   ]
  },
  {
   "cell_type": "code",
   "execution_count": 53,
   "metadata": {},
   "outputs": [
    {
     "data": {
      "text/plain": [
       "np.float64(7.067946017164193)"
      ]
     },
     "execution_count": 53,
     "metadata": {},
     "output_type": "execute_result"
    }
   ],
   "source": [
    "y2.sum()"
   ]
  },
  {
   "cell_type": "code",
   "execution_count": null,
   "metadata": {},
   "outputs": [
    {
     "data": {
      "text/plain": [
       "array([1.90839398, 1.12487611, 1.63951931, 1.03453069, 1.36062591])"
      ]
     },
     "execution_count": 54,
     "metadata": {},
     "output_type": "execute_result"
    }
   ],
   "source": [
    "sum(y2) # 같은 열(각행의 같은 index 번호)끼리 합"
   ]
  },
  {
   "cell_type": "markdown",
   "metadata": {
    "id": "Gg_tgD9BB3N-"
   },
   "source": [
    "## 누적합계\n",
    "- 원소들이 계속해서 누적 합산되는 형태의 결과를 의미한다.\n",
    "- 결과는 1차원 array로 반환된다."
   ]
  },
  {
   "cell_type": "code",
   "execution_count": 55,
   "metadata": {},
   "outputs": [
    {
     "data": {
      "text/plain": [
       "array([[0.41604723, 0.41355701, 0.31509247, 0.66383034, 0.2456898 ],\n",
       "       [0.62792918, 0.56296726, 0.94746277, 0.11119573, 0.16236234],\n",
       "       [0.86441757, 0.14835185, 0.37696408, 0.25950463, 0.95257377]])"
      ]
     },
     "execution_count": 55,
     "metadata": {},
     "output_type": "execute_result"
    }
   ],
   "source": [
    "y2"
   ]
  },
  {
   "cell_type": "code",
   "execution_count": 56,
   "metadata": {},
   "outputs": [
    {
     "data": {
      "text/plain": [
       "array([0.41604723, 0.82960424, 1.14469671, 1.80852705, 2.05421686,\n",
       "       2.68214604, 3.24511329, 4.19257606, 4.30377179, 4.46613412,\n",
       "       5.33055169, 5.47890354, 5.85586762, 6.11537225, 7.06794602])"
      ]
     },
     "execution_count": 56,
     "metadata": {},
     "output_type": "execute_result"
    }
   ],
   "source": [
    "np.cumsum(y2)"
   ]
  },
  {
   "cell_type": "markdown",
   "metadata": {
    "id": "nXJli8DoCVqw"
   },
   "source": [
    "## ndarray 와의 비교 연산\n",
    "- bool값이 나오는 비교 연산을 하면 True, False로 이루어진 ndarray 결과값을 반환한다.\n"
   ]
  },
  {
   "cell_type": "code",
   "execution_count": 57,
   "metadata": {},
   "outputs": [
    {
     "data": {
      "text/plain": [
       "array([-0.71806451, -0.72179714,  0.56241266,  1.1730667 , -0.78739771,\n",
       "        1.19555983, -0.21894322, -0.27637712,  0.77130627,  1.73336191])"
      ]
     },
     "execution_count": 57,
     "metadata": {},
     "output_type": "execute_result"
    }
   ],
   "source": [
    "z = np.random.randn(10)\n",
    "z"
   ]
  },
  {
   "cell_type": "code",
   "execution_count": 58,
   "metadata": {},
   "outputs": [
    {
     "data": {
      "text/plain": [
       "array([False, False,  True,  True, False,  True, False, False,  True,\n",
       "        True])"
      ]
     },
     "execution_count": 58,
     "metadata": {},
     "output_type": "execute_result"
    }
   ],
   "source": [
    "z > 0"
   ]
  },
  {
   "cell_type": "code",
   "execution_count": 59,
   "metadata": {},
   "outputs": [
    {
     "data": {
      "text/plain": [
       "array([ True,  True, False, False,  True, False,  True,  True, False,\n",
       "       False])"
      ]
     },
     "execution_count": 59,
     "metadata": {},
     "output_type": "execute_result"
    }
   ],
   "source": [
    "z < 0"
   ]
  },
  {
   "cell_type": "code",
   "execution_count": 60,
   "metadata": {},
   "outputs": [
    {
     "data": {
      "text/plain": [
       "array([[ 1,  2,  3,  4],\n",
       "       [ 5,  6,  7,  8],\n",
       "       [ 9, 10, 11, 12]])"
      ]
     },
     "execution_count": 60,
     "metadata": {},
     "output_type": "execute_result"
    }
   ],
   "source": [
    "z = np.arange(1, 13).reshape(3,4)\n",
    "z"
   ]
  },
  {
   "cell_type": "code",
   "execution_count": 61,
   "metadata": {},
   "outputs": [
    {
     "data": {
      "text/plain": [
       "array([[False,  True, False,  True],\n",
       "       [False,  True, False,  True],\n",
       "       [False,  True, False,  True]])"
      ]
     },
     "execution_count": 61,
     "metadata": {},
     "output_type": "execute_result"
    }
   ],
   "source": [
    "z % 2 == 0 "
   ]
  },
  {
   "cell_type": "code",
   "execution_count": 62,
   "metadata": {},
   "outputs": [
    {
     "data": {
      "text/plain": [
       "array([[False, False,  True, False],\n",
       "       [False,  True, False, False],\n",
       "       [ True, False, False,  True]])"
      ]
     },
     "execution_count": 62,
     "metadata": {},
     "output_type": "execute_result"
    }
   ],
   "source": [
    "z % 3 == 0"
   ]
  },
  {
   "cell_type": "markdown",
   "metadata": {
    "id": "tw5lWJOOCzIc"
   },
   "source": [
    "## 문제.    \n",
    "p에서 짝수의 갯수를 출력해 보세요."
   ]
  },
  {
   "cell_type": "code",
   "execution_count": 63,
   "metadata": {},
   "outputs": [
    {
     "data": {
      "text/plain": [
       "array([[ 1,  2,  3,  4],\n",
       "       [ 5,  6,  7,  8],\n",
       "       [ 9, 10, 11, 12]])"
      ]
     },
     "execution_count": 63,
     "metadata": {},
     "output_type": "execute_result"
    }
   ],
   "source": [
    "z"
   ]
  },
  {
   "cell_type": "code",
   "execution_count": 65,
   "metadata": {},
   "outputs": [
    {
     "data": {
      "text/plain": [
       "array([[False,  True, False,  True],\n",
       "       [False,  True, False,  True],\n",
       "       [False,  True, False,  True]])"
      ]
     },
     "execution_count": 65,
     "metadata": {},
     "output_type": "execute_result"
    }
   ],
   "source": [
    "z % 2 == 0"
   ]
  },
  {
   "cell_type": "code",
   "execution_count": 66,
   "metadata": {},
   "outputs": [
    {
     "data": {
      "text/plain": [
       "array([0, 3, 0, 3])"
      ]
     },
     "execution_count": 66,
     "metadata": {},
     "output_type": "execute_result"
    }
   ],
   "source": [
    "sum(z % 2 == 0)"
   ]
  },
  {
   "cell_type": "code",
   "execution_count": 67,
   "metadata": {},
   "outputs": [
    {
     "data": {
      "text/plain": [
       "np.int64(6)"
      ]
     },
     "execution_count": 67,
     "metadata": {},
     "output_type": "execute_result"
    }
   ],
   "source": [
    "np.sum(z % 2 == 0)"
   ]
  },
  {
   "cell_type": "markdown",
   "metadata": {
    "id": "bK7NFeBSDDOU"
   },
   "source": [
    "## any, all 함수\n",
    "- any : 특정 조건을 만족하는 것이 하나라고 있으면 True, 아니면 False 를 반환한다.\n",
    "- all : 모든 원소가 특정 조건을 만족한다면 True, 아니면 False 를 반환한다."
   ]
  },
  {
   "cell_type": "code",
   "execution_count": 69,
   "metadata": {},
   "outputs": [],
   "source": [
    "z = np.random.randn(10)"
   ]
  },
  {
   "cell_type": "code",
   "execution_count": 70,
   "metadata": {},
   "outputs": [
    {
     "data": {
      "text/plain": [
       "np.True_"
      ]
     },
     "execution_count": 70,
     "metadata": {},
     "output_type": "execute_result"
    }
   ],
   "source": [
    "np.any(z > 0)"
   ]
  },
  {
   "cell_type": "code",
   "execution_count": 71,
   "metadata": {},
   "outputs": [
    {
     "data": {
      "text/plain": [
       "np.False_"
      ]
     },
     "execution_count": 71,
     "metadata": {},
     "output_type": "execute_result"
    }
   ],
   "source": [
    "np.all(z > 0)"
   ]
  },
  {
   "cell_type": "markdown",
   "metadata": {
    "id": "efOe8sZtDV8R"
   },
   "source": [
    "## where 함수\n",
    "- 조건에 따라 선별적으로 값을 선택 가능하다.\n",
    "- 사용예) 음수인 경우는 0, 나머지는 그대로 값을 쓰는 경우\n",
    "- where(condition, [x,y]) 조건이 True 혹은 False 일때의 값 x, y 명시한다."
   ]
  },
  {
   "cell_type": "code",
   "execution_count": 72,
   "metadata": {},
   "outputs": [
    {
     "data": {
      "text/plain": [
       "array([ 0.78658077, -0.51123433, -1.02221658, -1.95869982, -0.03052466,\n",
       "        1.7278022 , -1.51226279,  1.65331575, -1.24930267,  0.97377002])"
      ]
     },
     "execution_count": 72,
     "metadata": {},
     "output_type": "execute_result"
    }
   ],
   "source": [
    "z = np.random.randn(10)\n",
    "z"
   ]
  },
  {
   "cell_type": "code",
   "execution_count": 73,
   "metadata": {},
   "outputs": [
    {
     "data": {
      "text/plain": [
       "array([0.78658077, 0.        , 0.        , 0.        , 0.        ,\n",
       "       1.7278022 , 0.        , 1.65331575, 0.        , 0.97377002])"
      ]
     },
     "execution_count": 73,
     "metadata": {},
     "output_type": "execute_result"
    }
   ],
   "source": [
    "np.where(z > 0, z, 0)"
   ]
  }
 ],
 "metadata": {
  "colab": {
   "authorship_tag": "ABX9TyNXtEBo1Bj7ZkWhVNJI1J7M",
   "provenance": []
  },
  "kernelspec": {
   "display_name": "Python 3",
   "name": "python3"
  },
  "language_info": {
   "codemirror_mode": {
    "name": "ipython",
    "version": 3
   },
   "file_extension": ".py",
   "mimetype": "text/x-python",
   "name": "python",
   "nbconvert_exporter": "python",
   "pygments_lexer": "ipython3",
   "version": "3.13.3"
  }
 },
 "nbformat": 4,
 "nbformat_minor": 0
}

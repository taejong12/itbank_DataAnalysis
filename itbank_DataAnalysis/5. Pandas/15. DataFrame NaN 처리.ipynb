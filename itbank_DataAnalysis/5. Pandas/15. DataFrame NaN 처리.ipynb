{
 "cells": [
  {
   "cell_type": "markdown",
   "id": "8b677b70",
   "metadata": {},
   "source": [
    "# NaN 처리 "
   ]
  },
  {
   "cell_type": "markdown",
   "id": "82e2434b",
   "metadata": {},
   "source": [
    "## NaN 값 확인\n",
    " - describe, info함수를 통하여 개수 확인\n",
    " - isna함수를 통해 boolean 타입으로 확인"
   ]
  },
  {
   "cell_type": "markdown",
   "id": "3de034e0",
   "metadata": {},
   "source": [
    "## NaN 처리 방법\n",
    " - 데이터에서 삭제\n",
    "   - dropna 함수 \n",
    " - 다른 값으로 치환\n",
    "   - fillna 함수"
   ]
  },
  {
   "cell_type": "markdown",
   "id": "c0ab7ada",
   "metadata": {},
   "source": [
    "#### NaN 데이터 삭제"
   ]
  },
  {
   "cell_type": "markdown",
   "id": "ab6ac99a",
   "metadata": {},
   "source": [
    "### NaN 값 대체하기\n",
    " - fillna()\n",
    " - 평균으로 대체하기\n",
    " - 생존자/사망자 별 평균으로 대체하기"
   ]
  },
  {
   "cell_type": "markdown",
   "id": "e2775f69",
   "metadata": {},
   "source": [
    "## 도전] Age NaN 값을 생존자 / 사망자 별 평균으로 대체하기"
   ]
  }
 ],
 "metadata": {
  "kernelspec": {
   "display_name": "Python 3 (ipykernel)",
   "language": "python",
   "name": "python3"
  },
  "language_info": {
   "codemirror_mode": {
    "name": "ipython",
    "version": 3
   },
   "file_extension": ".py",
   "mimetype": "text/x-python",
   "name": "python",
   "nbconvert_exporter": "python",
   "pygments_lexer": "ipython3",
   "version": "3.11.4"
  }
 },
 "nbformat": 4,
 "nbformat_minor": 5
}

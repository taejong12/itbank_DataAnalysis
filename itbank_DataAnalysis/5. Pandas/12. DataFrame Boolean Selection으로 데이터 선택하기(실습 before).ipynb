{
 "cells": [
  {
   "cell_type": "markdown",
   "metadata": {},
   "source": [
    "> hint: Series 에서 numpy 에서 배운 함수들"
   ]
  },
  {
   "cell_type": "markdown",
   "metadata": {},
   "source": [
    "### 도전] 3등급 객실의 생존자 수는?\n",
    "\n",
    "> 결과 119명"
   ]
  },
  {
   "cell_type": "markdown",
   "metadata": {},
   "source": [
    "### 도전] 남성과 여성의 생존률은 ?\n",
    "\n",
    "> [결과 예시]<br>\n",
    "> 남성생존률 0.18890814558058924<br>\n",
    "> 여성생존률 0.7420382165605095"
   ]
  }
 ],
 "metadata": {
  "kernelspec": {
   "display_name": "Python 3 (ipykernel)",
   "language": "python",
   "name": "python3"
  },
  "language_info": {
   "codemirror_mode": {
    "name": "ipython",
    "version": 3
   },
   "file_extension": ".py",
   "mimetype": "text/x-python",
   "name": "python",
   "nbconvert_exporter": "python",
   "pygments_lexer": "ipython3",
   "version": "3.11.4"
  }
 },
 "nbformat": 4,
 "nbformat_minor": 1
}

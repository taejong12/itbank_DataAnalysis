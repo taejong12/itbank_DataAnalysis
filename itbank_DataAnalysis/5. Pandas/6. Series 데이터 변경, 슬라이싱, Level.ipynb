{
 "cells": [
  {
   "cell_type": "markdown",
   "id": "6be26112",
   "metadata": {},
   "source": [
    "# **Series 값 변경**\n",
    "  - 추가 및 업데이트: 인덱스를 이용\n",
    "  - 삭제: drop함수 이용\n",
    "  - inplace=  파라미터 이해\n"
   ]
  },
  {
   "cell_type": "code",
   "execution_count": 1,
   "id": "e852e4f8",
   "metadata": {},
   "outputs": [],
   "source": [
    "import numpy as np\n",
    "import pandas as pd"
   ]
  },
  {
   "cell_type": "code",
   "execution_count": 2,
   "id": "8f3abbf9",
   "metadata": {},
   "outputs": [
    {
     "data": {
      "text/plain": [
       "a    100\n",
       "b    101\n",
       "c    102\n",
       "d    103\n",
       "e    104\n",
       "dtype: int32"
      ]
     },
     "execution_count": 2,
     "metadata": {},
     "output_type": "execute_result"
    }
   ],
   "source": [
    "s = pd.Series(np.arange(100, 105), ['a', 'b', 'c', 'd', 'e'])\n",
    "s"
   ]
  },
  {
   "cell_type": "markdown",
   "id": "53cdde7a",
   "metadata": {},
   "source": [
    "#### 값 변경:  해당 index 사용해서 접근"
   ]
  },
  {
   "cell_type": "code",
   "execution_count": 3,
   "id": "8da73222",
   "metadata": {},
   "outputs": [
    {
     "data": {
      "text/plain": [
       "a    200\n",
       "b    101\n",
       "c    102\n",
       "d    103\n",
       "e    104\n",
       "dtype: int32"
      ]
     },
     "execution_count": 3,
     "metadata": {},
     "output_type": "execute_result"
    }
   ],
   "source": [
    "s['a'] = 200   # update!\n",
    "s"
   ]
  },
  {
   "cell_type": "code",
   "execution_count": 4,
   "id": "9f5adae6",
   "metadata": {},
   "outputs": [
    {
     "data": {
      "text/plain": [
       "a    200\n",
       "b    101\n",
       "c    102\n",
       "d    103\n",
       "e    104\n",
       "k    300\n",
       "dtype: int32"
      ]
     },
     "execution_count": 4,
     "metadata": {},
     "output_type": "execute_result"
    }
   ],
   "source": [
    "s['k'] = 300 # 생성\n",
    "s"
   ]
  },
  {
   "cell_type": "markdown",
   "id": "33c9a20e",
   "metadata": {},
   "source": [
    "#### 삭제: drop()"
   ]
  },
  {
   "cell_type": "code",
   "execution_count": 5,
   "id": "f86071bf",
   "metadata": {},
   "outputs": [
    {
     "data": {
      "text/plain": [
       "a    200\n",
       "b    101\n",
       "c    102\n",
       "d    103\n",
       "e    104\n",
       "dtype: int32"
      ]
     },
     "execution_count": 5,
     "metadata": {},
     "output_type": "execute_result"
    }
   ],
   "source": [
    "# 삭제!\n",
    "s.drop('k')  # index k 가 삭제된 Series 리턴 (원본 변화 없다)"
   ]
  },
  {
   "cell_type": "code",
   "execution_count": 6,
   "id": "40d2dc5c",
   "metadata": {},
   "outputs": [
    {
     "data": {
      "text/plain": [
       "a    200\n",
       "b    101\n",
       "c    102\n",
       "d    103\n",
       "e    104\n",
       "k    300\n",
       "dtype: int32"
      ]
     },
     "execution_count": 6,
     "metadata": {},
     "output_type": "execute_result"
    }
   ],
   "source": [
    "s"
   ]
  },
  {
   "cell_type": "code",
   "execution_count": 7,
   "id": "a269db65",
   "metadata": {},
   "outputs": [],
   "source": [
    "# ★중요★\n",
    "# drop() 함수는 drop 한'결과' 를 새로 만들어서 리턴한거고\n",
    "# 원본 데이터 s 는 '변경'하지 않습니다\n",
    "\n",
    "# numpy , pandas, 그밖의 수많은 데이터 관련 모듈들 에서의\n",
    "# 대부분의 객체 함수들은 호출한 원본 객체를 '변경'하진 않고\n",
    "# 원본의 '사본'을 만든뒤 '사본' 에 연산수행하여 그 '사본' 을 리턴하도록 동작 한다  \n",
    "# (함수마다 조금씩 다르긴 하다)\n",
    "\n",
    "# 그러나!\n",
    "# inplace=True 파라미터를 주면 '사본' 을 만들지 않고 '원본'을 변화시키도록 동작한다\n"
   ]
  },
  {
   "cell_type": "code",
   "execution_count": 8,
   "id": "1b2e7d07",
   "metadata": {},
   "outputs": [],
   "source": [
    "s.drop('k', inplace=True)  # 리턴값이 없다!  허걱!  원본 변화발생!"
   ]
  },
  {
   "cell_type": "code",
   "execution_count": 9,
   "id": "b4cc40cb",
   "metadata": {},
   "outputs": [
    {
     "data": {
      "text/plain": [
       "a    200\n",
       "b    101\n",
       "c    102\n",
       "d    103\n",
       "e    104\n",
       "dtype: int32"
      ]
     },
     "execution_count": 9,
     "metadata": {},
     "output_type": "execute_result"
    }
   ],
   "source": [
    "s"
   ]
  },
  {
   "cell_type": "code",
   "execution_count": 10,
   "id": "5bf6086e",
   "metadata": {},
   "outputs": [
    {
     "data": {
      "text/plain": [
       "a    200\n",
       "b    101\n",
       "dtype: int32"
      ]
     },
     "execution_count": 10,
     "metadata": {},
     "output_type": "execute_result"
    }
   ],
   "source": [
    "s[['a', 'b']]"
   ]
  },
  {
   "cell_type": "code",
   "execution_count": 11,
   "id": "8c107ef9",
   "metadata": {},
   "outputs": [
    {
     "data": {
      "text/plain": [
       "a    300\n",
       "b    900\n",
       "c    102\n",
       "d    103\n",
       "e    104\n",
       "dtype: int32"
      ]
     },
     "execution_count": 11,
     "metadata": {},
     "output_type": "execute_result"
    }
   ],
   "source": [
    "# 여러개의 값을 한꺼번에 update 가능\n",
    "s[['a', 'b']] = [300, 900]   # list, tuple, array \n",
    "s"
   ]
  },
  {
   "cell_type": "markdown",
   "id": "9542f806",
   "metadata": {},
   "source": [
    "# **Slicing**\n",
    " - 리스트, ndarray와 동일하게 적용\n",
    " - index 가 문자열인 경우 slicing 시 마지막도 포함 (ndarray 와 차이점!)"
   ]
  },
  {
   "cell_type": "code",
   "execution_count": 12,
   "id": "8e74e013",
   "metadata": {},
   "outputs": [
    {
     "data": {
      "text/plain": [
       "0    100\n",
       "1    101\n",
       "2    102\n",
       "3    103\n",
       "4    104\n",
       "dtype: int32"
      ]
     },
     "execution_count": 12,
     "metadata": {},
     "output_type": "execute_result"
    }
   ],
   "source": [
    "s1 = pd.Series(np.arange(100, 105))\n",
    "s1"
   ]
  },
  {
   "cell_type": "code",
   "execution_count": 13,
   "id": "0a70c392",
   "metadata": {},
   "outputs": [
    {
     "data": {
      "text/plain": [
       "1    101\n",
       "2    102\n",
       "dtype: int32"
      ]
     },
     "execution_count": 13,
     "metadata": {},
     "output_type": "execute_result"
    }
   ],
   "source": [
    "s1[1:3]   # index 1 부터 2 까지\n",
    "\n",
    "# 이와 같이 '숫자-base' 인 인덱스는 기존의 slicing 방식대로 사용 가능"
   ]
  },
  {
   "cell_type": "code",
   "execution_count": 14,
   "id": "de7244b3",
   "metadata": {},
   "outputs": [
    {
     "data": {
      "text/plain": [
       "a    100\n",
       "b    101\n",
       "c    102\n",
       "d    103\n",
       "e    104\n",
       "dtype: int32"
      ]
     },
     "execution_count": 14,
     "metadata": {},
     "output_type": "execute_result"
    }
   ],
   "source": [
    "# 문자기반의 인덱스는 어떠할까?\n",
    "s2 = pd.Series(np.arange(100, 105), ['a', 'b', 'c', 'd', 'e'])\n",
    "s2"
   ]
  },
  {
   "cell_type": "code",
   "execution_count": 15,
   "id": "3d651b99",
   "metadata": {},
   "outputs": [
    {
     "data": {
      "text/plain": [
       "101"
      ]
     },
     "execution_count": 15,
     "metadata": {},
     "output_type": "execute_result"
    }
   ],
   "source": [
    "s2['b']"
   ]
  },
  {
   "cell_type": "code",
   "execution_count": 18,
   "id": "59e219ac",
   "metadata": {},
   "outputs": [
    {
     "data": {
      "text/plain": [
       "101"
      ]
     },
     "execution_count": 18,
     "metadata": {},
     "output_type": "execute_result"
    }
   ],
   "source": [
    "s2.iloc[1]  # 헐 동작한다???"
   ]
  },
  {
   "cell_type": "code",
   "execution_count": 19,
   "id": "d47fd6f8",
   "metadata": {},
   "outputs": [
    {
     "data": {
      "text/plain": [
       "b    101\n",
       "c    102\n",
       "dtype: int32"
      ]
     },
     "execution_count": 19,
     "metadata": {},
     "output_type": "execute_result"
    }
   ],
   "source": [
    "s2[1:3] # 으잉? 된다!!?"
   ]
  },
  {
   "cell_type": "code",
   "execution_count": 20,
   "id": "5375ae3b",
   "metadata": {},
   "outputs": [],
   "source": [
    "# 인덱스가 숫자타입이 아닌경우, 0-base 인덱싱, 슬라이싱 사용 가능"
   ]
  },
  {
   "cell_type": "code",
   "execution_count": 21,
   "id": "a71dc714",
   "metadata": {},
   "outputs": [
    {
     "data": {
      "text/plain": [
       "a    100\n",
       "c    101\n",
       "b    102\n",
       "d    103\n",
       "e    104\n",
       "dtype: int32"
      ]
     },
     "execution_count": 21,
     "metadata": {},
     "output_type": "execute_result"
    }
   ],
   "source": [
    "s2 = pd.Series(np.arange(100, 105), ['a', 'c', 'b', 'd', 'e'])  # '순서' 를 변경해 보아도\n",
    "s2"
   ]
  },
  {
   "cell_type": "code",
   "execution_count": 22,
   "id": "426c60b7",
   "metadata": {},
   "outputs": [
    {
     "data": {
      "text/plain": [
       "c    101\n",
       "b    102\n",
       "dtype: int32"
      ]
     },
     "execution_count": 22,
     "metadata": {},
     "output_type": "execute_result"
    }
   ],
   "source": [
    "s2[1:3]   # 0-base 인덱싱 잘 동작"
   ]
  },
  {
   "cell_type": "code",
   "execution_count": 23,
   "id": "726d860b",
   "metadata": {},
   "outputs": [
    {
     "data": {
      "text/plain": [
       "c    101\n",
       "b    102\n",
       "d    103\n",
       "dtype: int32"
      ]
     },
     "execution_count": 23,
     "metadata": {},
     "output_type": "execute_result"
    }
   ],
   "source": [
    "# 문자기반 인덱스 사용시 슬라이싱\n",
    "s2['c':'d']\n",
    "\n",
    "# 문자열로 작성된 슬라이싱의 경우, '마지막' 도 포함이 된다!"
   ]
  },
  {
   "cell_type": "code",
   "execution_count": 24,
   "id": "09cc62aa",
   "metadata": {},
   "outputs": [
    {
     "data": {
      "text/plain": [
       "Series([], dtype: int32)"
      ]
     },
     "execution_count": 24,
     "metadata": {},
     "output_type": "execute_result"
    }
   ],
   "source": [
    "s2['b':'c']"
   ]
  },
  {
   "cell_type": "code",
   "execution_count": 25,
   "id": "2dbcc30f",
   "metadata": {},
   "outputs": [
    {
     "data": {
      "text/plain": [
       "b    102\n",
       "c    101\n",
       "dtype: int32"
      ]
     },
     "execution_count": 25,
     "metadata": {},
     "output_type": "execute_result"
    }
   ],
   "source": [
    "s2['b':'c':-1]"
   ]
  },
  {
   "cell_type": "code",
   "execution_count": null,
   "id": "c5cfb115",
   "metadata": {},
   "outputs": [],
   "source": []
  },
  {
   "cell_type": "markdown",
   "id": "d2baf979",
   "metadata": {},
   "source": [
    "# Multi level index"
   ]
  },
  {
   "cell_type": "markdown",
   "id": "07755f3d",
   "metadata": {},
   "source": [
    "#### xs() 를 사용한 인덱스\n",
    "cross-section\n",
    "\n",
    "axis = 0, level = 0"
   ]
  },
  {
   "cell_type": "markdown",
   "id": "18331b17",
   "metadata": {},
   "source": [
    "## Series 에서 level 별 계산 "
   ]
  }
 ],
 "metadata": {
  "kernelspec": {
   "display_name": "Python 3 (ipykernel)",
   "language": "python",
   "name": "python3"
  },
  "language_info": {
   "codemirror_mode": {
    "name": "ipython",
    "version": 3
   },
   "file_extension": ".py",
   "mimetype": "text/x-python",
   "name": "python",
   "nbconvert_exporter": "python",
   "pygments_lexer": "ipython3",
   "version": "3.11.4"
  }
 },
 "nbformat": 4,
 "nbformat_minor": 5
}

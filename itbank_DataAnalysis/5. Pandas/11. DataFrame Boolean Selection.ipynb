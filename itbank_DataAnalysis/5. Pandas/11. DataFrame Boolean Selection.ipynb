{
 "cells": [
  {
   "cell_type": "markdown",
   "id": "ab4ece22",
   "metadata": {},
   "source": [
    "# boolean selection으로 row 선택하기\n",
    " - numpy에서와 동일한 방식으로 해당 조건에 맞는 row만 선택"
   ]
  },
  {
   "cell_type": "markdown",
   "id": "2752837b",
   "metadata": {},
   "source": [
    "### Q] 나이 30대이면서 1등객실에 탑승한 승객들 선택하기"
   ]
  }
 ],
 "metadata": {
  "kernelspec": {
   "display_name": "Python 3 (ipykernel)",
   "language": "python",
   "name": "python3"
  },
  "language_info": {
   "codemirror_mode": {
    "name": "ipython",
    "version": 3
   },
   "file_extension": ".py",
   "mimetype": "text/x-python",
   "name": "python",
   "nbconvert_exporter": "python",
   "pygments_lexer": "ipython3",
   "version": "3.11.4"
  }
 },
 "nbformat": 4,
 "nbformat_minor": 5
}

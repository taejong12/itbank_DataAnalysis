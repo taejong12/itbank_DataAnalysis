{
 "cells": [
  {
   "cell_type": "markdown",
   "id": "552452e5",
   "metadata": {},
   "source": [
    "# pivot, pd.pivot_table 함수"
   ]
  },
  {
   "cell_type": "markdown",
   "id": "46d1c048",
   "metadata": {},
   "source": [
    "## transpose(),  T\n",
    "- row ↔ column 이 바뀐 형태 \n",
    "- 전치행렬"
   ]
  },
  {
   "cell_type": "markdown",
   "id": "5257f6a7",
   "metadata": {},
   "source": [
    "# pivot() \n",
    " - dataframe의 형태를 변경\n",
    " - 인덱스, 컬럼, 데이터로 사용할 컬럼을 명시"
   ]
  },
  {
   "cell_type": "markdown",
   "id": "6ea1a47a",
   "metadata": {},
   "source": [
    "# pd.pivot_table()\n",
    " - 기능적으로 pivot과 동일\n",
    " - pivot과의 차이점\n",
    "   - 중복되는 모호한 값이 있을 경우, aggregation 함수 사용하여 값을 채움"
   ]
  },
  {
   "cell_type": "markdown",
   "id": "f0ebfc06",
   "metadata": {},
   "source": [
    "##### 컬럼순서를 바꾸고싶다"
   ]
  }
 ],
 "metadata": {
  "kernelspec": {
   "display_name": "Python 3 (ipykernel)",
   "language": "python",
   "name": "python3"
  },
  "language_info": {
   "codemirror_mode": {
    "name": "ipython",
    "version": 3
   },
   "file_extension": ".py",
   "mimetype": "text/x-python",
   "name": "python",
   "nbconvert_exporter": "python",
   "pygments_lexer": "ipython3",
   "version": "3.11.4"
  }
 },
 "nbformat": 4,
 "nbformat_minor": 5
}

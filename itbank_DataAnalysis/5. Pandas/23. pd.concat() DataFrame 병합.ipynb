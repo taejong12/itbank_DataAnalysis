{
 "cells": [
  {
   "cell_type": "markdown",
   "id": "43b48a9b",
   "metadata": {},
   "source": [
    "# pd.concat()\n",
    "DataFrame 병합시키기"
   ]
  },
  {
   "cell_type": "markdown",
   "id": "1c0bf3b9",
   "metadata": {},
   "source": [
    "## pd.concat() 함수 사용하여 dataframe 병합하기\n",
    " - pandas.concat 함수\n",
    " - 축(axis)을 따라 dataframe을 병합 가능\n",
    "   - axis = 0 → 행단위 병합 (디폴트)\n",
    "   - axis = 1 → 열단위 병합"
   ]
  },
  {
   "cell_type": "markdown",
   "id": "534257b1",
   "metadata": {},
   "source": [
    "### column / index 가 같은 경우  pd.concat 하기()"
   ]
  },
  {
   "cell_type": "markdown",
   "id": "2f854d8d",
   "metadata": {},
   "source": [
    "### column / index 가 다른 경우  pd.concat 하기()"
   ]
  }
 ],
 "metadata": {
  "kernelspec": {
   "display_name": "Python 3 (ipykernel)",
   "language": "python",
   "name": "python3"
  },
  "language_info": {
   "codemirror_mode": {
    "name": "ipython",
    "version": 3
   },
   "file_extension": ".py",
   "mimetype": "text/x-python",
   "name": "python",
   "nbconvert_exporter": "python",
   "pygments_lexer": "ipython3",
   "version": "3.11.4"
  }
 },
 "nbformat": 4,
 "nbformat_minor": 5
}

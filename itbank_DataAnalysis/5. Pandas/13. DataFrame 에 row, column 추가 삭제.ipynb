{
 "cells": [
  {
   "cell_type": "markdown",
   "id": "429a9eb2",
   "metadata": {},
   "source": [
    "# Row, Column 추가 / 삭제"
   ]
  },
  {
   "cell_type": "markdown",
   "id": "334ae911",
   "metadata": {},
   "source": [
    "## 새 column 추가하기\n",
    " - [] 사용하여 추가하기\n",
    " - insert 함수 사용하여 원하는 위치에 추가하기"
   ]
  },
  {
   "cell_type": "markdown",
   "id": "227493a1",
   "metadata": {},
   "source": [
    "### insert() \n",
    "원하는 위치에 컬럼 추가"
   ]
  },
  {
   "cell_type": "markdown",
   "id": "484d960c",
   "metadata": {},
   "source": [
    "## column 삭제하기\n",
    " - drop 함수 사용하여 삭제\n",
    "   - axis= 사용\n",
    "   - 리스트를 사용하여 멀티플 삭제 가능 "
   ]
  },
  {
   "cell_type": "markdown",
   "id": "34a67a18",
   "metadata": {},
   "source": [
    "## 행 (row) 추가 삭제\n",
    "- 추가 loc[]\n",
    "- 삭제 drop()"
   ]
  },
  {
   "cell_type": "markdown",
   "id": "af25a0d0",
   "metadata": {},
   "source": [
    "#### 행 삽입"
   ]
  }
 ],
 "metadata": {
  "kernelspec": {
   "display_name": "Python 3 (ipykernel)",
   "language": "python",
   "name": "python3"
  },
  "language_info": {
   "codemirror_mode": {
    "name": "ipython",
    "version": 3
   },
   "file_extension": ".py",
   "mimetype": "text/x-python",
   "name": "python",
   "nbconvert_exporter": "python",
   "pygments_lexer": "ipython3",
   "version": "3.11.4"
  }
 },
 "nbformat": 4,
 "nbformat_minor": 5
}

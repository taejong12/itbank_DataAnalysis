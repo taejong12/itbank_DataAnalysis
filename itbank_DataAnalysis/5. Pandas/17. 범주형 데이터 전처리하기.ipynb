{
 "cells": [
  {
   "cell_type": "markdown",
   "id": "ff813f8d",
   "metadata": {},
   "source": [
    "# One-hot encoding\n",
    "범주형(Categorical) 데이터 전처리하기"
   ]
  },
  {
   "cell_type": "markdown",
   "id": "5699b770",
   "metadata": {},
   "source": [
    "## One-hot encoding\n",
    " - 범주형 데이터는 분석단계에서 계산이 어렵기 때문에 숫자형으로 변경이 필요함\n",
    " - 범주형 데이터의 각 범주(category)를 column레벨로 변경\n",
    " - 해당 범주에 해당하면 1, 아니면 0으로 채우는 인코딩 기법\n",
    " - pandas.get_dummies 함수 사용\n",
    "   - drop_first : 첫번째 카테고리 값은 사용하지 않음"
   ]
  },
  {
   "cell_type": "markdown",
   "id": "2d3dd29c",
   "metadata": {},
   "source": [
    "### 리스트의 형태로 one-hot encoding 만들기\n",
    "- 컬럼을 추가하는 방식이 아닌 list 형태의 one-hot encoding\n",
    "- 수동으로 만들어야 하는 경우도 제법 있다"
   ]
  }
 ],
 "metadata": {
  "kernelspec": {
   "display_name": "Python 3 (ipykernel)",
   "language": "python",
   "name": "python3"
  },
  "language_info": {
   "codemirror_mode": {
    "name": "ipython",
    "version": 3
   },
   "file_extension": ".py",
   "mimetype": "text/x-python",
   "name": "python",
   "nbconvert_exporter": "python",
   "pygments_lexer": "ipython3",
   "version": "3.11.4"
  }
 },
 "nbformat": 4,
 "nbformat_minor": 5
}

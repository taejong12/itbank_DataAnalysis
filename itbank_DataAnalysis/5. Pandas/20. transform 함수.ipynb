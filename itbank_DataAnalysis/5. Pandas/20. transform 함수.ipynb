{
 "cells": [
  {
   "cell_type": "markdown",
   "id": "7e2fd894",
   "metadata": {},
   "source": [
    "# transform() 함수"
   ]
  },
  {
   "cell_type": "markdown",
   "id": "2362f0f4",
   "metadata": {},
   "source": [
    "#### transform() 함수\n",
    " - groupby 후 transform 함수를 사용하면 원래의 index를 유지한 상태로 통계함수를 적용\n",
    " - 전체 데이터의 집계가 아닌 각 그룹에서의 집계를 계산\n",
    " - 따라서 새로 생성된 데이터를 원본 dataframe과 합치기 쉬움"
   ]
  }
 ],
 "metadata": {
  "kernelspec": {
   "display_name": "Python 3 (ipykernel)",
   "language": "python",
   "name": "python3"
  },
  "language_info": {
   "codemirror_mode": {
    "name": "ipython",
    "version": 3
   },
   "file_extension": ".py",
   "mimetype": "text/x-python",
   "name": "python",
   "nbconvert_exporter": "python",
   "pygments_lexer": "ipython3",
   "version": "3.11.4"
  }
 },
 "nbformat": 4,
 "nbformat_minor": 5
}

{
 "cells": [
  {
   "cell_type": "markdown",
   "id": "141592b3",
   "metadata": {},
   "source": [
    "# DataFrame 생성하기\n",
    " - 일반적으로 분석을 위한 데이터는 다른 데이터 소스(database, 외부 파일)을 통해 dataframe을 생성\n",
    " - 여기서는 실습을 통해, dummy 데이터를 생성하는 방법을 다룰 예정"
   ]
  },
  {
   "cell_type": "markdown",
   "id": "1f705310",
   "metadata": {},
   "source": [
    "###  list 와 같은 array-like 객체로부터 DataFrame 생성\n",
    "list, tuple, array.."
   ]
  },
  {
   "cell_type": "markdown",
   "id": "64f2b58a",
   "metadata": {},
   "source": [
    "## shape, ndim, size, len()"
   ]
  },
  {
   "cell_type": "markdown",
   "id": "caecf3c8",
   "metadata": {},
   "source": [
    "## column, index "
   ]
  },
  {
   "cell_type": "markdown",
   "id": "09b9f91d",
   "metadata": {},
   "source": [
    "#### column, index 변경\n",
    "list 나 array 등을 사용"
   ]
  },
  {
   "cell_type": "markdown",
   "id": "53a07cf9",
   "metadata": {},
   "source": [
    "## Dict 로부터 DataFrame 생성하기\n",
    "- dict 의 key -> column"
   ]
  },
  {
   "cell_type": "markdown",
   "id": "139e5795",
   "metadata": {},
   "source": [
    "##### dict 의 value 가 scalar 값인 경우"
   ]
  },
  {
   "cell_type": "markdown",
   "id": "60b4a0ab",
   "metadata": {},
   "source": [
    "##### dict 의 value 가 array-like 객체인 경우\n",
    "ex) list, tuple, array, Series ..."
   ]
  },
  {
   "cell_type": "markdown",
   "id": "8c1a9902",
   "metadata": {},
   "source": [
    "##### dict 의 value 가 dict 인 경우"
   ]
  },
  {
   "cell_type": "markdown",
   "id": "5d9156ec",
   "metadata": {},
   "source": [
    "## Series로 부터 생성하기\n",
    " - 각 Series의 인덱스 → column\n",
    " -결국 DataFrame = Series x Series x ...  (Series 가 쌓인 형태가 DataFrame)"
   ]
  },
  {
   "cell_type": "markdown",
   "id": "eb972f8d",
   "metadata": {},
   "source": [
    "## 컬럼 이름 변경 rename()"
   ]
  },
  {
   "cell_type": "markdown",
   "id": "f78ae136",
   "metadata": {},
   "source": [
    "##### 인덱스 변경"
   ]
  },
  {
   "cell_type": "markdown",
   "id": "bf618d1b",
   "metadata": {},
   "source": [
    "## set_index(), reset_index()"
   ]
  },
  {
   "cell_type": "markdown",
   "id": "6f346e5e",
   "metadata": {},
   "source": [
    "## inplace = True\n",
    "대부분의 함수들이 원본변화 안시킨다.  원본 변화 발생시키려면 **inplace=True**"
   ]
  },
  {
   "cell_type": "markdown",
   "id": "612feb2f",
   "metadata": {},
   "source": [
    "## Multi-level index, Multi-level column "
   ]
  },
  {
   "cell_type": "markdown",
   "id": "21cc1eef",
   "metadata": {},
   "source": [
    "##### [도전] 다음과 같은 DataFrame 만들기"
   ]
  },
  {
   "attachments": {
    "image.png": {
     "image/png": "[encoded data removed]"
    }
   },
   "cell_type": "markdown",
   "id": "a379fe14",
   "metadata": {},
   "source": [
    "#### 도전\n",
    "![image.png](attachment:image.png)"
   ]
  }
 ],
 "metadata": {
  "kernelspec": {
   "display_name": "Python 3 (ipykernel)",
   "language": "python",
   "name": "python3"
  },
  "language_info": {
   "codemirror_mode": {
    "name": "ipython",
    "version": 3
   },
   "file_extension": ".py",
   "mimetype": "text/x-python",
   "name": "python",
   "nbconvert_exporter": "python",
   "pygments_lexer": "ipython3",
   "version": "3.11.4"
  }
 },
 "nbformat": 4,
 "nbformat_minor": 5
}

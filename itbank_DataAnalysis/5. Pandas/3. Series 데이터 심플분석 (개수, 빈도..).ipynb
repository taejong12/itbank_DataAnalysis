{
 "cells": [
  {
   "cell_type": "markdown",
   "id": "2604875e",
   "metadata": {},
   "source": [
    "## **Series ndim, shape, size, len, unique, count, value_counts 함수**\n",
    " - size : 개수 반환\n",
    " - shape : 튜플형태로 shape반환\n",
    " - unique: 유일한 값만 ndarray로 반환\n",
    " - count : NaN을 제외한 개수를 반환\n",
    " - mean: NaN을 제외한 평균 \n",
    " - value_counts: NaN을 제외하고 각 값들의 빈도를 반환 "
   ]
  },
  {
   "cell_type": "markdown",
   "id": "a2591710",
   "metadata": {},
   "source": [
    "- numpy 와 Series 의 차이점중 하나 --> NaN 의 계산 여부"
   ]
  },
  {
   "cell_type": "markdown",
   "id": "bb07863b",
   "metadata": {},
   "source": [
    "# head, tail 함수\n",
    " - head : 상위 n개 출력 기본 5개\n",
    " - tail : 하위 n개 출력 기본 5개"
   ]
  }
 ],
 "metadata": {
  "kernelspec": {
   "display_name": "Python 3 (ipykernel)",
   "language": "python",
   "name": "python3"
  },
  "language_info": {
   "codemirror_mode": {
    "name": "ipython",
    "version": 3
   },
   "file_extension": ".py",
   "mimetype": "text/x-python",
   "name": "python",
   "nbconvert_exporter": "python",
   "pygments_lexer": "ipython3",
   "version": "3.11.4"
  }
 },
 "nbformat": 4,
 "nbformat_minor": 5
}

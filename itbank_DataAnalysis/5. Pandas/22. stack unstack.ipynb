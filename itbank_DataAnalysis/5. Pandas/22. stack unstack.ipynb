{
 "cells": [
  {
   "cell_type": "markdown",
   "id": "f7cd2cc9",
   "metadata": {},
   "source": [
    "#  stack & unstack\n",
    " - stack : 컬럼 레벨에서 인덱스 레벨(row 레벨)로 dataframe 변경\n",
    "  - 즉, 데이터를 쌓아올리는 개념으로 이해하면 쉬움\n",
    " - unstack : 인덱스 레벨에서 컬럼 레벨로 dataframe 변경\n",
    "  - stack의 반대 operation\n",
    " \n",
    " - 둘은 역의 관계에 있음"
   ]
  }
 ],
 "metadata": {
  "kernelspec": {
   "display_name": "Python 3 (ipykernel)",
   "language": "python",
   "name": "python3"
  },
  "language_info": {
   "codemirror_mode": {
    "name": "ipython",
    "version": 3
   },
   "file_extension": ".py",
   "mimetype": "text/x-python",
   "name": "python",
   "nbconvert_exporter": "python",
   "pygments_lexer": "ipython3",
   "version": "3.11.4"
  }
 },
 "nbformat": 4,
 "nbformat_minor": 5
}

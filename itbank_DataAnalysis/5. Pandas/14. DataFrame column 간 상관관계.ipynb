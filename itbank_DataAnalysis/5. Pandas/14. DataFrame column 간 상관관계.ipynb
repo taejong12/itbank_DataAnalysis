{
 "cells": [
  {
   "cell_type": "markdown",
   "id": "e01d9ef2",
   "metadata": {},
   "source": [
    "# 컬럼간 상관관계\n",
    "correlation "
   ]
  },
  {
   "cell_type": "markdown",
   "id": "18fe824f",
   "metadata": {},
   "source": [
    "#### 변수(column) 사이의 상관계수(correlation) \n",
    " - corr함수를 통해 상관계수 연산 (-1, 1 사이의 결과)\n",
    "   - 연속성(숫자형)데이터에 대해서만 연산\n",
    "   - 인과관계를 의미하진 않음"
   ]
  },
  {
   "cell_type": "markdown",
   "id": "dd681a1e",
   "metadata": {},
   "source": [
    "#### 관찰: 절댓값이 높은 것들(상관관계가 높은것)들을 찾아보자"
   ]
  }
 ],
 "metadata": {
  "kernelspec": {
   "display_name": "Python 3 (ipykernel)",
   "language": "python",
   "name": "python3"
  },
  "language_info": {
   "codemirror_mode": {
    "name": "ipython",
    "version": 3
   },
   "file_extension": ".py",
   "mimetype": "text/x-python",
   "name": "python",
   "nbconvert_exporter": "python",
   "pygments_lexer": "ipython3",
   "version": "3.11.4"
  }
 },
 "nbformat": 4,
 "nbformat_minor": 5
}

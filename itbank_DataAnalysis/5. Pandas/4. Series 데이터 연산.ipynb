{
 "cells": [
  {
   "cell_type": "markdown",
   "id": "90245057",
   "metadata": {},
   "source": [
    "# index 기준으로 연산 "
   ]
  },
  {
   "cell_type": "markdown",
   "id": "3fe3d2c4",
   "metadata": {},
   "source": [
    "# 산술연산\n",
    " - Series의 경우에도 **스칼라와의 연산** 각 원소별로 스칼라와의 연산이 적용\n",
    " - Series와의 연산은 각 인덱스에 맞는 값끼리 연산이 적용\n",
    "   - 이때, 인덱스의 pair가 맞지 않으면, 결과는 NaN "
   ]
  },
  {
   "cell_type": "markdown",
   "id": "62f49cb9",
   "metadata": {},
   "source": [
    "## **index pair가 맞지 않는 경우**\n",
    " - 해당 index에 대해선 NaN 값 생성"
   ]
  }
 ],
 "metadata": {
  "kernelspec": {
   "display_name": "Python 3 (ipykernel)",
   "language": "python",
   "name": "python3"
  },
  "language_info": {
   "codemirror_mode": {
    "name": "ipython",
    "version": 3
   },
   "file_extension": ".py",
   "mimetype": "text/x-python",
   "name": "python",
   "nbconvert_exporter": "python",
   "pygments_lexer": "ipython3",
   "version": "3.11.4"
  }
 },
 "nbformat": 4,
 "nbformat_minor": 5
}

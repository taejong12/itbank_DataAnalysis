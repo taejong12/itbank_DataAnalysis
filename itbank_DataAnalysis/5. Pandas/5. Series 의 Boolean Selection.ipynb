{
 "cells": [
  {
   "cell_type": "markdown",
   "id": "6569afdf",
   "metadata": {},
   "source": [
    " # **Boolean selection**\n",
    "  - boolean Series가 []와 함께 사용되면 True 값에 해당하는 값만 새로 반환되는 Series객체에 포함됨\n",
    "  - 다중조건의 경우, &(and), |(or)를 사용하여 연결 가능 "
   ]
  },
  {
   "cell_type": "markdown",
   "id": "59caea62",
   "metadata": {},
   "source": [
    "### 퀴즈\n",
    "s 에서 7보다 같거나 큰 값들의 들의 합은?"
   ]
  }
 ],
 "metadata": {
  "kernelspec": {
   "display_name": "Python 3 (ipykernel)",
   "language": "python",
   "name": "python3"
  },
  "language_info": {
   "codemirror_mode": {
    "name": "ipython",
    "version": 3
   },
   "file_extension": ".py",
   "mimetype": "text/x-python",
   "name": "python",
   "nbconvert_exporter": "python",
   "pygments_lexer": "ipython3",
   "version": "3.11.4"
  }
 },
 "nbformat": 4,
 "nbformat_minor": 5
}

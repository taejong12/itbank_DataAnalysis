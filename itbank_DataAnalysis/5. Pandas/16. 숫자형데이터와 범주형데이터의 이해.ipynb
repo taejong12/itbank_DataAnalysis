{
 "cells": [
  {
   "cell_type": "markdown",
   "id": "a9aa188e",
   "metadata": {},
   "source": [
    "# 숫자(numerical) & 범주형(categorical) 데이터의 이해\n",
    " - dtype 에 대한 이야기가 아니다!"
   ]
  },
  {
   "cell_type": "markdown",
   "id": "e1416a47",
   "metadata": {},
   "source": [
    "## 숫자형(Numerical Type) 데이터\n",
    " - 연속성을 띄는 숫자로 이루어진 데이터\n",
    "   - 예) Age, Fare 등\n",
    " - 대소비교, 산술연산 (평균, 합계, 중간값) 의미있슴\n",
    " \n",
    "## 범주형(Categorical Type) 데이터\n",
    " - 연속적이지 않은 값(대부분의 경우 숫자를 제외한 나머지 값)을 갖는 데이터를 의미\n",
    "   - 예) Name, Sex, Ticket, Cabin, Embarked \n",
    " - 어떤 경우, 데이터타입(dtype)이 숫자형 타입이라 할지라도 개념적으로 범주형으로 처리해야할 경우가 있음\n",
    "   - 예) Pclass, Survived   \n",
    " - 대소비교, 산술연산(평균, 합계, 중간값...) 의미없슴"
   ]
  },
  {
   "cell_type": "markdown",
   "id": "1c597ca0",
   "metadata": {},
   "source": [
    "#### Pclass 변수 변환하기\n",
    " - astype 사용하여 간단히 타입만 변환"
   ]
  },
  {
   "cell_type": "markdown",
   "id": "0fe3b3f5",
   "metadata": {},
   "source": [
    "## Age 변수 변환하기 "
   ]
  },
  {
   "cell_type": "markdown",
   "id": "05c444f6",
   "metadata": {},
   "source": [
    "### apply()  함수 사용!\n",
    "변환로직을 '함수' 로 만든뒤 적용"
   ]
  }
 ],
 "metadata": {
  "kernelspec": {
   "display_name": "Python 3 (ipykernel)",
   "language": "python",
   "name": "python3"
  },
  "language_info": {
   "codemirror_mode": {
    "name": "ipython",
    "version": 3
   },
   "file_extension": ".py",
   "mimetype": "text/x-python",
   "name": "python",
   "nbconvert_exporter": "python",
   "pygments_lexer": "ipython3",
   "version": "3.11.4"
  }
 },
 "nbformat": 4,
 "nbformat_minor": 5
}

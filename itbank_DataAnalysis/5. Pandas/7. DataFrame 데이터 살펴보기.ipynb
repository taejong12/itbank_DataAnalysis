{
 "cells": [
  {
   "cell_type": "markdown",
   "id": "e872cc58",
   "metadata": {},
   "source": [
    "# DataFrame\n",
    "  - Series가 1차원이라면 DataFrame은 2차원으로 확대된 버젼\n",
    "  - Excel spreadsheet이라고 생각하면 이해하기 쉬움\n",
    "  - 2차원이기 때문에 인덱스가 row, column로 구성됨\n",
    "   - row는 각 개별 데이터를, column은 개별 속성을 의미\n",
    "  - Data Analysis, Machine Learning에서 data 변형을 위해 가장 많이 사용"
   ]
  },
  {
   "cell_type": "markdown",
   "id": "a5cc49b4",
   "metadata": {},
   "source": [
    "## head, tail 함수\n",
    " - 데이터 전체가 아닌, 일부(처음부터, 혹은 마지막부터)를 간단히 보기 위한 함수\n",
    " - DataFrame 객체가 생성되면, 일단 가장 처음에 실행해보고 흝어보자"
   ]
  },
  {
   "cell_type": "markdown",
   "id": "7b560a72",
   "metadata": {},
   "source": [
    "## DataFrame 데이터 파악하기\n",
    " - shape 속성 (row, column)\n",
    " - describe 함수 - 숫자형 데이터의 통계치 계산  (descriptive statistics : 기술통계량)\n",
    " - info 함수 - 데이터 타입, 각 아이템의 개수 등 출력"
   ]
  },
  {
   "cell_type": "markdown",
   "id": "4a945a43",
   "metadata": {},
   "source": [
    "# DataFrame 의 구조 살펴보기\n",
    "row x column"
   ]
  },
  {
   "cell_type": "markdown",
   "id": "d2a75cc2",
   "metadata": {},
   "source": [
    "## 인덱스(index)\n",
    " - index 속성\n",
    " - 각 아이템을 특정할 수 있는 고유의 값을 저장\n",
    " - 복잡한 데이터의 경우, 멀티 인덱스로 표현 가능"
   ]
  },
  {
   "cell_type": "markdown",
   "id": "c5c076fe",
   "metadata": {},
   "source": [
    "## 컬럼(column)\n",
    " - columns 속성\n",
    " - 각각의 특성(feature)을 나타냄\n",
    " - 복잡한 데이터의 경우, 멀티 컬럼으로 표현 가능"
   ]
  },
  {
   "cell_type": "markdown",
   "id": "04bf9286",
   "metadata": {},
   "source": [
    "## .values\n",
    "DataFrame  **row** 데이터들의 2차원 array"
   ]
  }
 ],
 "metadata": {
  "kernelspec": {
   "display_name": "Python 3 (ipykernel)",
   "language": "python",
   "name": "python3"
  },
  "language_info": {
   "codemirror_mode": {
    "name": "ipython",
    "version": 3
   },
   "file_extension": ".py",
   "mimetype": "text/x-python",
   "name": "python",
   "nbconvert_exporter": "python",
   "pygments_lexer": "ipython3",
   "version": "3.11.4"
  }
 },
 "nbformat": 4,
 "nbformat_minor": 5
}

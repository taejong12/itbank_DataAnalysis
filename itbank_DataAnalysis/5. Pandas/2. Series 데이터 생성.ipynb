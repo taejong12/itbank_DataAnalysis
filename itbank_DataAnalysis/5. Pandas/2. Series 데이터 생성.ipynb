{
 "cells": [
  {
   "cell_type": "markdown",
   "id": "ed59f07b",
   "metadata": {},
   "source": [
    "# Series\n",
    "  - pandas의 기본 객체 중 하나\n",
    "  - numpy의 ndarray를 기반으로 **인덱싱 기능**이 추가된 **1차원 배열**을 나타냄 (index x value 의 형태)\n",
    "  - index를 지정하지 않을 시, 기본적으로 ndarray와 같이 0-based 인덱스 생성, 지정할 경우 명시적으로 지정된 index를 사용\n",
    "  - **같은 타입**의 0개 이상의 데이터를 가질 수 있음"
   ]
  },
  {
   "cell_type": "markdown",
   "id": "59938d2d",
   "metadata": {},
   "source": [
    "## Series 생성 : data로만 생성하기\n",
    " - index는 기본적으로 0부터 자동적으로 생성"
   ]
  },
  {
   "cell_type": "markdown",
   "id": "08d6a897",
   "metadata": {},
   "source": [
    "#### .values .index .dtype"
   ]
  },
  {
   "cell_type": "markdown",
   "id": "9e5388d8",
   "metadata": {},
   "source": [
    "## Series 생성: data, index 함께 명시하여 생성"
   ]
  },
  {
   "cell_type": "markdown",
   "id": "9802240d",
   "metadata": {},
   "source": [
    "##  dtype 명시하여 생성 "
   ]
  },
  {
   "cell_type": "markdown",
   "id": "5858bd4e",
   "metadata": {},
   "source": [
    "## 인덱스 활용"
   ]
  },
  {
   "cell_type": "markdown",
   "id": "cbc3d486",
   "metadata": {},
   "source": [
    "#### 1.인덱스를 통한 데이터 접근"
   ]
  },
  {
   "cell_type": "markdown",
   "id": "18d42dd4",
   "metadata": {},
   "source": [
    "### 2. 인덱스를 통한 데이터 업데이트"
   ]
  },
  {
   "cell_type": "markdown",
   "id": "701ebe64",
   "metadata": {},
   "source": [
    "### 3. 인덱스 재사용하기"
   ]
  },
  {
   "cell_type": "markdown",
   "id": "eb9febe8",
   "metadata": {},
   "source": [
    "### Series name, Index name, Index 변경"
   ]
  }
 ],
 "metadata": {
  "kernelspec": {
   "display_name": "Python 3 (ipykernel)",
   "language": "python",
   "name": "python3"
  },
  "language_info": {
   "codemirror_mode": {
    "name": "ipython",
    "version": 3
   },
   "file_extension": ".py",
   "mimetype": "text/x-python",
   "name": "python",
   "nbconvert_exporter": "python",
   "pygments_lexer": "ipython3",
   "version": "3.11.4"
  }
 },
 "nbformat": 4,
 "nbformat_minor": 5
}

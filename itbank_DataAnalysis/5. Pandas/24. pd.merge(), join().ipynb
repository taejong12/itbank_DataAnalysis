{
 "cells": [
  {
   "cell_type": "markdown",
   "id": "dbfb0ce8",
   "metadata": {},
   "source": [
    "# pd.merge() , join()\n",
    "데이터프레임 병합과 조인 "
   ]
  },
  {
   "cell_type": "code",
   "execution_count": 1,
   "id": "eb13dbef",
   "metadata": {},
   "outputs": [],
   "source": [
    "import numpy as np\n",
    "import pandas as pd"
   ]
  },
  {
   "cell_type": "markdown",
   "id": "5f686c8f",
   "metadata": {},
   "source": [
    "#### dataframe merge\n",
    " - SQL의 join처럼 특정한 column을 기준으로 병합\n",
    "   - join 방식: how 파라미터를 통해 명시\n",
    "     - inner: 기본값, 일치하는 값이 있는 경우 \n",
    "     - left: left outer join\n",
    "     - right: right outer join\n",
    "     - outer: full outer join\n",
    "     \n",
    " - pandas.merge 함수가 사용됨"
   ]
  },
  {
   "cell_type": "markdown",
   "id": "3af71dc0",
   "metadata": {},
   "source": [
    "#### on= \n",
    " - join 대상이 되는 column 명시"
   ]
  },
  {
   "cell_type": "markdown",
   "id": "6e3580aa",
   "metadata": {},
   "source": [
    "### index 기준으로 merge 하기"
   ]
  },
  {
   "attachments": {
    "image-2.png": {
     "image/png": "[encoded data removed]"
    },
    "image.png": {
     "image/png": "[encoded data removed]"
    }
   },
   "cell_type": "markdown",
   "id": "0c583aa2",
   "metadata": {},
   "source": [
    "---\n",
    "# 연습문제\n",
    "1. 가장 많이 팔린 아이템은?\n",
    "![image-2.png](attachment:image-2.png)\n",
    "2. 영희가 가장 많이 구매한 아이템은?\n",
    "![image.png](attachment:image.png)\n",
    "\n",
    "※ hint : groupby() x merge() 활용"
   ]
  },
  {
   "cell_type": "markdown",
   "id": "423dc627",
   "metadata": {},
   "source": [
    "###### 1. 가장 많이 팔린 아이템은?"
   ]
  },
  {
   "cell_type": "markdown",
   "id": "65b30fc2",
   "metadata": {},
   "source": [
    "######  2. 영희가 가장 많이 구매한 아이템은?"
   ]
  },
  {
   "cell_type": "markdown",
   "id": "19bdc7c5",
   "metadata": {},
   "source": [
    "---\n",
    "# join() 함수\n",
    " - 내부적으로 pd.merge 함수 사용\n",
    " - 기본적으로 index를 사용하여 left join (디폴트)"
   ]
  }
 ],
 "metadata": {
  "kernelspec": {
   "display_name": "Python 3 (ipykernel)",
   "language": "python",
   "name": "python3"
  },
  "language_info": {
   "codemirror_mode": {
    "name": "ipython",
    "version": 3
   },
   "file_extension": ".py",
   "mimetype": "text/x-python",
   "name": "python",
   "nbconvert_exporter": "python",
   "pygments_lexer": "ipython3",
   "version": "3.11.4"
  }
 },
 "nbformat": 4,
 "nbformat_minor": 5
}

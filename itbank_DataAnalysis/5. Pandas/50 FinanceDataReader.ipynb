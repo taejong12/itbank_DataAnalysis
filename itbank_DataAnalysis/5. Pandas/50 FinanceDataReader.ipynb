{
 "cells": [
  {
   "cell_type": "markdown",
   "id": "25b4179e",
   "metadata": {},
   "source": [
    "<img src = \"https://camo.githubusercontent.com/af0b9a2842b195a48daf9aaf1ae9b2ece867ef9e/68747470733a2f2f692e696d6775722e636f6d2f723059453558732e706e67\"><bf>\n",
    "한국 주식 가격, 미국주식 가격, 지수, 환율, 암호화폐 가격, 종목 리스팅 등 금융 데이터 수집 라이브러리<br><br>\n",
    "    \n",
    "# FinanceDataReader \n",
    "Github  https://github.com/FinanceData/FinanceDataReader  <br>\n",
    "FaceBook https://www.facebook.com/financedata  <br>\n",
    "최신 업뎃 (0.7.1) node   https://github.com/FinanceData/FinanceDataReader/wiki/Release-Note-0.7.1?fbclid=IwAR0copSbDQiaZu-p44ntPqu9KK_GA5BLgm-DCj7VCNiX_QDX3ZxTniXQHcI <br>\n",
    "\n",
    "UserGuide https://github.com/FinanceData/FinanceDataReader/wiki/Users-Guide <br>\n",
    "symbol https://github.com/FinanceData/FinanceDataReader/wiki/Quick-Reference <br>"
   ]
  },
  {
   "cell_type": "markdown",
   "id": "b60c69fb",
   "metadata": {},
   "source": [
    "## Overview\n",
    "\n",
    "FinanceDataReader 는 과거의 pandas-datareader 를 대체하기 위해 제작됨.  주요 특징은 아래와 같다\n",
    "\n",
    "<ul>\n",
    "    <li>Stock price(Word wide): AAPL, AMZN, GOOG ...   (종목별 주가: 세계)</li>\n",
    "    <li>Stock price(KRX): 005930(Samsung), 091990(Celltrion Healthcare) ... (종목별주가: 한국)</li>\n",
    "    <li>Indexes: KOSPI, KOSDAQ, DJI, IXIC, US500(S&P 500) ... (주요 지수들)</li>\n",
    "    <li>Exchanges: USD/KRX, USD/EUR, CNY/KRW ... (환율)</li>\n",
    "    <li>Cryptocurrency: BTC/USD (Bitfinex), BTC/KRW (Bithumb)  (가상화폐)</li>\n",
    "    <li>Symbol listings: KRX (KOSPI, KODAQ, KONEX), NASDAQ, NYSE, AMEX and S&P 500 ( ???? )</li>\n",
    "</ul>"
   ]
  },
  {
   "cell_type": "markdown",
   "id": "34e4537c",
   "metadata": {},
   "source": [
    "> 설치: \n",
    "```\n",
    "pip install finance_datareader\n",
    "pip install plotly\n",
    "```"
   ]
  },
  {
   "cell_type": "markdown",
   "id": "7d8010c6",
   "metadata": {},
   "source": [
    "### DataReader : 종목, 날짜"
   ]
  },
  {
   "cell_type": "markdown",
   "id": "d8481e3c",
   "metadata": {},
   "source": [
    "#### country 코드"
   ]
  }
 ],
 "metadata": {
  "kernelspec": {
   "display_name": "Python 3 (ipykernel)",
   "language": "python",
   "name": "python3"
  },
  "language_info": {
   "codemirror_mode": {
    "name": "ipython",
    "version": 3
   },
   "file_extension": ".py",
   "mimetype": "text/x-python",
   "name": "python",
   "nbconvert_exporter": "python",
   "pygments_lexer": "ipython3",
   "version": "3.11.4"
  }
 },
 "nbformat": 4,
 "nbformat_minor": 5
}
